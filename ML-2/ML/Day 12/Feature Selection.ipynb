{
 "cells": [
  {
   "cell_type": "markdown",
   "id": "05584992",
   "metadata": {},
   "source": [
    "# Feature Selection - Univariate"
   ]
  },
  {
   "cell_type": "code",
   "execution_count": 3,
   "id": "6c3cfabf",
   "metadata": {},
   "outputs": [],
   "source": [
    "from sklearn.datasets import load_breast_cancer\n",
    "from sklearn.feature_selection import SelectPercentile,SelectKBest\n",
    "from sklearn.model_selection import train_test_split\n",
    "import matplotlib.pyplot as plt\n",
    "import pandas as pd\n",
    "import numpy as np"
   ]
  },
  {
   "cell_type": "code",
   "execution_count": 5,
   "id": "950a91d3",
   "metadata": {},
   "outputs": [],
   "source": [
    "cancer=load_breast_cancer()"
   ]
  },
  {
   "cell_type": "code",
   "execution_count": 6,
   "id": "e711cdb3",
   "metadata": {},
   "outputs": [
    {
     "name": "stdout",
     "output_type": "stream",
     "text": [
      "(569, 30)\n"
     ]
    }
   ],
   "source": [
    "print(cancer.data.shape)"
   ]
  },
  {
   "cell_type": "code",
   "execution_count": 9,
   "id": "069a4f86",
   "metadata": {},
   "outputs": [],
   "source": [
    "#get deterministic random numbers\n",
    "rng=np.random.RandomState(42)\n",
    "noise=rng.normal(size=(len(cancer.data),50))"
   ]
  },
  {
   "cell_type": "code",
   "execution_count": 10,
   "id": "d96742cf",
   "metadata": {},
   "outputs": [
    {
     "name": "stdout",
     "output_type": "stream",
     "text": [
      "(569, 50)\n"
     ]
    }
   ],
   "source": [
    "print(noise.data.shape)"
   ]
  },
  {
   "cell_type": "code",
   "execution_count": 11,
   "id": "fea5a25e",
   "metadata": {},
   "outputs": [],
   "source": [
    "#add noise features to data\n",
    "#the first 30 features are from the dataset, the next 50 are noise\n",
    "X_w_noise=np.hstack([cancer.data,noise])"
   ]
  },
  {
   "cell_type": "code",
   "execution_count": 12,
   "id": "bd450ffc",
   "metadata": {},
   "outputs": [
    {
     "name": "stdout",
     "output_type": "stream",
     "text": [
      "(569, 80)\n"
     ]
    }
   ],
   "source": [
    "print(X_w_noise.data.shape)"
   ]
  },
  {
   "cell_type": "code",
   "execution_count": 32,
   "id": "ca040708",
   "metadata": {},
   "outputs": [],
   "source": [
    "x_train,x_test,y_train,y_test=train_test_split(X_w_noise,cancer.target,random_state=0,test_size=.2)"
   ]
  },
  {
   "cell_type": "code",
   "execution_count": 37,
   "id": "88352f46",
   "metadata": {},
   "outputs": [
    {
     "data": {
      "text/plain": [
       "SelectKBest()"
      ]
     },
     "execution_count": 37,
     "metadata": {},
     "output_type": "execute_result"
    }
   ],
   "source": [
    "#select=SelectPercentile(percentile=30)\n",
    "select=SelectKBest(k=10)\n",
    "select.fit(x_train,y_train)"
   ]
  },
  {
   "cell_type": "code",
   "execution_count": 38,
   "id": "767c32b7",
   "metadata": {},
   "outputs": [
    {
     "name": "stdout",
     "output_type": "stream",
     "text": [
      "X_train.shape: (455, 80)\n",
      "X_train_selected.shape: (455, 10)\n"
     ]
    }
   ],
   "source": [
    "#transform training set\n",
    "x_train_selected=select.transform(x_train)\n",
    "print(\"X_train.shape: {}\".format(x_train.shape))\n",
    "print(\"X_train_selected.shape: {}\".format(x_train_selected.shape))"
   ]
  },
  {
   "cell_type": "code",
   "execution_count": 39,
   "id": "2abd502d",
   "metadata": {},
   "outputs": [
    {
     "name": "stdout",
     "output_type": "stream",
     "text": [
      "[ True False  True  True False False  True  True False False False False\n",
      " False False False False False False False False  True False  True  True\n",
      " False False  True  True False False False False False False False False\n",
      " False False False False False False False False False False False False\n",
      " False False False False False False False False False False False False\n",
      " False False False False False False False False False False False False\n",
      " False False False False False False False False]\n"
     ]
    },
    {
     "data": {
      "text/plain": [
       "([], [])"
      ]
     },
     "execution_count": 39,
     "metadata": {},
     "output_type": "execute_result"
    },
    {
     "data": {
      "image/png": "[encoded data removed]",
      "text/plain": [
       "<Figure size 1152x144 with 1 Axes>"
      ]
     },
     "metadata": {
      "needs_background": "light"
     },
     "output_type": "display_data"
    }
   ],
   "source": [
    "mask=select.get_support()\n",
    "print(mask)\n",
    "#visualize the mask -- red is True, white is False\n",
    "plt.matshow(mask.reshape(1,-1),cmap='Reds')\n",
    "plt.xlabel(\"Sample Index\")\n",
    "plt.yticks(())"
   ]
  },
  {
   "cell_type": "code",
   "execution_count": 40,
   "id": "7057e21c",
   "metadata": {},
   "outputs": [
    {
     "name": "stdout",
     "output_type": "stream",
     "text": [
      "Score with all features: 0.930\n",
      "Score with selected features: 0.939\n"
     ]
    }
   ],
   "source": [
    "from sklearn.tree import DecisionTreeClassifier\n",
    "#transform test data\n",
    "x_test_selected=select.transform(x_test)\n",
    "lr=DecisionTreeClassifier()\n",
    "lr.fit(x_train,y_train)\n",
    "print(\"Score with all features: {:.3f}\".format(lr.score(x_test,y_test)))\n",
    "lr.fit(x_train_selected,y_train)\n",
    "print(\"Score with selected features: {:.3f}\".format(lr.score(x_test_selected,y_test)))"
   ]
  },
  {
   "cell_type": "markdown",
   "id": "9f8fc1e8",
   "metadata": {},
   "source": [
    "# Feature Selection - Model Based"
   ]
  },
  {
   "cell_type": "code",
   "execution_count": 60,
   "id": "c472f5e3",
   "metadata": {},
   "outputs": [],
   "source": [
    "from sklearn.feature_selection import SelectFromModel\n",
    "from sklearn.svm import SVC\n",
    "from sklearn.ensemble import RandomForestClassifier\n",
    "select=SelectFromModel(RandomForestClassifier(n_estimators=20,random_state=42),threshold=\"median\")"
   ]
  },
  {
   "cell_type": "code",
   "execution_count": 61,
   "id": "848fe2af",
   "metadata": {},
   "outputs": [],
   "source": [
    "#Select from model"
   ]
  },
  {
   "cell_type": "markdown",
   "id": "e2b1b4d8",
   "metadata": {},
   "source": [
    "class selects all features that have an importance measure of the feature (as provided by the supervised model) greater than the provided threshold"
   ]
  },
  {
   "cell_type": "code",
   "execution_count": 62,
   "id": "195ddab0",
   "metadata": {},
   "outputs": [
    {
     "name": "stdout",
     "output_type": "stream",
     "text": [
      "x_train.shape: (455, 80)\n",
      "x_train_l1.shape: (455, 40)\n"
     ]
    }
   ],
   "source": [
    "select.fit(x_train,y_train)\n",
    "x_train_l1=select.transform(x_train)\n",
    "print(\"x_train.shape: {}\".format(x_train.shape))\n",
    "print(\"x_train_l1.shape: {}\".format(x_train_l1.shape))"
   ]
  },
  {
   "cell_type": "code",
   "execution_count": 63,
   "id": "11a0b1f8",
   "metadata": {},
   "outputs": [
    {
     "name": "stdout",
     "output_type": "stream",
     "text": [
      "[ True  True  True  True  True  True  True  True  True  True  True  True\n",
      "  True  True False  True  True  True False  True  True  True  True  True\n",
      "  True  True  True  True False  True  True  True False False False  True\n",
      " False  True False  True False False False  True False  True False False\n",
      " False False False  True False  True  True False False False False False\n",
      " False  True False False False False False False False False False False\n",
      "  True False False False False False False  True]\n"
     ]
    },
    {
     "data": {
      "text/plain": [
       "([], [])"
      ]
     },
     "execution_count": 63,
     "metadata": {},
     "output_type": "execute_result"
    },
    {
     "data": {
      "image/png": "[encoded data removed]",
      "text/plain": [
       "<Figure size 1152x144 with 1 Axes>"
      ]
     },
     "metadata": {
      "needs_background": "light"
     },
     "output_type": "display_data"
    }
   ],
   "source": [
    "mask=select.get_support()\n",
    "print(mask)\n",
    "#visualize the mask -- red is True, white is False\n",
    "plt.matshow(mask.reshape(1,-1),cmap='Reds')\n",
    "plt.xlabel(\"Sample Index\")\n",
    "plt.yticks(())"
   ]
  },
  {
   "cell_type": "code",
   "execution_count": 64,
   "id": "c2015ec3",
   "metadata": {},
   "outputs": [
    {
     "name": "stdout",
     "output_type": "stream",
     "text": [
      "Score with all features: 0.930\n",
      "Score with selected features: 0.930\n"
     ]
    }
   ],
   "source": [
    "#transform test data\n",
    "x_test_l1=select.transform(x_test)\n",
    "score=SVC().fit(x_train,y_train).score(x_test,y_test)\n",
    "print(\"Score with all features: {:.3f}\".format(score))\n",
    "score1=SVC().fit(x_train_l1,y_train).score(x_test_l1,y_test)\n",
    "print(\"Score with selected features: {:.3f}\".format(score1))"
   ]
  },
  {
   "cell_type": "markdown",
   "id": "4c349347",
   "metadata": {},
   "source": [
    "# Iterative Feature Selection"
   ]
  },
  {
   "cell_type": "code",
   "execution_count": 54,
   "id": "55d7d8ee",
   "metadata": {},
   "outputs": [
    {
     "data": {
      "text/plain": [
       "([], [])"
      ]
     },
     "execution_count": 54,
     "metadata": {},
     "output_type": "execute_result"
    },
    {
     "data": {
      "image/png": "[encoded data removed]",
      "text/plain": [
       "<Figure size 1152x144 with 1 Axes>"
      ]
     },
     "metadata": {
      "needs_background": "light"
     },
     "output_type": "display_data"
    }
   ],
   "source": [
    "from sklearn.feature_selection import RFE\n",
    "select=RFE(RandomForestClassifier(n_estimators=100,random_state=42),n_features_to_select=30)\n",
    "select.fit(x_train,y_train)\n",
    "#visualize the selected features\n",
    "mask=select.get_support()\n",
    "plt.matshow(mask.reshape(1,-1),cmap='Reds')\n",
    "plt.xlabel(\"Sample Index\")\n",
    "plt.yticks(())"
   ]
  },
  {
   "cell_type": "code",
   "execution_count": 57,
   "id": "54e971d0",
   "metadata": {},
   "outputs": [
    {
     "name": "stdout",
     "output_type": "stream",
     "text": [
      "Score: 0.723\n"
     ]
    }
   ],
   "source": [
    "from sklearn.linear_model import LinearRegression\n",
    "#transform test data\n",
    "x_train_rfe=select.transform(x_train)\n",
    "x_test_rfe=select.transform(x_test)\n",
    "score=LinearRegression().fit(x_train_rfe,y_train).score(x_test_rfe,y_test)\n",
    "print(\"Score: {:.3f}\".format(score))\n"
   ]
  },
  {
   "cell_type": "code",
   "execution_count": 59,
   "id": "55e52f39",
   "metadata": {},
   "outputs": [
    {
     "name": "stdout",
     "output_type": "stream",
     "text": [
      "Test Score: 0.965\n"
     ]
    }
   ],
   "source": [
    "print(\"Test Score: {:.3f}\".format(select.score(x_test,y_test)))"
   ]
  },
  {
   "cell_type": "code",
   "execution_count": null,
   "id": "32b11967",
   "metadata": {},
   "outputs": [],
   "source": []
  }
 ],
 "metadata": {
  "kernelspec": {
   "display_name": "Python 3 (ipykernel)",
   "language": "python",
   "name": "python3"
  },
  "language_info": {
   "codemirror_mode": {
    "name": "ipython",
    "version": 3
   },
   "file_extension": ".py",
   "mimetype": "text/x-python",
   "name": "python",
   "nbconvert_exporter": "python",
   "pygments_lexer": "ipython3",
   "version": "3.9.12"
  }
 },
 "nbformat": 4,
 "nbformat_minor": 5
}
