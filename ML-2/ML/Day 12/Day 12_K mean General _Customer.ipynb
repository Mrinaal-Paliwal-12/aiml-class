{
 "cells": [
  {
   "cell_type": "markdown",
   "id": "c6a16b18",
   "metadata": {},
   "source": [
    "### Vaibhav Kumar\n",
    "### RollNo 19"
   ]
  },
  {
   "cell_type": "markdown",
   "id": "794663ec",
   "metadata": {},
   "source": [
    "# K_mean_Customer_dataset"
   ]
  },
  {
   "cell_type": "code",
   "execution_count": 1,
   "id": "38c1ae6f",
   "metadata": {},
   "outputs": [],
   "source": [
    "import numpy as np\n",
    "import pandas as pd\n",
    "from sklearn.datasets import make_blobs\n",
    "import matplotlib.pyplot as plt\n",
    "import seaborn as sns\n",
    "from sklearn.cluster import KMeans\n",
    "from sklearn.metrics import silhouette_score\n",
    "from sklearn.preprocessing import StandardScaler"
   ]
  },
  {
   "cell_type": "code",
   "execution_count": 2,
   "id": "972dc9f9",
   "metadata": {},
   "outputs": [],
   "source": [
    "df=pd.read_csv(\"D:\\\\vk\\\\TRIM 3\\\\ML\\\\DATASET\\\\Mall_Customers.csv\")"
   ]
  },
  {
   "cell_type": "code",
   "execution_count": 3,
   "id": "757f069e",
   "metadata": {},
   "outputs": [
    {
     "data": {
      "text/html": [
       "<div>\n",
       "<style scoped>\n",
       "    .dataframe tbody tr th:only-of-type {\n",
       "        vertical-align: middle;\n",
       "    }\n",
       "\n",
       "    .dataframe tbody tr th {\n",
       "        vertical-align: top;\n",
       "    }\n",
       "\n",
       "    .dataframe thead th {\n",
       "        text-align: right;\n",
       "    }\n",
       "</style>\n",
       "<table border=\"1\" class=\"dataframe\">\n",
       "  <thead>\n",
       "    <tr style=\"text-align: right;\">\n",
       "      <th></th>\n",
       "      <th>CustomerID</th>\n",
       "      <th>Gender</th>\n",
       "      <th>Age</th>\n",
       "      <th>Annual Income (k$)</th>\n",
       "      <th>Spending Score (1-100)</th>\n",
       "    </tr>\n",
       "  </thead>\n",
       "  <tbody>\n",
       "    <tr>\n",
       "      <th>0</th>\n",
       "      <td>1</td>\n",
       "      <td>Male</td>\n",
       "      <td>19</td>\n",
       "      <td>15</td>\n",
       "      <td>39</td>\n",
       "    </tr>\n",
       "    <tr>\n",
       "      <th>1</th>\n",
       "      <td>2</td>\n",
       "      <td>Male</td>\n",
       "      <td>21</td>\n",
       "      <td>15</td>\n",
       "      <td>81</td>\n",
       "    </tr>\n",
       "    <tr>\n",
       "      <th>2</th>\n",
       "      <td>3</td>\n",
       "      <td>Female</td>\n",
       "      <td>20</td>\n",
       "      <td>16</td>\n",
       "      <td>6</td>\n",
       "    </tr>\n",
       "    <tr>\n",
       "      <th>3</th>\n",
       "      <td>4</td>\n",
       "      <td>Female</td>\n",
       "      <td>23</td>\n",
       "      <td>16</td>\n",
       "      <td>77</td>\n",
       "    </tr>\n",
       "    <tr>\n",
       "      <th>4</th>\n",
       "      <td>5</td>\n",
       "      <td>Female</td>\n",
       "      <td>31</td>\n",
       "      <td>17</td>\n",
       "      <td>40</td>\n",
       "    </tr>\n",
       "    <tr>\n",
       "      <th>...</th>\n",
       "      <td>...</td>\n",
       "      <td>...</td>\n",
       "      <td>...</td>\n",
       "      <td>...</td>\n",
       "      <td>...</td>\n",
       "    </tr>\n",
       "    <tr>\n",
       "      <th>195</th>\n",
       "      <td>196</td>\n",
       "      <td>Female</td>\n",
       "      <td>35</td>\n",
       "      <td>120</td>\n",
       "      <td>79</td>\n",
       "    </tr>\n",
       "    <tr>\n",
       "      <th>196</th>\n",
       "      <td>197</td>\n",
       "      <td>Female</td>\n",
       "      <td>45</td>\n",
       "      <td>126</td>\n",
       "      <td>28</td>\n",
       "    </tr>\n",
       "    <tr>\n",
       "      <th>197</th>\n",
       "      <td>198</td>\n",
       "      <td>Male</td>\n",
       "      <td>32</td>\n",
       "      <td>126</td>\n",
       "      <td>74</td>\n",
       "    </tr>\n",
       "    <tr>\n",
       "      <th>198</th>\n",
       "      <td>199</td>\n",
       "      <td>Male</td>\n",
       "      <td>32</td>\n",
       "      <td>137</td>\n",
       "      <td>18</td>\n",
       "    </tr>\n",
       "    <tr>\n",
       "      <th>199</th>\n",
       "      <td>200</td>\n",
       "      <td>Male</td>\n",
       "      <td>30</td>\n",
       "      <td>137</td>\n",
       "      <td>83</td>\n",
       "    </tr>\n",
       "  </tbody>\n",
       "</table>\n",
       "<p>200 rows × 5 columns</p>\n",
       "</div>"
      ],
      "text/plain": [
       "     CustomerID  Gender  Age  Annual Income (k$)  Spending Score (1-100)\n",
       "0             1    Male   19                  15                      39\n",
       "1             2    Male   21                  15                      81\n",
       "2             3  Female   20                  16                       6\n",
       "3             4  Female   23                  16                      77\n",
       "4             5  Female   31                  17                      40\n",
       "..          ...     ...  ...                 ...                     ...\n",
       "195         196  Female   35                 120                      79\n",
       "196         197  Female   45                 126                      28\n",
       "197         198    Male   32                 126                      74\n",
       "198         199    Male   32                 137                      18\n",
       "199         200    Male   30                 137                      83\n",
       "\n",
       "[200 rows x 5 columns]"
      ]
     },
     "execution_count": 3,
     "metadata": {},
     "output_type": "execute_result"
    }
   ],
   "source": [
    "df"
   ]
  },
  {
   "cell_type": "code",
   "execution_count": 4,
   "id": "05d0d4ad",
   "metadata": {},
   "outputs": [
    {
     "name": "stdout",
     "output_type": "stream",
     "text": [
      "<class 'pandas.core.frame.DataFrame'>\n",
      "RangeIndex: 200 entries, 0 to 199\n",
      "Data columns (total 5 columns):\n",
      " #   Column                  Non-Null Count  Dtype \n",
      "---  ------                  --------------  ----- \n",
      " 0   CustomerID              200 non-null    int64 \n",
      " 1   Gender                  200 non-null    object\n",
      " 2   Age                     200 non-null    int64 \n",
      " 3   Annual Income (k$)      200 non-null    int64 \n",
      " 4   Spending Score (1-100)  200 non-null    int64 \n",
      "dtypes: int64(4), object(1)\n",
      "memory usage: 7.9+ KB\n"
     ]
    }
   ],
   "source": [
    "df.info()"
   ]
  },
  {
   "cell_type": "code",
   "execution_count": 5,
   "id": "f4be68ee",
   "metadata": {},
   "outputs": [
    {
     "data": {
      "text/html": [
       "<div>\n",
       "<style scoped>\n",
       "    .dataframe tbody tr th:only-of-type {\n",
       "        vertical-align: middle;\n",
       "    }\n",
       "\n",
       "    .dataframe tbody tr th {\n",
       "        vertical-align: top;\n",
       "    }\n",
       "\n",
       "    .dataframe thead th {\n",
       "        text-align: right;\n",
       "    }\n",
       "</style>\n",
       "<table border=\"1\" class=\"dataframe\">\n",
       "  <thead>\n",
       "    <tr style=\"text-align: right;\">\n",
       "      <th></th>\n",
       "      <th>CustomerID</th>\n",
       "      <th>Age</th>\n",
       "      <th>Annual Income (k$)</th>\n",
       "      <th>Spending Score (1-100)</th>\n",
       "    </tr>\n",
       "  </thead>\n",
       "  <tbody>\n",
       "    <tr>\n",
       "      <th>count</th>\n",
       "      <td>200.000000</td>\n",
       "      <td>200.000000</td>\n",
       "      <td>200.000000</td>\n",
       "      <td>200.000000</td>\n",
       "    </tr>\n",
       "    <tr>\n",
       "      <th>mean</th>\n",
       "      <td>100.500000</td>\n",
       "      <td>38.850000</td>\n",
       "      <td>60.560000</td>\n",
       "      <td>50.200000</td>\n",
       "    </tr>\n",
       "    <tr>\n",
       "      <th>std</th>\n",
       "      <td>57.879185</td>\n",
       "      <td>13.969007</td>\n",
       "      <td>26.264721</td>\n",
       "      <td>25.823522</td>\n",
       "    </tr>\n",
       "    <tr>\n",
       "      <th>min</th>\n",
       "      <td>1.000000</td>\n",
       "      <td>18.000000</td>\n",
       "      <td>15.000000</td>\n",
       "      <td>1.000000</td>\n",
       "    </tr>\n",
       "    <tr>\n",
       "      <th>25%</th>\n",
       "      <td>50.750000</td>\n",
       "      <td>28.750000</td>\n",
       "      <td>41.500000</td>\n",
       "      <td>34.750000</td>\n",
       "    </tr>\n",
       "    <tr>\n",
       "      <th>50%</th>\n",
       "      <td>100.500000</td>\n",
       "      <td>36.000000</td>\n",
       "      <td>61.500000</td>\n",
       "      <td>50.000000</td>\n",
       "    </tr>\n",
       "    <tr>\n",
       "      <th>75%</th>\n",
       "      <td>150.250000</td>\n",
       "      <td>49.000000</td>\n",
       "      <td>78.000000</td>\n",
       "      <td>73.000000</td>\n",
       "    </tr>\n",
       "    <tr>\n",
       "      <th>max</th>\n",
       "      <td>200.000000</td>\n",
       "      <td>70.000000</td>\n",
       "      <td>137.000000</td>\n",
       "      <td>99.000000</td>\n",
       "    </tr>\n",
       "  </tbody>\n",
       "</table>\n",
       "</div>"
      ],
      "text/plain": [
       "       CustomerID         Age  Annual Income (k$)  Spending Score (1-100)\n",
       "count  200.000000  200.000000          200.000000              200.000000\n",
       "mean   100.500000   38.850000           60.560000               50.200000\n",
       "std     57.879185   13.969007           26.264721               25.823522\n",
       "min      1.000000   18.000000           15.000000                1.000000\n",
       "25%     50.750000   28.750000           41.500000               34.750000\n",
       "50%    100.500000   36.000000           61.500000               50.000000\n",
       "75%    150.250000   49.000000           78.000000               73.000000\n",
       "max    200.000000   70.000000          137.000000               99.000000"
      ]
     },
     "execution_count": 5,
     "metadata": {},
     "output_type": "execute_result"
    }
   ],
   "source": [
    "df.describe()"
   ]
  },
  {
   "cell_type": "code",
   "execution_count": 6,
   "id": "6538fea9",
   "metadata": {},
   "outputs": [
    {
     "data": {
      "text/plain": [
       "<AxesSubplot:>"
      ]
     },
     "execution_count": 6,
     "metadata": {},
     "output_type": "execute_result"
    },
    {
     "data": {
      "image/png": "[encoded data removed]",
      "text/plain": [
       "<Figure size 432x288 with 2 Axes>"
      ]
     },
     "metadata": {
      "needs_background": "light"
     },
     "output_type": "display_data"
    }
   ],
   "source": [
    "sns.heatmap(df.isnull())"
   ]
  },
  {
   "cell_type": "markdown",
   "id": "db3430b5",
   "metadata": {},
   "source": [
    "### we need to convert Gender into int "
   ]
  },
  {
   "cell_type": "code",
   "execution_count": 7,
   "id": "9344c81b",
   "metadata": {},
   "outputs": [
    {
     "data": {
      "text/plain": [
       "dtype('O')"
      ]
     },
     "execution_count": 7,
     "metadata": {},
     "output_type": "execute_result"
    }
   ],
   "source": [
    "df[\"Gender\"].dtypes"
   ]
  },
  {
   "cell_type": "code",
   "execution_count": 8,
   "id": "a937dd12",
   "metadata": {},
   "outputs": [],
   "source": [
    "df['Gender'] = df['Gender'].map({'Male':1,'Female':0})"
   ]
  },
  {
   "cell_type": "code",
   "execution_count": 9,
   "id": "9cd9eb91",
   "metadata": {},
   "outputs": [
    {
     "data": {
      "text/html": [
       "<div>\n",
       "<style scoped>\n",
       "    .dataframe tbody tr th:only-of-type {\n",
       "        vertical-align: middle;\n",
       "    }\n",
       "\n",
       "    .dataframe tbody tr th {\n",
       "        vertical-align: top;\n",
       "    }\n",
       "\n",
       "    .dataframe thead th {\n",
       "        text-align: right;\n",
       "    }\n",
       "</style>\n",
       "<table border=\"1\" class=\"dataframe\">\n",
       "  <thead>\n",
       "    <tr style=\"text-align: right;\">\n",
       "      <th></th>\n",
       "      <th>CustomerID</th>\n",
       "      <th>Gender</th>\n",
       "      <th>Age</th>\n",
       "      <th>Annual Income (k$)</th>\n",
       "      <th>Spending Score (1-100)</th>\n",
       "    </tr>\n",
       "  </thead>\n",
       "  <tbody>\n",
       "    <tr>\n",
       "      <th>0</th>\n",
       "      <td>1</td>\n",
       "      <td>1</td>\n",
       "      <td>19</td>\n",
       "      <td>15</td>\n",
       "      <td>39</td>\n",
       "    </tr>\n",
       "    <tr>\n",
       "      <th>1</th>\n",
       "      <td>2</td>\n",
       "      <td>1</td>\n",
       "      <td>21</td>\n",
       "      <td>15</td>\n",
       "      <td>81</td>\n",
       "    </tr>\n",
       "    <tr>\n",
       "      <th>2</th>\n",
       "      <td>3</td>\n",
       "      <td>0</td>\n",
       "      <td>20</td>\n",
       "      <td>16</td>\n",
       "      <td>6</td>\n",
       "    </tr>\n",
       "    <tr>\n",
       "      <th>3</th>\n",
       "      <td>4</td>\n",
       "      <td>0</td>\n",
       "      <td>23</td>\n",
       "      <td>16</td>\n",
       "      <td>77</td>\n",
       "    </tr>\n",
       "    <tr>\n",
       "      <th>4</th>\n",
       "      <td>5</td>\n",
       "      <td>0</td>\n",
       "      <td>31</td>\n",
       "      <td>17</td>\n",
       "      <td>40</td>\n",
       "    </tr>\n",
       "    <tr>\n",
       "      <th>...</th>\n",
       "      <td>...</td>\n",
       "      <td>...</td>\n",
       "      <td>...</td>\n",
       "      <td>...</td>\n",
       "      <td>...</td>\n",
       "    </tr>\n",
       "    <tr>\n",
       "      <th>195</th>\n",
       "      <td>196</td>\n",
       "      <td>0</td>\n",
       "      <td>35</td>\n",
       "      <td>120</td>\n",
       "      <td>79</td>\n",
       "    </tr>\n",
       "    <tr>\n",
       "      <th>196</th>\n",
       "      <td>197</td>\n",
       "      <td>0</td>\n",
       "      <td>45</td>\n",
       "      <td>126</td>\n",
       "      <td>28</td>\n",
       "    </tr>\n",
       "    <tr>\n",
       "      <th>197</th>\n",
       "      <td>198</td>\n",
       "      <td>1</td>\n",
       "      <td>32</td>\n",
       "      <td>126</td>\n",
       "      <td>74</td>\n",
       "    </tr>\n",
       "    <tr>\n",
       "      <th>198</th>\n",
       "      <td>199</td>\n",
       "      <td>1</td>\n",
       "      <td>32</td>\n",
       "      <td>137</td>\n",
       "      <td>18</td>\n",
       "    </tr>\n",
       "    <tr>\n",
       "      <th>199</th>\n",
       "      <td>200</td>\n",
       "      <td>1</td>\n",
       "      <td>30</td>\n",
       "      <td>137</td>\n",
       "      <td>83</td>\n",
       "    </tr>\n",
       "  </tbody>\n",
       "</table>\n",
       "<p>200 rows × 5 columns</p>\n",
       "</div>"
      ],
      "text/plain": [
       "     CustomerID  Gender  Age  Annual Income (k$)  Spending Score (1-100)\n",
       "0             1       1   19                  15                      39\n",
       "1             2       1   21                  15                      81\n",
       "2             3       0   20                  16                       6\n",
       "3             4       0   23                  16                      77\n",
       "4             5       0   31                  17                      40\n",
       "..          ...     ...  ...                 ...                     ...\n",
       "195         196       0   35                 120                      79\n",
       "196         197       0   45                 126                      28\n",
       "197         198       1   32                 126                      74\n",
       "198         199       1   32                 137                      18\n",
       "199         200       1   30                 137                      83\n",
       "\n",
       "[200 rows x 5 columns]"
      ]
     },
     "execution_count": 9,
     "metadata": {},
     "output_type": "execute_result"
    }
   ],
   "source": [
    "df"
   ]
  },
  {
   "cell_type": "code",
   "execution_count": 10,
   "id": "a5a5a97c",
   "metadata": {},
   "outputs": [],
   "source": [
    "X=df[['Gender','Age','Annual Income (k$)','Spending Score (1-100)']].values"
   ]
  },
  {
   "cell_type": "code",
   "execution_count": 11,
   "id": "91b88b50",
   "metadata": {},
   "outputs": [
    {
     "data": {
      "text/plain": [
       "array([[  1,  19,  15,  39],\n",
       "       [  1,  21,  15,  81],\n",
       "       [  0,  20,  16,   6],\n",
       "       [  0,  23,  16,  77],\n",
       "       [  0,  31,  17,  40],\n",
       "       [  0,  22,  17,  76],\n",
       "       [  0,  35,  18,   6],\n",
       "       [  0,  23,  18,  94],\n",
       "       [  1,  64,  19,   3],\n",
       "       [  0,  30,  19,  72],\n",
       "       [  1,  67,  19,  14],\n",
       "       [  0,  35,  19,  99],\n",
       "       [  0,  58,  20,  15],\n",
       "       [  0,  24,  20,  77],\n",
       "       [  1,  37,  20,  13],\n",
       "       [  1,  22,  20,  79],\n",
       "       [  0,  35,  21,  35],\n",
       "       [  1,  20,  21,  66],\n",
       "       [  1,  52,  23,  29],\n",
       "       [  0,  35,  23,  98],\n",
       "       [  1,  35,  24,  35],\n",
       "       [  1,  25,  24,  73],\n",
       "       [  0,  46,  25,   5],\n",
       "       [  1,  31,  25,  73],\n",
       "       [  0,  54,  28,  14],\n",
       "       [  1,  29,  28,  82],\n",
       "       [  0,  45,  28,  32],\n",
       "       [  1,  35,  28,  61],\n",
       "       [  0,  40,  29,  31],\n",
       "       [  0,  23,  29,  87],\n",
       "       [  1,  60,  30,   4],\n",
       "       [  0,  21,  30,  73],\n",
       "       [  1,  53,  33,   4],\n",
       "       [  1,  18,  33,  92],\n",
       "       [  0,  49,  33,  14],\n",
       "       [  0,  21,  33,  81],\n",
       "       [  0,  42,  34,  17],\n",
       "       [  0,  30,  34,  73],\n",
       "       [  0,  36,  37,  26],\n",
       "       [  0,  20,  37,  75],\n",
       "       [  0,  65,  38,  35],\n",
       "       [  1,  24,  38,  92],\n",
       "       [  1,  48,  39,  36],\n",
       "       [  0,  31,  39,  61],\n",
       "       [  0,  49,  39,  28],\n",
       "       [  0,  24,  39,  65],\n",
       "       [  0,  50,  40,  55],\n",
       "       [  0,  27,  40,  47],\n",
       "       [  0,  29,  40,  42],\n",
       "       [  0,  31,  40,  42],\n",
       "       [  0,  49,  42,  52],\n",
       "       [  1,  33,  42,  60],\n",
       "       [  0,  31,  43,  54],\n",
       "       [  1,  59,  43,  60],\n",
       "       [  0,  50,  43,  45],\n",
       "       [  1,  47,  43,  41],\n",
       "       [  0,  51,  44,  50],\n",
       "       [  1,  69,  44,  46],\n",
       "       [  0,  27,  46,  51],\n",
       "       [  1,  53,  46,  46],\n",
       "       [  1,  70,  46,  56],\n",
       "       [  1,  19,  46,  55],\n",
       "       [  0,  67,  47,  52],\n",
       "       [  0,  54,  47,  59],\n",
       "       [  1,  63,  48,  51],\n",
       "       [  1,  18,  48,  59],\n",
       "       [  0,  43,  48,  50],\n",
       "       [  0,  68,  48,  48],\n",
       "       [  1,  19,  48,  59],\n",
       "       [  0,  32,  48,  47],\n",
       "       [  1,  70,  49,  55],\n",
       "       [  0,  47,  49,  42],\n",
       "       [  0,  60,  50,  49],\n",
       "       [  0,  60,  50,  56],\n",
       "       [  1,  59,  54,  47],\n",
       "       [  1,  26,  54,  54],\n",
       "       [  0,  45,  54,  53],\n",
       "       [  1,  40,  54,  48],\n",
       "       [  0,  23,  54,  52],\n",
       "       [  0,  49,  54,  42],\n",
       "       [  1,  57,  54,  51],\n",
       "       [  1,  38,  54,  55],\n",
       "       [  1,  67,  54,  41],\n",
       "       [  0,  46,  54,  44],\n",
       "       [  0,  21,  54,  57],\n",
       "       [  1,  48,  54,  46],\n",
       "       [  0,  55,  57,  58],\n",
       "       [  0,  22,  57,  55],\n",
       "       [  0,  34,  58,  60],\n",
       "       [  0,  50,  58,  46],\n",
       "       [  0,  68,  59,  55],\n",
       "       [  1,  18,  59,  41],\n",
       "       [  1,  48,  60,  49],\n",
       "       [  0,  40,  60,  40],\n",
       "       [  0,  32,  60,  42],\n",
       "       [  1,  24,  60,  52],\n",
       "       [  0,  47,  60,  47],\n",
       "       [  0,  27,  60,  50],\n",
       "       [  1,  48,  61,  42],\n",
       "       [  1,  20,  61,  49],\n",
       "       [  0,  23,  62,  41],\n",
       "       [  0,  49,  62,  48],\n",
       "       [  1,  67,  62,  59],\n",
       "       [  1,  26,  62,  55],\n",
       "       [  1,  49,  62,  56],\n",
       "       [  0,  21,  62,  42],\n",
       "       [  0,  66,  63,  50],\n",
       "       [  1,  54,  63,  46],\n",
       "       [  1,  68,  63,  43],\n",
       "       [  1,  66,  63,  48],\n",
       "       [  1,  65,  63,  52],\n",
       "       [  0,  19,  63,  54],\n",
       "       [  0,  38,  64,  42],\n",
       "       [  1,  19,  64,  46],\n",
       "       [  0,  18,  65,  48],\n",
       "       [  0,  19,  65,  50],\n",
       "       [  0,  63,  65,  43],\n",
       "       [  0,  49,  65,  59],\n",
       "       [  0,  51,  67,  43],\n",
       "       [  0,  50,  67,  57],\n",
       "       [  1,  27,  67,  56],\n",
       "       [  0,  38,  67,  40],\n",
       "       [  0,  40,  69,  58],\n",
       "       [  1,  39,  69,  91],\n",
       "       [  0,  23,  70,  29],\n",
       "       [  0,  31,  70,  77],\n",
       "       [  1,  43,  71,  35],\n",
       "       [  1,  40,  71,  95],\n",
       "       [  1,  59,  71,  11],\n",
       "       [  1,  38,  71,  75],\n",
       "       [  1,  47,  71,   9],\n",
       "       [  1,  39,  71,  75],\n",
       "       [  0,  25,  72,  34],\n",
       "       [  0,  31,  72,  71],\n",
       "       [  1,  20,  73,   5],\n",
       "       [  0,  29,  73,  88],\n",
       "       [  0,  44,  73,   7],\n",
       "       [  1,  32,  73,  73],\n",
       "       [  1,  19,  74,  10],\n",
       "       [  0,  35,  74,  72],\n",
       "       [  0,  57,  75,   5],\n",
       "       [  1,  32,  75,  93],\n",
       "       [  0,  28,  76,  40],\n",
       "       [  0,  32,  76,  87],\n",
       "       [  1,  25,  77,  12],\n",
       "       [  1,  28,  77,  97],\n",
       "       [  1,  48,  77,  36],\n",
       "       [  0,  32,  77,  74],\n",
       "       [  0,  34,  78,  22],\n",
       "       [  1,  34,  78,  90],\n",
       "       [  1,  43,  78,  17],\n",
       "       [  1,  39,  78,  88],\n",
       "       [  0,  44,  78,  20],\n",
       "       [  0,  38,  78,  76],\n",
       "       [  0,  47,  78,  16],\n",
       "       [  0,  27,  78,  89],\n",
       "       [  1,  37,  78,   1],\n",
       "       [  0,  30,  78,  78],\n",
       "       [  1,  34,  78,   1],\n",
       "       [  0,  30,  78,  73],\n",
       "       [  0,  56,  79,  35],\n",
       "       [  0,  29,  79,  83],\n",
       "       [  1,  19,  81,   5],\n",
       "       [  0,  31,  81,  93],\n",
       "       [  1,  50,  85,  26],\n",
       "       [  0,  36,  85,  75],\n",
       "       [  1,  42,  86,  20],\n",
       "       [  0,  33,  86,  95],\n",
       "       [  0,  36,  87,  27],\n",
       "       [  1,  32,  87,  63],\n",
       "       [  1,  40,  87,  13],\n",
       "       [  1,  28,  87,  75],\n",
       "       [  1,  36,  87,  10],\n",
       "       [  1,  36,  87,  92],\n",
       "       [  0,  52,  88,  13],\n",
       "       [  0,  30,  88,  86],\n",
       "       [  1,  58,  88,  15],\n",
       "       [  1,  27,  88,  69],\n",
       "       [  1,  59,  93,  14],\n",
       "       [  1,  35,  93,  90],\n",
       "       [  0,  37,  97,  32],\n",
       "       [  0,  32,  97,  86],\n",
       "       [  1,  46,  98,  15],\n",
       "       [  0,  29,  98,  88],\n",
       "       [  0,  41,  99,  39],\n",
       "       [  1,  30,  99,  97],\n",
       "       [  0,  54, 101,  24],\n",
       "       [  1,  28, 101,  68],\n",
       "       [  0,  41, 103,  17],\n",
       "       [  0,  36, 103,  85],\n",
       "       [  0,  34, 103,  23],\n",
       "       [  0,  32, 103,  69],\n",
       "       [  1,  33, 113,   8],\n",
       "       [  0,  38, 113,  91],\n",
       "       [  0,  47, 120,  16],\n",
       "       [  0,  35, 120,  79],\n",
       "       [  0,  45, 126,  28],\n",
       "       [  1,  32, 126,  74],\n",
       "       [  1,  32, 137,  18],\n",
       "       [  1,  30, 137,  83]], dtype=int64)"
      ]
     },
     "execution_count": 11,
     "metadata": {},
     "output_type": "execute_result"
    }
   ],
   "source": [
    "X"
   ]
  },
  {
   "cell_type": "code",
   "execution_count": 12,
   "id": "c5cd9779",
   "metadata": {},
   "outputs": [],
   "source": [
    "kmeans=KMeans(n_clusters=2)\n",
    "kmeans.fit(X)\n",
    "y_kmeans=kmeans.predict(X)"
   ]
  },
  {
   "cell_type": "code",
   "execution_count": 13,
   "id": "e3004feb",
   "metadata": {},
   "outputs": [
    {
     "name": "stdout",
     "output_type": "stream",
     "text": [
      "[1 0 1 0 1 0 1 0 1 0 1 0 1 0 1 0 1 0 1 0 1 0 1 0 1 0 1 0 1 0 1 0 1 0 1 0 1\n",
      " 0 1 0 1 0 1 0 1 0 1 1 1 1 1 0 0 1 1 1 1 1 0 1 1 0 1 1 1 0 1 1 0 1 1 1 1 1\n",
      " 1 0 1 1 0 1 1 0 1 1 0 1 1 0 0 1 1 1 1 1 1 0 1 0 1 0 1 1 1 0 1 1 1 1 1 1 1\n",
      " 0 1 0 0 0 1 0 1 1 0 1 0 0 1 0 1 0 1 0 1 0 1 0 1 0 1 0 1 0 1 0 1 0 1 0 1 0\n",
      " 1 0 1 0 1 0 1 0 1 0 1 0 1 0 1 0 1 0 1 0 1 0 1 0 1 0 1 0 1 0 1 0 1 0 1 0 1\n",
      " 0 1 0 1 0 1 0 1 0 1 0 1 0 1 0]\n"
     ]
    }
   ],
   "source": [
    "print(y_kmeans)"
   ]
  },
  {
   "cell_type": "code",
   "execution_count": 14,
   "id": "53a45a82",
   "metadata": {},
   "outputs": [
    {
     "data": {
      "text/plain": [
       "array([[ 0.44705882, 28.95294118, 62.17647059, 73.62352941],\n",
       "       [ 0.43478261, 46.16521739, 59.36521739, 32.88695652]])"
      ]
     },
     "execution_count": 14,
     "metadata": {},
     "output_type": "execute_result"
    }
   ],
   "source": [
    "kmeans.cluster_centers_"
   ]
  },
  {
   "cell_type": "code",
   "execution_count": 15,
   "id": "c7935839",
   "metadata": {},
   "outputs": [
    {
     "name": "stdout",
     "output_type": "stream",
     "text": [
      "For n_cluster=  6 average silhouette_score is : 0.29307334005502633\n"
     ]
    }
   ],
   "source": [
    "n_cluster=6\n",
    "silhouette_avg=silhouette_score(X,y_kmeans)\n",
    "print(\"For n_cluster= \",n_cluster,\"average silhouette_score is :\",silhouette_avg)"
   ]
  },
  {
   "cell_type": "code",
   "execution_count": 16,
   "id": "e52dcb24",
   "metadata": {},
   "outputs": [
    {
     "data": {
      "text/plain": [
       "<matplotlib.collections.PathCollection at 0x215e6aeffd0>"
      ]
     },
     "execution_count": 16,
     "metadata": {},
     "output_type": "execute_result"
    },
    {
     "data": {
      "image/png": "[encoded data removed]",
      "text/plain": [
       "<Figure size 432x288 with 1 Axes>"
      ]
     },
     "metadata": {
      "needs_background": "light"
     },
     "output_type": "display_data"
    }
   ],
   "source": [
    "plt.scatter(X[:,0],X[:,1],c=y_kmeans,s=50,cmap='rainbow')\n"
   ]
  },
  {
   "cell_type": "code",
   "execution_count": 17,
   "id": "37cd8a26",
   "metadata": {},
   "outputs": [
    {
     "data": {
      "image/png": "[encoded data removed]",
      "text/plain": [
       "<Figure size 432x288 with 1 Axes>"
      ]
     },
     "metadata": {
      "needs_background": "light"
     },
     "output_type": "display_data"
    }
   ],
   "source": [
    "Error =[]\n",
    "for i in range (2,11):\n",
    "     kmeans = KMeans(n_clusters = i).fit(X)\n",
    "#    kmeans.fit(x)\n",
    "     Error.append(kmeans.inertia_)\n",
    "\n",
    "plt.plot(range(2, 11), Error)\n",
    "plt.title( 'Elbow method')\n",
    "plt.xlabel('No of clusters')\n",
    "plt.ylabel('Error')\n",
    "plt.show()\n"
   ]
  },
  {
   "cell_type": "markdown",
   "id": "dd9bbe15",
   "metadata": {},
   "source": [
    "# 6 clusters"
   ]
  },
  {
   "cell_type": "code",
   "execution_count": null,
   "id": "7dcacb09",
   "metadata": {},
   "outputs": [],
   "source": []
  },
  {
   "cell_type": "code",
   "execution_count": null,
   "id": "fda16232",
   "metadata": {},
   "outputs": [],
   "source": []
  }
 ],
 "metadata": {
  "kernelspec": {
   "display_name": "Python 3 (ipykernel)",
   "language": "python",
   "name": "python3"
  },
  "language_info": {
   "codemirror_mode": {
    "name": "ipython",
    "version": 3
   },
   "file_extension": ".py",
   "mimetype": "text/x-python",
   "name": "python",
   "nbconvert_exporter": "python",
   "pygments_lexer": "ipython3",
   "version": "3.9.12"
  }
 },
 "nbformat": 4,
 "nbformat_minor": 5
}
