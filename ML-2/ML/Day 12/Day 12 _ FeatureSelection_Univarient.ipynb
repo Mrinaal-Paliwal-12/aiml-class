{
 "cells": [
  {
   "cell_type": "markdown",
   "id": "d31f21e9",
   "metadata": {},
   "source": [
    "### Vaibhav Kumar\n",
    "### RollNo 19"
   ]
  },
  {
   "cell_type": "markdown",
   "id": "24af8a40",
   "metadata": {},
   "source": [
    "### Feature Selection - Univariate"
   ]
  },
  {
   "cell_type": "code",
   "execution_count": 1,
   "id": "4038351a",
   "metadata": {},
   "outputs": [],
   "source": [
    "from sklearn. datasets import load_breast_cancer\n",
    "from sklearn. feature_selection import SelectPercentile, SelectKBest\n",
    "from sklearn.model_selection import train_test_split\n",
    "import numpy as np\n",
    "import pandas as pd\n",
    "import matplotlib.pyplot as plt\n"
   ]
  },
  {
   "cell_type": "code",
   "execution_count": 2,
   "id": "d522b3fc",
   "metadata": {},
   "outputs": [],
   "source": [
    "cancer=load_breast_cancer()"
   ]
  },
  {
   "cell_type": "code",
   "execution_count": 3,
   "id": "12afafb9",
   "metadata": {},
   "outputs": [
    {
     "name": "stdout",
     "output_type": "stream",
     "text": [
      "(569, 30)\n"
     ]
    }
   ],
   "source": [
    "print(cancer.data.shape)"
   ]
  },
  {
   "cell_type": "code",
   "execution_count": 4,
   "id": "95bf9a0a",
   "metadata": {},
   "outputs": [],
   "source": [
    "# get deterministic random numbers\n",
    "rng=np.random.RandomState(42)\n",
    "noise=rng.normal(size=(len(cancer.data),50))\n"
   ]
  },
  {
   "cell_type": "code",
   "execution_count": 5,
   "id": "0f2aca97",
   "metadata": {},
   "outputs": [
    {
     "name": "stdout",
     "output_type": "stream",
     "text": [
      "(569, 50)\n"
     ]
    }
   ],
   "source": [
    "print(noise.data.shape)"
   ]
  },
  {
   "cell_type": "code",
   "execution_count": 6,
   "id": "17763182",
   "metadata": {},
   "outputs": [],
   "source": [
    "#using horizontal stack we will add these data\n",
    "# add noise features to the data\n",
    "# the first 30 features are from the dataset, the next 50 are noise\n",
    "X_w_noise=np.hstack([cancer.data, noise])\n"
   ]
  },
  {
   "cell_type": "code",
   "execution_count": 7,
   "id": "55bf0cc7",
   "metadata": {},
   "outputs": [
    {
     "name": "stdout",
     "output_type": "stream",
     "text": [
      "(569, 80)\n"
     ]
    }
   ],
   "source": [
    "print(X_w_noise.data.shape)"
   ]
  },
  {
   "cell_type": "code",
   "execution_count": 8,
   "id": "9fee5770",
   "metadata": {},
   "outputs": [],
   "source": [
    "X_train,X_test,y_train,y_test=train_test_split(X_w_noise, cancer.target, random_state=0, test_size=0.3)"
   ]
  },
  {
   "cell_type": "code",
   "execution_count": 13,
   "id": "0d7f9184",
   "metadata": {},
   "outputs": [
    {
     "data": {
      "text/plain": [
       "SelectKBest()"
      ]
     },
     "execution_count": 13,
     "metadata": {},
     "output_type": "execute_result"
    }
   ],
   "source": [
    "#select = SelectPercentile(percentile=30) # use this line for one time and see accuracy then run other line and see the accuracy\n",
    "select=SelectKBest(k=10)\n",
    "select.fit(X_train, y_train)\n"
   ]
  },
  {
   "cell_type": "code",
   "execution_count": 10,
   "id": "18ef30de",
   "metadata": {},
   "outputs": [
    {
     "name": "stdout",
     "output_type": "stream",
     "text": [
      "X_train.shape(398, 80) \n",
      "X_train_selected. shape(398, 10)\n"
     ]
    }
   ],
   "source": [
    "#transform training set\n",
    "X_train_selected = select.transform(X_train)\n",
    "print (\"X_train.shape{} \".format (X_train.shape))\n",
    "print(\"X_train_selected. shape{}\".format(X_train_selected.shape) )\n"
   ]
  },
  {
   "cell_type": "code",
   "execution_count": 11,
   "id": "6376d97f",
   "metadata": {},
   "outputs": [
    {
     "name": "stdout",
     "output_type": "stream",
     "text": [
      "[ True False  True  True False False  True  True False False False False\n",
      " False False False False False False False False  True False  True  True\n",
      " False False  True  True False False False False False False False False\n",
      " False False False False False False False False False False False False\n",
      " False False False False False False False False False False False False\n",
      " False False False False False False False False False False False False\n",
      " False False False False False False False False]\n"
     ]
    },
    {
     "data": {
      "text/plain": [
       "([], [])"
      ]
     },
     "execution_count": 11,
     "metadata": {},
     "output_type": "execute_result"
    },
    {
     "data": {
      "image/png": "[encoded data removed]",
      "text/plain": [
       "<Figure size 1152x144 with 1 Axes>"
      ]
     },
     "metadata": {
      "needs_background": "light"
     },
     "output_type": "display_data"
    }
   ],
   "source": [
    "#now we will see that how many feature this algo choose\n",
    "mask = select.get_support()\n",
    "print(mask)\n",
    "# visualize the mask -- black is True, white is False\n",
    "plt.matshow(mask. reshape(1, -1), cmap='gray_r')\n",
    "plt.xlabel((\"Sample index\"))\n",
    "plt.yticks(())\n"
   ]
  },
  {
   "cell_type": "code",
   "execution_count": 12,
   "id": "109b494f",
   "metadata": {},
   "outputs": [
    {
     "name": "stdout",
     "output_type": "stream",
     "text": [
      "Score with all features: 0.924\n",
      "Score with only selected features: 0.947\n"
     ]
    }
   ],
   "source": [
    "from sklearn. tree import DecisionTreeClassifier\n",
    "# transform test data\n",
    "X_test_selected = select. transform(X_test)\n",
    "lr = DecisionTreeClassifier()\n",
    "lr.fit(X_train, y_train)\n",
    "print(\"Score with all features: {:.3f}\" .format (lr.score(X_test, y_test)))\n",
    "lr.fit(X_train_selected, y_train)\n",
    "print(\"Score with only selected features: {:.3f}\".format(\n",
    "lr.score(X_test_selected, y_test)))\n"
   ]
  },
  {
   "cell_type": "markdown",
   "id": "9acae8ec",
   "metadata": {},
   "source": [
    "# feature selection - Model Based "
   ]
  },
  {
   "cell_type": "code",
   "execution_count": 14,
   "id": "8a423eeb",
   "metadata": {},
   "outputs": [],
   "source": [
    "from sklearn.feature_selection import SelectFromModel\n",
    "from sklearn.svm import SVC\n",
    "from sklearn.ensemble import RandomForestClassifier\n",
    "select=SelectFromModel(RandomForestClassifier(n_estimators=10,random_state=42),threshold=\"median\")"
   ]
  },
  {
   "cell_type": "markdown",
   "id": "1af8cccf",
   "metadata": {},
   "source": [
    "# Select from model\n",
    "class selects all the features that have an impoertance measure of the features (as provided by the supervised model) greater than the provided threshold"
   ]
  },
  {
   "cell_type": "code",
   "execution_count": 15,
   "id": "51a6c231",
   "metadata": {},
   "outputs": [
    {
     "name": "stdout",
     "output_type": "stream",
     "text": [
      "X_train.shape(398, 80)\n",
      "X_train_l1.shape(398, 40)\n"
     ]
    }
   ],
   "source": [
    "select.fit(X_train,y_train)\n",
    "X_train_l1 = select.transform(X_train)\n",
    "print(\"X_train.shape{}\".format(X_train.shape))\n",
    "print(\"X_train_l1.shape{}\".format(X_train_l1.shape))"
   ]
  },
  {
   "cell_type": "code",
   "execution_count": 16,
   "id": "f55a6593",
   "metadata": {},
   "outputs": [
    {
     "name": "stdout",
     "output_type": "stream",
     "text": [
      "[ True  True  True  True  True  True  True  True False False  True False\n",
      "  True  True False  True  True False  True  True  True  True  True  True\n",
      "  True  True  True  True  True  True False  True False False False  True\n",
      " False False False  True False  True  True False False False  True False\n",
      " False  True False False False False  True False  True False  True False\n",
      " False  True False False False  True  True False  True  True False False\n",
      " False False False False False False False False]\n"
     ]
    },
    {
     "data": {
      "text/plain": [
       "([], [])"
      ]
     },
     "execution_count": 16,
     "metadata": {},
     "output_type": "execute_result"
    },
    {
     "data": {
      "image/png": "[encoded data removed]",
      "text/plain": [
       "<Figure size 1152x144 with 1 Axes>"
      ]
     },
     "metadata": {
      "needs_background": "light"
     },
     "output_type": "display_data"
    }
   ],
   "source": [
    "#now we will see that how many feature this algo choose\n",
    "mask = select.get_support()\n",
    "print(mask)\n",
    "# visualize the mask -- black is True, white is False\n",
    "plt.matshow(mask. reshape(1, -1), cmap='gray_r')\n",
    "plt.xlabel((\"Sample index\"))\n",
    "plt.yticks(())"
   ]
  },
  {
   "cell_type": "code",
   "execution_count": 17,
   "id": "e57756e3",
   "metadata": {},
   "outputs": [
    {
     "name": "stdout",
     "output_type": "stream",
     "text": [
      "Test Score:0.924\n",
      "Test Score:0.924\n"
     ]
    }
   ],
   "source": [
    "X_test_l1 = select.transform(X_test)\n",
    "score=SVC().fit(X_train,y_train).score(X_test,y_test)\n",
    "print(\"Test Score:{:.3f}\".format(score))\n",
    "score=SVC().fit(X_train_l1,y_train).score(X_test_l1,y_test)\n",
    "print(\"Test Score:{:.3f}\".format(score))\n"
   ]
  },
  {
   "cell_type": "markdown",
   "id": "12e19092",
   "metadata": {},
   "source": [
    "# Iterative Feature Selection "
   ]
  },
  {
   "cell_type": "code",
   "execution_count": 18,
   "id": "82001be5",
   "metadata": {},
   "outputs": [
    {
     "data": {
      "text/plain": [
       "RFE(estimator=RandomForestClassifier(random_state=42), n_features_to_select=30)"
      ]
     },
     "execution_count": 18,
     "metadata": {},
     "output_type": "execute_result"
    }
   ],
   "source": [
    "from sklearn.feature_selection import RFE\n",
    "select=RFE(RandomForestClassifier(n_estimators=100,random_state=42),n_features_to_select=30)\n",
    "select.fit(X_train,y_train)"
   ]
  },
  {
   "cell_type": "code",
   "execution_count": 19,
   "id": "c5872a02",
   "metadata": {},
   "outputs": [
    {
     "name": "stdout",
     "output_type": "stream",
     "text": [
      "[ True  True  True  True False  True  True  True  True False  True  True\n",
      "  True  True False False  True  True False  True  True  True  True  True\n",
      "  True  True  True  True  True  True False False False False  True  True\n",
      " False False False False False False False False False False False False\n",
      " False False  True False False False False False False False False False\n",
      " False False False False False  True False False False False False False\n",
      " False  True False False False False False False]\n"
     ]
    },
    {
     "data": {
      "text/plain": [
       "([], [])"
      ]
     },
     "execution_count": 19,
     "metadata": {},
     "output_type": "execute_result"
    },
    {
     "data": {
      "image/png": "[encoded data removed]",
      "text/plain": [
       "<Figure size 1152x144 with 1 Axes>"
      ]
     },
     "metadata": {
      "needs_background": "light"
     },
     "output_type": "display_data"
    }
   ],
   "source": [
    "#now we will see that how many feature this algo choose\n",
    "mask = select.get_support()\n",
    "print(mask)\n",
    "# visualize the mask -- black is True, white is False\n",
    "plt.matshow(mask. reshape(1, -1), cmap='gray_r')\n",
    "plt.xlabel((\"Sample index\"))\n",
    "plt.yticks(())"
   ]
  },
  {
   "cell_type": "code",
   "execution_count": null,
   "id": "9975a4f2",
   "metadata": {},
   "outputs": [],
   "source": [
    "from sklearn.feature_selection import LogisticRegression\n",
    "X_train_rfe = select.transform(X_train)\n",
    "X_test_rfe = select.transform(X_test)\n",
    "score=LogisticRegression"
   ]
  }
 ],
 "metadata": {
  "kernelspec": {
   "display_name": "Python 3 (ipykernel)",
   "language": "python",
   "name": "python3"
  },
  "language_info": {
   "codemirror_mode": {
    "name": "ipython",
    "version": 3
   },
   "file_extension": ".py",
   "mimetype": "text/x-python",
   "name": "python",
   "nbconvert_exporter": "python",
   "pygments_lexer": "ipython3",
   "version": "3.9.12"
  }
 },
 "nbformat": 4,
 "nbformat_minor": 5
}
