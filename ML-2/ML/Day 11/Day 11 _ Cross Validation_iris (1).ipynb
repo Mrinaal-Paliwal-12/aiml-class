{
 "cells": [
  {
   "cell_type": "markdown",
   "id": "0ada22f8",
   "metadata": {},
   "source": [
    "### Vaibhav kumar \n",
    "\n",
    "### rollno 19"
   ]
  },
  {
   "cell_type": "markdown",
   "id": "c222de64",
   "metadata": {},
   "source": [
    "# Cross Validation "
   ]
  },
  {
   "cell_type": "code",
   "execution_count": 1,
   "id": "58716db8",
   "metadata": {},
   "outputs": [],
   "source": [
    "import numpy as np\n",
    "import pandas as pd\n",
    "import seaborn as sns\n",
    "import matplotlib.pyplot as plt\n",
    "from sklearn.model_selection import train_test_split\n",
    "from sklearn.tree import DecisionTreeClassifier\n",
    "from sklearn.naive_bayes import GaussianNB\n",
    "from sklearn.svm import SVC\n",
    "from sklearn.neighbors import KNeighborsClassifier\n",
    "from sklearn.model_selection import KFold,StratifiedKFold,LeaveOneOut,ShuffleSplit\n",
    "from sklearn.model_selection import cross_val_score\n",
    "from sklearn.metrics import accuracy_score,confusion_matrix"
   ]
  },
  {
   "cell_type": "code",
   "execution_count": 2,
   "id": "bed726c6",
   "metadata": {},
   "outputs": [],
   "source": [
    "iris=pd.read_csv(\"D:\\\\vk\\\\TRIM 3\\\\ML\\\\DATASET\\\\iris.csv\")"
   ]
  },
  {
   "cell_type": "code",
   "execution_count": 3,
   "id": "9655fe81",
   "metadata": {},
   "outputs": [
    {
     "data": {
      "text/html": [
       "<div>\n",
       "<style scoped>\n",
       "    .dataframe tbody tr th:only-of-type {\n",
       "        vertical-align: middle;\n",
       "    }\n",
       "\n",
       "    .dataframe tbody tr th {\n",
       "        vertical-align: top;\n",
       "    }\n",
       "\n",
       "    .dataframe thead th {\n",
       "        text-align: right;\n",
       "    }\n",
       "</style>\n",
       "<table border=\"1\" class=\"dataframe\">\n",
       "  <thead>\n",
       "    <tr style=\"text-align: right;\">\n",
       "      <th></th>\n",
       "      <th>Sepal length</th>\n",
       "      <th>Sepal width</th>\n",
       "      <th>Petal length</th>\n",
       "      <th>Petal width</th>\n",
       "      <th>Class</th>\n",
       "    </tr>\n",
       "  </thead>\n",
       "  <tbody>\n",
       "    <tr>\n",
       "      <th>0</th>\n",
       "      <td>5.1</td>\n",
       "      <td>3.5</td>\n",
       "      <td>1.4</td>\n",
       "      <td>0.2</td>\n",
       "      <td>Iris-setosa</td>\n",
       "    </tr>\n",
       "    <tr>\n",
       "      <th>1</th>\n",
       "      <td>4.9</td>\n",
       "      <td>3.0</td>\n",
       "      <td>1.4</td>\n",
       "      <td>0.2</td>\n",
       "      <td>Iris-setosa</td>\n",
       "    </tr>\n",
       "    <tr>\n",
       "      <th>2</th>\n",
       "      <td>4.7</td>\n",
       "      <td>3.2</td>\n",
       "      <td>1.3</td>\n",
       "      <td>0.2</td>\n",
       "      <td>Iris-setosa</td>\n",
       "    </tr>\n",
       "    <tr>\n",
       "      <th>3</th>\n",
       "      <td>4.6</td>\n",
       "      <td>3.1</td>\n",
       "      <td>1.5</td>\n",
       "      <td>0.2</td>\n",
       "      <td>Iris-setosa</td>\n",
       "    </tr>\n",
       "    <tr>\n",
       "      <th>4</th>\n",
       "      <td>5.0</td>\n",
       "      <td>3.6</td>\n",
       "      <td>1.4</td>\n",
       "      <td>0.2</td>\n",
       "      <td>Iris-setosa</td>\n",
       "    </tr>\n",
       "    <tr>\n",
       "      <th>...</th>\n",
       "      <td>...</td>\n",
       "      <td>...</td>\n",
       "      <td>...</td>\n",
       "      <td>...</td>\n",
       "      <td>...</td>\n",
       "    </tr>\n",
       "    <tr>\n",
       "      <th>145</th>\n",
       "      <td>6.7</td>\n",
       "      <td>3.0</td>\n",
       "      <td>5.2</td>\n",
       "      <td>2.3</td>\n",
       "      <td>Iris-virginica</td>\n",
       "    </tr>\n",
       "    <tr>\n",
       "      <th>146</th>\n",
       "      <td>6.3</td>\n",
       "      <td>2.5</td>\n",
       "      <td>5.0</td>\n",
       "      <td>1.9</td>\n",
       "      <td>Iris-virginica</td>\n",
       "    </tr>\n",
       "    <tr>\n",
       "      <th>147</th>\n",
       "      <td>6.5</td>\n",
       "      <td>3.0</td>\n",
       "      <td>5.2</td>\n",
       "      <td>2.0</td>\n",
       "      <td>Iris-virginica</td>\n",
       "    </tr>\n",
       "    <tr>\n",
       "      <th>148</th>\n",
       "      <td>6.2</td>\n",
       "      <td>3.4</td>\n",
       "      <td>5.4</td>\n",
       "      <td>2.3</td>\n",
       "      <td>Iris-virginica</td>\n",
       "    </tr>\n",
       "    <tr>\n",
       "      <th>149</th>\n",
       "      <td>5.9</td>\n",
       "      <td>3.0</td>\n",
       "      <td>5.1</td>\n",
       "      <td>1.8</td>\n",
       "      <td>Iris-virginica</td>\n",
       "    </tr>\n",
       "  </tbody>\n",
       "</table>\n",
       "<p>150 rows × 5 columns</p>\n",
       "</div>"
      ],
      "text/plain": [
       "     Sepal length  Sepal width  Petal length  Petal width           Class\n",
       "0             5.1          3.5           1.4          0.2     Iris-setosa\n",
       "1             4.9          3.0           1.4          0.2     Iris-setosa\n",
       "2             4.7          3.2           1.3          0.2     Iris-setosa\n",
       "3             4.6          3.1           1.5          0.2     Iris-setosa\n",
       "4             5.0          3.6           1.4          0.2     Iris-setosa\n",
       "..            ...          ...           ...          ...             ...\n",
       "145           6.7          3.0           5.2          2.3  Iris-virginica\n",
       "146           6.3          2.5           5.0          1.9  Iris-virginica\n",
       "147           6.5          3.0           5.2          2.0  Iris-virginica\n",
       "148           6.2          3.4           5.4          2.3  Iris-virginica\n",
       "149           5.9          3.0           5.1          1.8  Iris-virginica\n",
       "\n",
       "[150 rows x 5 columns]"
      ]
     },
     "execution_count": 3,
     "metadata": {},
     "output_type": "execute_result"
    }
   ],
   "source": [
    "iris"
   ]
  },
  {
   "cell_type": "code",
   "execution_count": 4,
   "id": "350bf1c4",
   "metadata": {},
   "outputs": [
    {
     "data": {
      "text/plain": [
       "Sepal length    float64\n",
       "Sepal width     float64\n",
       "Petal length    float64\n",
       "Petal width     float64\n",
       "Class            object\n",
       "dtype: object"
      ]
     },
     "execution_count": 4,
     "metadata": {},
     "output_type": "execute_result"
    }
   ],
   "source": [
    "iris.dtypes"
   ]
  },
  {
   "cell_type": "code",
   "execution_count": 5,
   "id": "ba0558c9",
   "metadata": {},
   "outputs": [],
   "source": [
    "features = iris[['Sepal length','Sepal width','Petal length','Petal width']].values\n",
    "classes = iris['Class'].values"
   ]
  },
  {
   "cell_type": "code",
   "execution_count": 6,
   "id": "37c8ce19",
   "metadata": {},
   "outputs": [],
   "source": [
    "#kfold cross validation technique\n",
    "kf=KFold(n_splits=5,random_state=1,shuffle=True)\n",
    "#stratified kfold cross validation technique\n",
    "skf=StratifiedKFold(n_splits=5)\n",
    "#Leaveoneout cross validation technique\n",
    "loocv=LeaveOneOut()\n",
    "#shuffle split cross validation technique\n",
    "shcv=ShuffleSplit()"
   ]
  },
  {
   "cell_type": "code",
   "execution_count": 7,
   "id": "e2c2d407",
   "metadata": {},
   "outputs": [
    {
     "name": "stdout",
     "output_type": "stream",
     "text": [
      "Accuarcy using Decision Tree:94.00 %\n",
      "[0.96666667 0.96666667 0.96666667 0.93333333 0.86666667]\n"
     ]
    }
   ],
   "source": [
    "#evaluating the data sets with kfold and Decision tree classifier\n",
    "dst=DecisionTreeClassifier()\n",
    "scores=cross_val_score(dst,features,classes,scoring='accuracy',cv=kf) #kf is kFold\n",
    "print(\"Accuarcy using Decision Tree:%.2f %%\"%(scores.mean()*100))#this will give avg of  acc\n",
    "print(scores) # this will give accuracy for 5 splits"
   ]
  },
  {
   "cell_type": "code",
   "execution_count": 8,
   "id": "84fc7ae2",
   "metadata": {},
   "outputs": [
    {
     "name": "stdout",
     "output_type": "stream",
     "text": [
      "Accuarcy using Decision Tree:95.33 %\n",
      "[0.96666667 0.96666667 1.         0.9        0.93333333]\n"
     ]
    }
   ],
   "source": [
    "#evaluating the data sets with kfold and Decision tree classifier\n",
    "nb=GaussianNB()\n",
    "scores=cross_val_score(nb,features,classes,scoring='accuracy',cv=kf)\n",
    "print(\"Accuarcy using Decision Tree:%.2f %%\"%(scores.mean()*100))#this will give avg of  acc\n",
    "print(scores) # this will give accuracy for 5 splits"
   ]
  },
  {
   "cell_type": "code",
   "execution_count": 9,
   "id": "93dc02cc",
   "metadata": {},
   "outputs": [
    {
     "name": "stdout",
     "output_type": "stream",
     "text": [
      "Accuarcy using Decision Tree:94.67 %\n",
      "[0.96666667 0.93333333 0.9        0.96666667 0.96666667]\n"
     ]
    }
   ],
   "source": [
    "#evaluating the data sets with kfold and Decision tree classifier\n",
    "svm=SVC()\n",
    "scores=cross_val_score(svm,features,classes,scoring='accuracy',cv=kf)\n",
    "print(\"Accuarcy using Decision Tree:%.2f %%\"%(scores.mean()*100))#this will give avg of  acc\n",
    "print(scores) # this will give accuracy for 5 splits"
   ]
  },
  {
   "cell_type": "code",
   "execution_count": 10,
   "id": "9f7dc0e6",
   "metadata": {},
   "outputs": [
    {
     "name": "stdout",
     "output_type": "stream",
     "text": [
      "Accuarcy using Decision Tree:95.33 %\n",
      "[1.         0.96666667 0.9        0.93333333 0.96666667]\n"
     ]
    }
   ],
   "source": [
    "#evaluating the data sets with kfold and Decision tree classifier\n",
    "knn=KNeighborsClassifier()\n",
    "scores=cross_val_score(knn,features,classes,scoring='accuracy',cv=kf)\n",
    "print(\"Accuarcy using Decision Tree:%.2f %%\"%(scores.mean()*100))#this will give avg of  acc\n",
    "print(scores) # this will give accuracy for 5 splits"
   ]
  },
  {
   "cell_type": "markdown",
   "id": "7862cc06",
   "metadata": {},
   "source": [
    "# Evaluating Dataset using Stratified Kfold"
   ]
  },
  {
   "cell_type": "code",
   "execution_count": 11,
   "id": "5498a413",
   "metadata": {},
   "outputs": [
    {
     "name": "stdout",
     "output_type": "stream",
     "text": [
      "Accuarcy using Decision Tree:96.67 %\n",
      "[0.96666667 0.96666667 0.9        1.         1.        ]\n"
     ]
    }
   ],
   "source": [
    "#evaluating the data sets with stratified kfold and Decision tree classifier\n",
    "scores=cross_val_score(dst,features,classes,scoring='accuracy',cv=skf)\n",
    "print(\"Accuarcy using Decision Tree:%.2f %%\"%(scores.mean()*100))\n",
    "print(scores)"
   ]
  },
  {
   "cell_type": "code",
   "execution_count": 12,
   "id": "6a76f5e3",
   "metadata": {},
   "outputs": [
    {
     "name": "stdout",
     "output_type": "stream",
     "text": [
      "Accuarcy using Decision Tree:95.33 %\n",
      "[0.93333333 0.96666667 0.93333333 0.93333333 1.        ]\n"
     ]
    }
   ],
   "source": [
    "#evaluating the data sets with stratified kfold and Naive bayes\n",
    "scores=cross_val_score(nb,features,classes,scoring='accuracy',cv=skf)\n",
    "print(\"Accuarcy using Decision Tree:%.2f %%\"%(scores.mean()*100))\n",
    "print(scores)"
   ]
  },
  {
   "cell_type": "code",
   "execution_count": 13,
   "id": "e731c1d1",
   "metadata": {},
   "outputs": [
    {
     "name": "stdout",
     "output_type": "stream",
     "text": [
      "Accuarcy using Decision Tree:96.67 %\n",
      "[0.96666667 0.96666667 0.96666667 0.93333333 1.        ]\n"
     ]
    }
   ],
   "source": [
    "#evaluating the data sets with stratified kfold and SVM classifier\n",
    "scores=cross_val_score(svm,features,classes,scoring='accuracy',cv=skf)\n",
    "print(\"Accuarcy using Decision Tree:%.2f %%\"%(scores.mean()*100))\n",
    "print(scores)"
   ]
  },
  {
   "cell_type": "code",
   "execution_count": 14,
   "id": "29e59026",
   "metadata": {},
   "outputs": [
    {
     "name": "stdout",
     "output_type": "stream",
     "text": [
      "Accuarcy using Decision Tree:97.33 %\n",
      "[0.96666667 1.         0.93333333 0.96666667 1.        ]\n"
     ]
    }
   ],
   "source": [
    "#evaluating the data sets with stratified kfold and knn classifier\n",
    "scores=cross_val_score(knn,features,classes,scoring='accuracy',cv=skf)\n",
    "print(\"Accuarcy using Decision Tree:%.2f %%\"%(scores.mean()*100))\n",
    "print(scores)"
   ]
  },
  {
   "cell_type": "markdown",
   "id": "532bce8b",
   "metadata": {},
   "source": [
    "# leave one out "
   ]
  },
  {
   "cell_type": "code",
   "execution_count": 15,
   "id": "b3d2e67b",
   "metadata": {},
   "outputs": [
    {
     "name": "stdout",
     "output_type": "stream",
     "text": [
      "Accuarcy using Decision Tree:96.00 %\n",
      "[1. 1. 1. 1. 1. 1. 1. 1. 1. 1. 1. 1. 1. 1. 1. 1. 1. 1. 1. 1. 1. 1. 1. 1.\n",
      " 1. 1. 1. 1. 1. 1. 1. 1. 1. 1. 1. 1. 1. 1. 1. 1. 1. 1. 1. 1. 1. 1. 1. 1.\n",
      " 1. 1. 1. 1. 1. 1. 1. 1. 1. 1. 1. 1. 1. 1. 1. 1. 1. 1. 1. 1. 1. 1. 0. 1.\n",
      " 1. 1. 1. 1. 1. 0. 1. 1. 1. 1. 1. 0. 1. 1. 1. 1. 1. 1. 1. 1. 1. 1. 1. 1.\n",
      " 1. 1. 1. 1. 1. 1. 1. 1. 1. 1. 0. 1. 1. 1. 1. 1. 1. 1. 1. 1. 1. 1. 1. 0.\n",
      " 1. 1. 1. 1. 1. 1. 1. 1. 1. 0. 1. 1. 1. 1. 1. 1. 1. 1. 1. 1. 1. 1. 1. 1.\n",
      " 1. 1. 1. 1. 1. 1.]\n"
     ]
    }
   ],
   "source": [
    "#evaluating the data sets with stratified kfold and Decision tree classifier\n",
    "scores=cross_val_score(dst,features,classes,scoring='accuracy',cv=loocv)\n",
    "print(\"Accuarcy using Decision Tree:%.2f %%\"%(scores.mean()*100))\n",
    "print(scores)"
   ]
  },
  {
   "cell_type": "code",
   "execution_count": 16,
   "id": "c414eb74",
   "metadata": {},
   "outputs": [
    {
     "name": "stdout",
     "output_type": "stream",
     "text": [
      "Accuarcy using Decision Tree:95.33 %\n",
      "[1. 1. 1. 1. 1. 1. 1. 1. 1. 1. 1. 1. 1. 1. 1. 1. 1. 1. 1. 1. 1. 1. 1. 1.\n",
      " 1. 1. 1. 1. 1. 1. 1. 1. 1. 1. 1. 1. 1. 1. 1. 1. 1. 1. 1. 1. 1. 1. 1. 1.\n",
      " 1. 1. 1. 1. 0. 1. 1. 1. 1. 1. 1. 1. 1. 1. 1. 1. 1. 1. 1. 1. 1. 1. 0. 1.\n",
      " 1. 1. 1. 1. 1. 0. 1. 1. 1. 1. 1. 1. 1. 1. 1. 1. 1. 1. 1. 1. 1. 1. 1. 1.\n",
      " 1. 1. 1. 1. 1. 1. 1. 1. 1. 1. 0. 1. 1. 1. 1. 1. 1. 1. 1. 1. 1. 1. 1. 0.\n",
      " 1. 1. 1. 1. 1. 1. 1. 1. 1. 1. 1. 1. 1. 0. 0. 1. 1. 1. 1. 1. 1. 1. 1. 1.\n",
      " 1. 1. 1. 1. 1. 1.]\n"
     ]
    }
   ],
   "source": [
    "#evaluating the data sets with stratified kfold and Naive bayes\n",
    "scores=cross_val_score(nb,features,classes,scoring='accuracy',cv=loocv)\n",
    "print(\"Accuarcy using Decision Tree:%.2f %%\"%(scores.mean()*100))\n",
    "print(scores)"
   ]
  },
  {
   "cell_type": "code",
   "execution_count": 17,
   "id": "a22e147f",
   "metadata": {},
   "outputs": [
    {
     "name": "stdout",
     "output_type": "stream",
     "text": [
      "Accuarcy using Decision Tree:96.67 %\n",
      "[1. 1. 1. 1. 1. 1. 1. 1. 1. 1. 1. 1. 1. 1. 1. 1. 1. 1. 1. 1. 1. 1. 1. 1.\n",
      " 1. 1. 1. 1. 1. 1. 1. 1. 1. 1. 1. 1. 1. 1. 1. 1. 1. 1. 1. 1. 1. 1. 1. 1.\n",
      " 1. 1. 1. 1. 1. 1. 1. 1. 1. 1. 1. 1. 1. 1. 1. 1. 1. 1. 1. 1. 1. 1. 1. 1.\n",
      " 1. 1. 1. 1. 1. 0. 1. 1. 1. 1. 1. 0. 1. 1. 1. 1. 1. 1. 1. 1. 1. 1. 1. 1.\n",
      " 1. 1. 1. 1. 1. 1. 1. 1. 1. 1. 0. 1. 1. 1. 1. 1. 1. 1. 1. 1. 1. 1. 1. 1.\n",
      " 1. 1. 1. 1. 1. 1. 0. 1. 1. 1. 1. 1. 1. 1. 1. 1. 1. 1. 0. 1. 1. 1. 1. 1.\n",
      " 1. 1. 1. 1. 1. 1.]\n"
     ]
    }
   ],
   "source": [
    "#evaluating the data sets with stratified kfold and SVM classifier\n",
    "scores=cross_val_score(svm,features,classes,scoring='accuracy',cv=loocv)\n",
    "print(\"Accuarcy using Decision Tree:%.2f %%\"%(scores.mean()*100))\n",
    "print(scores)"
   ]
  },
  {
   "cell_type": "code",
   "execution_count": 18,
   "id": "3cff4d40",
   "metadata": {},
   "outputs": [
    {
     "name": "stdout",
     "output_type": "stream",
     "text": [
      "Accuarcy using Decision Tree:96.67 %\n",
      "[1. 1. 1. 1. 1. 1. 1. 1. 1. 1. 1. 1. 1. 1. 1. 1. 1. 1. 1. 1. 1. 1. 1. 1.\n",
      " 1. 1. 1. 1. 1. 1. 1. 1. 1. 1. 1. 1. 1. 1. 1. 1. 1. 1. 1. 1. 1. 1. 1. 1.\n",
      " 1. 1. 1. 1. 1. 1. 1. 1. 1. 1. 1. 1. 1. 1. 1. 1. 1. 1. 1. 1. 1. 1. 0. 1.\n",
      " 0. 1. 1. 1. 1. 1. 1. 1. 1. 1. 1. 0. 1. 1. 1. 1. 1. 1. 1. 1. 1. 1. 1. 1.\n",
      " 1. 1. 1. 1. 1. 1. 1. 1. 1. 1. 0. 1. 1. 1. 1. 1. 1. 1. 1. 1. 1. 1. 1. 0.\n",
      " 1. 1. 1. 1. 1. 1. 1. 1. 1. 1. 1. 1. 1. 1. 1. 1. 1. 1. 1. 1. 1. 1. 1. 1.\n",
      " 1. 1. 1. 1. 1. 1.]\n"
     ]
    }
   ],
   "source": [
    "#evaluating the data sets with stratified kfold and knn classifier\n",
    "scores=cross_val_score(knn,features,classes,scoring='accuracy',cv=loocv)\n",
    "print(\"Accuarcy using Decision Tree:%.2f %%\"%(scores.mean()*100))\n",
    "print(scores)"
   ]
  },
  {
   "cell_type": "markdown",
   "id": "f6940cc1",
   "metadata": {},
   "source": [
    "# shuffle "
   ]
  },
  {
   "cell_type": "code",
   "execution_count": 23,
   "id": "d44552af",
   "metadata": {},
   "outputs": [
    {
     "name": "stdout",
     "output_type": "stream",
     "text": [
      "Accuarcy using Decision Tree:97.33 %\n",
      "[0.93333333 0.93333333 1.         1.         1.         0.93333333\n",
      " 0.93333333 1.         1.         1.        ]\n"
     ]
    }
   ],
   "source": [
    "#evaluating the data sets with stratified kfold and Decision tree classifier\n",
    "scores=cross_val_score(dst,features,classes,scoring='accuracy',cv=shcv)\n",
    "print(\"Accuarcy using Decision Tree:%.2f %%\"%(scores.mean()*100))\n",
    "print(scores)"
   ]
  },
  {
   "cell_type": "code",
   "execution_count": 24,
   "id": "195d2554",
   "metadata": {},
   "outputs": [
    {
     "name": "stdout",
     "output_type": "stream",
     "text": [
      "Accuarcy using Decision Tree:94.67 %\n",
      "[1.         0.93333333 1.         0.8        1.         1.\n",
      " 0.86666667 1.         1.         0.86666667]\n"
     ]
    }
   ],
   "source": [
    "#evaluating the data sets with stratified kfold and Naive bayes\n",
    "scores=cross_val_score(nb,features,classes,scoring='accuracy',cv=shcv)\n",
    "print(\"Accuarcy using Decision Tree:%.2f %%\"%(scores.mean()*100))\n",
    "print(scores)"
   ]
  },
  {
   "cell_type": "code",
   "execution_count": 25,
   "id": "26fdf348",
   "metadata": {},
   "outputs": [
    {
     "name": "stdout",
     "output_type": "stream",
     "text": [
      "Accuarcy using Decision Tree:94.67 %\n",
      "[1.         0.8        0.93333333 0.93333333 1.         0.93333333\n",
      " 1.         1.         0.93333333 0.93333333]\n"
     ]
    }
   ],
   "source": [
    "#evaluating the data sets with stratified kfold and SVM classifier\n",
    "scores=cross_val_score(svm,features,classes,scoring='accuracy',cv=shcv)\n",
    "print(\"Accuarcy using Decision Tree:%.2f %%\"%(scores.mean()*100))\n",
    "print(scores)"
   ]
  },
  {
   "cell_type": "code",
   "execution_count": 26,
   "id": "d078be84",
   "metadata": {},
   "outputs": [
    {
     "name": "stdout",
     "output_type": "stream",
     "text": [
      "Accuarcy using Decision Tree:97.33 %\n",
      "[0.93333333 1.         1.         1.         0.86666667 1.\n",
      " 1.         1.         0.93333333 1.        ]\n"
     ]
    }
   ],
   "source": [
    "#evaluating the data sets with stratified kfold and knn classifier\n",
    "scores=cross_val_score(knn,features,classes,scoring='accuracy',cv=shcv)\n",
    "print(\"Accuarcy using Decision Tree:%.2f %%\"%(scores.mean()*100))\n",
    "print(scores)"
   ]
  },
  {
   "cell_type": "code",
   "execution_count": null,
   "id": "72aee799",
   "metadata": {},
   "outputs": [],
   "source": []
  }
 ],
 "metadata": {
  "kernelspec": {
   "display_name": "Python 3 (ipykernel)",
   "language": "python",
   "name": "python3"
  },
  "language_info": {
   "codemirror_mode": {
    "name": "ipython",
    "version": 3
   },
   "file_extension": ".py",
   "mimetype": "text/x-python",
   "name": "python",
   "nbconvert_exporter": "python",
   "pygments_lexer": "ipython3",
   "version": "3.9.12"
  }
 },
 "nbformat": 4,
 "nbformat_minor": 5
}
