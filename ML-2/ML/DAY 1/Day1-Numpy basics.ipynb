{
 "cells": [
  {
   "cell_type": "markdown",
   "id": "733991dd",
   "metadata": {},
   "source": [
    "# NUMPY BASICS\n"
   ]
  },
  {
   "cell_type": "code",
   "execution_count": 1,
   "id": "5f736627",
   "metadata": {},
   "outputs": [],
   "source": [
    "import numpy as np\n"
   ]
  },
  {
   "cell_type": "code",
   "execution_count": 2,
   "id": "f9836687",
   "metadata": {},
   "outputs": [],
   "source": [
    "x=[1,2,3,4,5,6]"
   ]
  },
  {
   "cell_type": "code",
   "execution_count": 3,
   "id": "e91233fe",
   "metadata": {},
   "outputs": [
    {
     "data": {
      "text/plain": [
       "[1, 2, 3, 4, 5, 6]"
      ]
     },
     "execution_count": 3,
     "metadata": {},
     "output_type": "execute_result"
    }
   ],
   "source": [
    "x"
   ]
  },
  {
   "cell_type": "code",
   "execution_count": 4,
   "id": "a72309eb",
   "metadata": {},
   "outputs": [
    {
     "data": {
      "text/plain": [
       "list"
      ]
     },
     "execution_count": 4,
     "metadata": {},
     "output_type": "execute_result"
    }
   ],
   "source": [
    "type(x)"
   ]
  },
  {
   "cell_type": "code",
   "execution_count": 5,
   "id": "95f739ec",
   "metadata": {},
   "outputs": [],
   "source": [
    "y=np.array([1,2,3,4,5,6])"
   ]
  },
  {
   "cell_type": "code",
   "execution_count": 6,
   "id": "cf39bbb8",
   "metadata": {},
   "outputs": [
    {
     "data": {
      "text/plain": [
       "numpy.ndarray"
      ]
     },
     "execution_count": 6,
     "metadata": {},
     "output_type": "execute_result"
    }
   ],
   "source": [
    "type(y)"
   ]
  },
  {
   "cell_type": "code",
   "execution_count": 7,
   "id": "56c14e9f",
   "metadata": {},
   "outputs": [],
   "source": [
    "y=np.array((1,2,3,4,5,6))"
   ]
  },
  {
   "cell_type": "code",
   "execution_count": 8,
   "id": "7f8dff78",
   "metadata": {},
   "outputs": [
    {
     "data": {
      "text/plain": [
       "numpy.ndarray"
      ]
     },
     "execution_count": 8,
     "metadata": {},
     "output_type": "execute_result"
    }
   ],
   "source": [
    "type(y)"
   ]
  },
  {
   "cell_type": "code",
   "execution_count": 9,
   "id": "e2d886d7",
   "metadata": {},
   "outputs": [
    {
     "data": {
      "text/plain": [
       "array([1, 2, 3, 4, 5, 6])"
      ]
     },
     "execution_count": 9,
     "metadata": {},
     "output_type": "execute_result"
    }
   ],
   "source": [
    "y"
   ]
  },
  {
   "cell_type": "code",
   "execution_count": 10,
   "id": "d702ed73",
   "metadata": {},
   "outputs": [
    {
     "data": {
      "text/plain": [
       "[1, 2, 'vaibhav', 69]"
      ]
     },
     "execution_count": 10,
     "metadata": {},
     "output_type": "execute_result"
    }
   ],
   "source": [
    "x=[1,2,'vaibhav',69]\n",
    "x"
   ]
  },
  {
   "cell_type": "code",
   "execution_count": 11,
   "id": "ed735a6a",
   "metadata": {},
   "outputs": [
    {
     "data": {
      "text/plain": [
       "array(['1', '2', 'vaibhav', '69'], dtype='<U11')"
      ]
     },
     "execution_count": 11,
     "metadata": {},
     "output_type": "execute_result"
    }
   ],
   "source": [
    "y=np.array(x)\n",
    "y"
   ]
  },
  {
   "cell_type": "code",
   "execution_count": 12,
   "id": "cc0c5bba",
   "metadata": {},
   "outputs": [],
   "source": [
    "y=np.linspace(start=0,stop=20,num=10) "
   ]
  },
  {
   "cell_type": "code",
   "execution_count": 13,
   "id": "428a176c",
   "metadata": {},
   "outputs": [
    {
     "data": {
      "text/plain": [
       "array([ 0.        ,  2.22222222,  4.44444444,  6.66666667,  8.88888889,\n",
       "       11.11111111, 13.33333333, 15.55555556, 17.77777778, 20.        ])"
      ]
     },
     "execution_count": 13,
     "metadata": {},
     "output_type": "execute_result"
    }
   ],
   "source": [
    "y"
   ]
  },
  {
   "cell_type": "code",
   "execution_count": 14,
   "id": "7d8a4476",
   "metadata": {},
   "outputs": [
    {
     "data": {
      "text/plain": [
       "array([ 0.        ,  2.22222222,  4.44444444,  6.66666667,  8.88888889,\n",
       "       11.11111111, 13.33333333, 15.55555556, 17.77777778, 20.        ])"
      ]
     },
     "execution_count": 14,
     "metadata": {},
     "output_type": "execute_result"
    }
   ],
   "source": [
    "y=np.linspace(start=0,stop=20,num=10,endpoint=True)\n",
    "y"
   ]
  },
  {
   "cell_type": "code",
   "execution_count": 15,
   "id": "3ca383fb",
   "metadata": {},
   "outputs": [
    {
     "data": {
      "text/plain": [
       "array([ 0.,  2.,  4.,  6.,  8., 10., 12., 14., 16., 18.])"
      ]
     },
     "execution_count": 15,
     "metadata": {},
     "output_type": "execute_result"
    }
   ],
   "source": [
    "y=np.linspace(start=0,stop=20,num=10,endpoint=False)\n",
    "y"
   ]
  },
  {
   "cell_type": "code",
   "execution_count": 16,
   "id": "a19912d6",
   "metadata": {},
   "outputs": [
    {
     "data": {
      "text/plain": [
       "(array([ 0.        ,  2.22222222,  4.44444444,  6.66666667,  8.88888889,\n",
       "        11.11111111, 13.33333333, 15.55555556, 17.77777778, 20.        ]),\n",
       " 2.2222222222222223)"
      ]
     },
     "execution_count": 16,
     "metadata": {},
     "output_type": "execute_result"
    }
   ],
   "source": [
    "y=np.linspace(start=0,stop=20,num=10,endpoint=True,retstep=True) #retstrp gives the step if True\n",
    "y"
   ]
  },
  {
   "cell_type": "code",
   "execution_count": 17,
   "id": "8cf0fff9",
   "metadata": {},
   "outputs": [
    {
     "data": {
      "text/plain": [
       "array([ 0.        ,  2.22222222,  4.44444444,  6.66666667,  8.88888889,\n",
       "       11.11111111, 13.33333333, 15.55555556, 17.77777778, 20.        ])"
      ]
     },
     "execution_count": 17,
     "metadata": {},
     "output_type": "execute_result"
    }
   ],
   "source": [
    "y=np.linspace(start=0,stop=20,num=10,endpoint=True,retstep=False)\n",
    "y"
   ]
  },
  {
   "cell_type": "code",
   "execution_count": 18,
   "id": "47131361",
   "metadata": {},
   "outputs": [
    {
     "data": {
      "text/plain": [
       "array([1, 3, 5, 7, 9])"
      ]
     },
     "execution_count": 18,
     "metadata": {},
     "output_type": "execute_result"
    }
   ],
   "source": [
    "d=np.arange(start=1,stop=10,step=2) #arange is to create array with conditions \n",
    "d"
   ]
  },
  {
   "cell_type": "code",
   "execution_count": 19,
   "id": "b9169e36",
   "metadata": {},
   "outputs": [
    {
     "data": {
      "text/plain": [
       "[[1, 2, 3], [4, 5, 6], [7, 8, 9]]"
      ]
     },
     "execution_count": 19,
     "metadata": {},
     "output_type": "execute_result"
    }
   ],
   "source": [
    "# 3D Array \n",
    "#it is giving a normal nested list \n",
    "z=[[1,2,3],[4,5,6],[7,8,9]]\n",
    "z"
   ]
  },
  {
   "cell_type": "code",
   "execution_count": 20,
   "id": "0a5e4ab3",
   "metadata": {},
   "outputs": [
    {
     "data": {
      "text/plain": [
       "array([[1, 2, 3],\n",
       "       [4, 5, 6],\n",
       "       [7, 8, 9]])"
      ]
     },
     "execution_count": 20,
     "metadata": {},
     "output_type": "execute_result"
    }
   ],
   "source": [
    "z=np.array([[1,2,3],[4,5,6],[7,8,9]]) #if we use np.array it will give 3D array\n",
    "z"
   ]
  },
  {
   "cell_type": "code",
   "execution_count": 21,
   "id": "08d2c8dd",
   "metadata": {},
   "outputs": [
    {
     "data": {
      "text/plain": [
       "array([[1., 1., 1.],\n",
       "       [1., 1., 1.],\n",
       "       [1., 1., 1.]])"
      ]
     },
     "execution_count": 21,
     "metadata": {},
     "output_type": "execute_result"
    }
   ],
   "source": [
    "# array of 1's \n",
    "# give the parameter \n",
    "np.ones((3,3)) #means 3x3 matrix of one's\n"
   ]
  },
  {
   "cell_type": "code",
   "execution_count": 22,
   "id": "f1ffe946",
   "metadata": {},
   "outputs": [
    {
     "data": {
      "text/plain": [
       "array([[0., 0., 0., 0., 0.],\n",
       "       [0., 0., 0., 0., 0.],\n",
       "       [0., 0., 0., 0., 0.],\n",
       "       [0., 0., 0., 0., 0.]])"
      ]
     },
     "execution_count": 22,
     "metadata": {},
     "output_type": "execute_result"
    }
   ],
   "source": [
    "# now with zero array \n",
    "np.zeros((4,5)) # means 4x5 matrix array of zeroes"
   ]
  },
  {
   "cell_type": "code",
   "execution_count": 23,
   "id": "de3ca750",
   "metadata": {},
   "outputs": [
    {
     "data": {
      "text/plain": [
       "array([[1., 0., 0., 0.],\n",
       "       [0., 1., 0., 0.],\n",
       "       [0., 0., 1., 0.],\n",
       "       [0., 0., 0., 1.]])"
      ]
     },
     "execution_count": 23,
     "metadata": {},
     "output_type": "execute_result"
    }
   ],
   "source": [
    " np.eye(4) # for identity matrix , means diagonal is 1 "
   ]
  },
  {
   "cell_type": "markdown",
   "id": "c760df29",
   "metadata": {},
   "source": [
    "# RESHAPING"
   ]
  },
  {
   "cell_type": "code",
   "execution_count": 24,
   "id": "6576fc41",
   "metadata": {},
   "outputs": [
    {
     "data": {
      "text/plain": [
       "array([0, 1, 2, 3, 4, 5, 6, 7, 8, 9])"
      ]
     },
     "execution_count": 24,
     "metadata": {},
     "output_type": "execute_result"
    }
   ],
   "source": [
    "x=np.array([0,1,2,3,4,5,6,7,8,9])\n",
    "x"
   ]
  },
  {
   "cell_type": "code",
   "execution_count": 25,
   "id": "a301b15f",
   "metadata": {},
   "outputs": [
    {
     "data": {
      "text/plain": [
       "array([[0, 1],\n",
       "       [2, 3],\n",
       "       [4, 5],\n",
       "       [6, 7],\n",
       "       [8, 9]])"
      ]
     },
     "execution_count": 25,
     "metadata": {},
     "output_type": "execute_result"
    }
   ],
   "source": [
    "x.reshape((5,2)) # change the shape of 1D matrix to given parameters"
   ]
  },
  {
   "cell_type": "markdown",
   "id": "08a064ad",
   "metadata": {},
   "source": [
    "# SLICING"
   ]
  },
  {
   "cell_type": "code",
   "execution_count": 26,
   "id": "204711ae",
   "metadata": {},
   "outputs": [],
   "source": [
    "a=np.arange(10) # it will create array"
   ]
  },
  {
   "cell_type": "code",
   "execution_count": 27,
   "id": "d4f416f1",
   "metadata": {},
   "outputs": [
    {
     "data": {
      "text/plain": [
       "array([0, 1, 2, 3, 4, 5, 6, 7, 8, 9])"
      ]
     },
     "execution_count": 27,
     "metadata": {},
     "output_type": "execute_result"
    }
   ],
   "source": [
    "a"
   ]
  },
  {
   "cell_type": "code",
   "execution_count": 28,
   "id": "9c26878a",
   "metadata": {},
   "outputs": [],
   "source": [
    "s= slice(2,7,2)\n",
    "# start , end , step\n"
   ]
  },
  {
   "cell_type": "code",
   "execution_count": 29,
   "id": "57622eef",
   "metadata": {},
   "outputs": [
    {
     "data": {
      "text/plain": [
       "array([2, 4, 6])"
      ]
     },
     "execution_count": 29,
     "metadata": {},
     "output_type": "execute_result"
    }
   ],
   "source": [
    "a[s]"
   ]
  },
  {
   "cell_type": "code",
   "execution_count": 30,
   "id": "89f9269a",
   "metadata": {},
   "outputs": [
    {
     "data": {
      "text/plain": [
       "array([1, 3, 5])"
      ]
     },
     "execution_count": 30,
     "metadata": {},
     "output_type": "execute_result"
    }
   ],
   "source": [
    "s=slice(1,6,2)\n",
    "a[s]"
   ]
  },
  {
   "cell_type": "code",
   "execution_count": 31,
   "id": "5ade7c1e",
   "metadata": {},
   "outputs": [
    {
     "data": {
      "text/plain": [
       "array([2, 3, 4, 5, 6])"
      ]
     },
     "execution_count": 31,
     "metadata": {},
     "output_type": "execute_result"
    }
   ],
   "source": [
    "x[2:7]"
   ]
  },
  {
   "cell_type": "code",
   "execution_count": 32,
   "id": "06fdf201",
   "metadata": {},
   "outputs": [
    {
     "data": {
      "text/plain": [
       "array([4, 5, 6, 7])"
      ]
     },
     "execution_count": 32,
     "metadata": {},
     "output_type": "execute_result"
    }
   ],
   "source": [
    "x[-6:-2]"
   ]
  },
  {
   "cell_type": "markdown",
   "id": "1c52a9ad",
   "metadata": {},
   "source": [
    "# random number generation "
   ]
  },
  {
   "cell_type": "code",
   "execution_count": 33,
   "id": "baeb65c9",
   "metadata": {},
   "outputs": [
    {
     "data": {
      "text/plain": [
       "array([0.68110443, 0.45754181, 0.25494662, 0.84117337, 0.85918516])"
      ]
     },
     "execution_count": 33,
     "metadata": {},
     "output_type": "execute_result"
    }
   ],
   "source": [
    "np.random.rand(5) #gives random numbers "
   ]
  },
  {
   "cell_type": "code",
   "execution_count": 34,
   "id": "4fbb9b48",
   "metadata": {},
   "outputs": [
    {
     "data": {
      "text/plain": [
       "array([[0.92209983, 0.02417045, 0.84276401, 0.10438225],\n",
       "       [0.4603582 , 0.77223048, 0.15738239, 0.5180234 ],\n",
       "       [0.23100003, 0.17290245, 0.39223883, 0.3322044 ],\n",
       "       [0.98161385, 0.45875319, 0.7689995 , 0.38281201],\n",
       "       [0.15366398, 0.87479568, 0.9881652 , 0.40004842]])"
      ]
     },
     "execution_count": 34,
     "metadata": {},
     "output_type": "execute_result"
    }
   ],
   "source": [
    "np.random.rand(5,4)  #gives random numbers in 2D format if parameters are given"
   ]
  },
  {
   "cell_type": "code",
   "execution_count": 35,
   "id": "1beb0de0",
   "metadata": {},
   "outputs": [
    {
     "data": {
      "text/plain": [
       "array([-0.94090659,  1.6673833 ,  0.75433731,  1.71187966,  0.6880217 ])"
      ]
     },
     "execution_count": 35,
     "metadata": {},
     "output_type": "execute_result"
    }
   ],
   "source": [
    "np.random.randn(5) #"
   ]
  },
  {
   "cell_type": "code",
   "execution_count": 36,
   "id": "aac23d79",
   "metadata": {},
   "outputs": [
    {
     "data": {
      "text/plain": [
       "array([[ 1.44507747, -0.71567392, -0.17889438,  1.36488669, -0.93266188],\n",
       "       [ 1.02326807,  1.20557492, -1.09176504, -0.56862943,  0.67058764],\n",
       "       [ 1.41221982, -0.04747547, -0.14038541, -0.45103114, -0.15964131],\n",
       "       [-0.35405496,  0.34435532,  0.8367741 ,  1.15638997,  2.47918998],\n",
       "       [-0.78549939,  1.26269476, -3.73535807,  1.37878059, -0.32052681]])"
      ]
     },
     "execution_count": 36,
     "metadata": {},
     "output_type": "execute_result"
    }
   ],
   "source": [
    "np.random.randn(5,5)"
   ]
  },
  {
   "cell_type": "markdown",
   "id": "74ad244e",
   "metadata": {},
   "source": [
    "# randint"
   ]
  },
  {
   "cell_type": "code",
   "execution_count": 37,
   "id": "9ab9cdb2",
   "metadata": {},
   "outputs": [
    {
     "data": {
      "text/plain": [
       "20"
      ]
     },
     "execution_count": 37,
     "metadata": {},
     "output_type": "execute_result"
    }
   ],
   "source": [
    "np.random.randint(low=1,high=100)"
   ]
  },
  {
   "cell_type": "code",
   "execution_count": 38,
   "id": "48a6b561",
   "metadata": {},
   "outputs": [
    {
     "data": {
      "text/plain": [
       "array([81, 13, 59, 48, 76, 42, 62, 11, 89, 45, 91, 32, 60, 30, 35, 73, 40,\n",
       "       47, 57,  7])"
      ]
     },
     "execution_count": 38,
     "metadata": {},
     "output_type": "execute_result"
    }
   ],
   "source": [
    "np.random.randint(low=1,high=100,size=20)"
   ]
  },
  {
   "cell_type": "markdown",
   "id": "e2abf68e",
   "metadata": {},
   "source": [
    "# seed "
   ]
  },
  {
   "cell_type": "code",
   "execution_count": 39,
   "id": "3838e124",
   "metadata": {},
   "outputs": [
    {
     "data": {
      "text/plain": [
       "array([0.29624916, 0.80906772, 0.35025253, 0.78940926])"
      ]
     },
     "execution_count": 39,
     "metadata": {},
     "output_type": "execute_result"
    }
   ],
   "source": [
    "np.random.seed(69) # seed is for picking same value of random data \n",
    "#69 is the starting point \n",
    "# 4 is the random 4 numbers from starting point \n",
    "np.random.rand(4)"
   ]
  },
  {
   "cell_type": "code",
   "execution_count": 40,
   "id": "5677a977",
   "metadata": {},
   "outputs": [
    {
     "data": {
      "text/plain": [
       "array([0.29624916, 0.80906772, 0.35025253, 0.78940926, 0.56134898])"
      ]
     },
     "execution_count": 40,
     "metadata": {},
     "output_type": "execute_result"
    }
   ],
   "source": [
    "np.random.seed(69)\n",
    "np.random.rand(5)"
   ]
  },
  {
   "cell_type": "markdown",
   "id": "44d309b1",
   "metadata": {},
   "source": [
    "# Broadcasting\n"
   ]
  },
  {
   "cell_type": "code",
   "execution_count": 41,
   "id": "21c5dc14",
   "metadata": {},
   "outputs": [
    {
     "data": {
      "text/plain": [
       "array([0, 1, 2, 3, 4, 5, 6, 7, 8, 9])"
      ]
     },
     "execution_count": 41,
     "metadata": {},
     "output_type": "execute_result"
    }
   ],
   "source": [
    "#broadcasting means the things we will do to the array it will be reflected to whole array \n",
    "arr=np.arange(0,10,1)\n",
    "arr"
   ]
  },
  {
   "cell_type": "code",
   "execution_count": 42,
   "id": "57deaa57",
   "metadata": {},
   "outputs": [
    {
     "data": {
      "text/plain": [
       "array([0. , 0.1, 0.2, 0.3, 0.4, 0.5, 0.6, 0.7, 0.8, 0.9])"
      ]
     },
     "execution_count": 42,
     "metadata": {},
     "output_type": "execute_result"
    }
   ],
   "source": [
    "arr1=arr/10 #here we are div the whole array by 10 \n",
    "arr1"
   ]
  },
  {
   "cell_type": "code",
   "execution_count": 43,
   "id": "26d54f80",
   "metadata": {},
   "outputs": [
    {
     "data": {
      "text/plain": [
       "array([ 0,  5, 10, 15, 20, 25, 30, 35, 40, 45])"
      ]
     },
     "execution_count": 43,
     "metadata": {},
     "output_type": "execute_result"
    }
   ],
   "source": [
    "arr*5 # here we are multiplying it by 5\n"
   ]
  },
  {
   "cell_type": "code",
   "execution_count": 44,
   "id": "3e725721",
   "metadata": {},
   "outputs": [
    {
     "data": {
      "text/plain": [
       "array([0, 1, 2, 3, 4, 5])"
      ]
     },
     "execution_count": 44,
     "metadata": {},
     "output_type": "execute_result"
    }
   ],
   "source": [
    "slice_arr=arr[0:6]\n",
    "slice_arr"
   ]
  },
  {
   "cell_type": "code",
   "execution_count": 45,
   "id": "4c9e2c35",
   "metadata": {},
   "outputs": [
    {
     "data": {
      "text/plain": [
       "array([555, 555, 555, 555, 555, 555])"
      ]
     },
     "execution_count": 45,
     "metadata": {},
     "output_type": "execute_result"
    }
   ],
   "source": [
    "slice_arr[:]=555\n",
    "slice_arr"
   ]
  },
  {
   "cell_type": "code",
   "execution_count": 46,
   "id": "facd5961",
   "metadata": {},
   "outputs": [],
   "source": [
    "arr_copy = arr.copy()"
   ]
  },
  {
   "cell_type": "code",
   "execution_count": 47,
   "id": "0a0b3aa2",
   "metadata": {},
   "outputs": [
    {
     "data": {
      "text/plain": [
       "array([1000, 1000, 1000, 1000, 1000, 1000, 1000, 1000, 1000, 1000])"
      ]
     },
     "execution_count": 47,
     "metadata": {},
     "output_type": "execute_result"
    }
   ],
   "source": [
    "arr_copy[:]=1000\n",
    "arr_copy"
   ]
  },
  {
   "cell_type": "code",
   "execution_count": 48,
   "id": "13e6864c",
   "metadata": {},
   "outputs": [
    {
     "data": {
      "text/plain": [
       "array([555, 555, 555, 555, 555, 555,   6,   7,   8,   9])"
      ]
     },
     "execution_count": 48,
     "metadata": {},
     "output_type": "execute_result"
    }
   ],
   "source": [
    "arr"
   ]
  },
  {
   "cell_type": "markdown",
   "id": "166b4383",
   "metadata": {},
   "source": [
    "# Conditional Selection\n"
   ]
  },
  {
   "cell_type": "code",
   "execution_count": 49,
   "id": "ff3d8862",
   "metadata": {},
   "outputs": [
    {
     "data": {
      "text/plain": [
       "array([0, 1, 2, 3, 4, 5, 6, 7, 8, 9])"
      ]
     },
     "execution_count": 49,
     "metadata": {},
     "output_type": "execute_result"
    }
   ],
   "source": [
    "arr=np.arange(0,10,1)\n",
    "arr"
   ]
  },
  {
   "cell_type": "code",
   "execution_count": 50,
   "id": "ec606e07",
   "metadata": {},
   "outputs": [
    {
     "data": {
      "text/plain": [
       "array([False, False, False, False, False,  True,  True,  True,  True,\n",
       "        True])"
      ]
     },
     "execution_count": 50,
     "metadata": {},
     "output_type": "execute_result"
    }
   ],
   "source": [
    "boo_arr=arr>4 # it is checking the bool value with the condtion provided if the condition is True the \n",
    "#will return True else False\n",
    "boo_arr"
   ]
  },
  {
   "cell_type": "code",
   "execution_count": 51,
   "id": "a2738712",
   "metadata": {},
   "outputs": [
    {
     "data": {
      "text/plain": [
       "array([5, 6, 7, 8, 9])"
      ]
     },
     "execution_count": 51,
     "metadata": {},
     "output_type": "execute_result"
    }
   ],
   "source": [
    "arr[arr>4]\n",
    "\n"
   ]
  },
  {
   "cell_type": "code",
   "execution_count": 52,
   "id": "7bfb8719",
   "metadata": {},
   "outputs": [
    {
     "data": {
      "text/plain": [
       "array([0, 1, 2, 3, 4, 5, 6, 7, 8, 9])"
      ]
     },
     "execution_count": 52,
     "metadata": {},
     "output_type": "execute_result"
    }
   ],
   "source": [
    "arr"
   ]
  },
  {
   "cell_type": "code",
   "execution_count": 53,
   "id": "088dcdf6",
   "metadata": {},
   "outputs": [
    {
     "data": {
      "text/plain": [
       "array([ 0,  2,  4,  6,  8, 10, 12, 14, 16, 18])"
      ]
     },
     "execution_count": 53,
     "metadata": {},
     "output_type": "execute_result"
    }
   ],
   "source": [
    "arr+arr # array + array it will return the point wise array"
   ]
  },
  {
   "cell_type": "code",
   "execution_count": 54,
   "id": "9e3955aa",
   "metadata": {},
   "outputs": [
    {
     "data": {
      "text/plain": [
       "array([ 0,  1,  4,  9, 16, 25, 36, 49, 64, 81])"
      ]
     },
     "execution_count": 54,
     "metadata": {},
     "output_type": "execute_result"
    }
   ],
   "source": [
    "arr * arr"
   ]
  },
  {
   "cell_type": "code",
   "execution_count": 55,
   "id": "2edac804",
   "metadata": {},
   "outputs": [
    {
     "name": "stderr",
     "output_type": "stream",
     "text": [
      "C:\\Users\\studentadmin\\AppData\\Local\\Temp\\ipykernel_13328\\3965243577.py:1: RuntimeWarning: invalid value encountered in true_divide\n",
      "  arr/arr # warning becoz of the zero , that's why the first value is Nan (not a number)\n"
     ]
    },
    {
     "data": {
      "text/plain": [
       "array([nan,  1.,  1.,  1.,  1.,  1.,  1.,  1.,  1.,  1.])"
      ]
     },
     "execution_count": 55,
     "metadata": {},
     "output_type": "execute_result"
    }
   ],
   "source": [
    "arr/arr # warning becoz of the zero , that's why the first value is Nan (not a number)"
   ]
  },
  {
   "cell_type": "code",
   "execution_count": 56,
   "id": "edaf0f22",
   "metadata": {},
   "outputs": [
    {
     "data": {
      "text/plain": [
       "array([        0,         1,       512,     19683,    262144,   1953125,\n",
       "        10077696,  40353607, 134217728, 387420489], dtype=int32)"
      ]
     },
     "execution_count": 56,
     "metadata": {},
     "output_type": "execute_result"
    }
   ],
   "source": [
    "arr**9 # ** is raise  "
   ]
  },
  {
   "cell_type": "markdown",
   "id": "b17caa8d",
   "metadata": {},
   "source": [
    "# Universal Array Functions "
   ]
  },
  {
   "cell_type": "code",
   "execution_count": 57,
   "id": "b08a0e1a",
   "metadata": {},
   "outputs": [
    {
     "data": {
      "text/plain": [
       "array([0, 1, 2, 3, 4, 5, 6, 7, 8, 9])"
      ]
     },
     "execution_count": 57,
     "metadata": {},
     "output_type": "execute_result"
    }
   ],
   "source": [
    "arr"
   ]
  },
  {
   "cell_type": "code",
   "execution_count": 58,
   "id": "969271c2",
   "metadata": {},
   "outputs": [
    {
     "data": {
      "text/plain": [
       "array([0.        , 1.        , 1.41421356, 1.73205081, 2.        ,\n",
       "       2.23606798, 2.44948974, 2.64575131, 2.82842712, 3.        ])"
      ]
     },
     "execution_count": 58,
     "metadata": {},
     "output_type": "execute_result"
    }
   ],
   "source": [
    "np.sqrt(arr) # sq root of each number"
   ]
  },
  {
   "cell_type": "code",
   "execution_count": 59,
   "id": "6e02edb2",
   "metadata": {},
   "outputs": [
    {
     "data": {
      "text/plain": [
       "array([1.00000000e+00, 2.71828183e+00, 7.38905610e+00, 2.00855369e+01,\n",
       "       5.45981500e+01, 1.48413159e+02, 4.03428793e+02, 1.09663316e+03,\n",
       "       2.98095799e+03, 8.10308393e+03])"
      ]
     },
     "execution_count": 59,
     "metadata": {},
     "output_type": "execute_result"
    }
   ],
   "source": [
    "np.exp(arr)"
   ]
  },
  {
   "cell_type": "code",
   "execution_count": 60,
   "id": "0dad2e87",
   "metadata": {},
   "outputs": [
    {
     "data": {
      "text/plain": [
       "array([ 0.        ,  0.84147098,  0.90929743,  0.14112001, -0.7568025 ,\n",
       "       -0.95892427, -0.2794155 ,  0.6569866 ,  0.98935825,  0.41211849])"
      ]
     },
     "execution_count": 60,
     "metadata": {},
     "output_type": "execute_result"
    }
   ],
   "source": [
    "np.sin(arr) "
   ]
  },
  {
   "cell_type": "code",
   "execution_count": 61,
   "id": "8fedb5f9",
   "metadata": {},
   "outputs": [],
   "source": [
    "size = 100\n"
   ]
  },
  {
   "cell_type": "code",
   "execution_count": 62,
   "id": "a4b7f01d",
   "metadata": {},
   "outputs": [],
   "source": [
    "x1=range(size)\n",
    "y1=range(size)"
   ]
  },
  {
   "cell_type": "code",
   "execution_count": 63,
   "id": "af0f1eec",
   "metadata": {},
   "outputs": [
    {
     "data": {
      "text/plain": [
       "range(0, 100)"
      ]
     },
     "execution_count": 63,
     "metadata": {},
     "output_type": "execute_result"
    }
   ],
   "source": [
    "x1"
   ]
  },
  {
   "cell_type": "code",
   "execution_count": 64,
   "id": "40091149",
   "metadata": {},
   "outputs": [
    {
     "data": {
      "text/plain": [
       "range(0, 100)"
      ]
     },
     "execution_count": 64,
     "metadata": {},
     "output_type": "execute_result"
    }
   ],
   "source": [
    "y1"
   ]
  },
  {
   "cell_type": "code",
   "execution_count": 65,
   "id": "f30f4b64",
   "metadata": {},
   "outputs": [
    {
     "name": "stdout",
     "output_type": "stream",
     "text": [
      "16 µs ± 145 ns per loop (mean ± std. dev. of 7 runs, 100,000 loops each)\n"
     ]
    }
   ],
   "source": [
    "%%timeit # it will give the time to execute this statement\n",
    "[x1[i]*y1[i] for i in range(size)]"
   ]
  },
  {
   "cell_type": "code",
   "execution_count": 66,
   "id": "f3c50365",
   "metadata": {},
   "outputs": [],
   "source": [
    "x2=np.arange(size)\n",
    "y2=np.arange(size)"
   ]
  },
  {
   "cell_type": "code",
   "execution_count": 67,
   "id": "bdd3a621",
   "metadata": {},
   "outputs": [
    {
     "name": "stdout",
     "output_type": "stream",
     "text": [
      "385 ns ± 6.81 ns per loop (mean ± std. dev. of 7 runs, 1,000,000 loops each)\n"
     ]
    }
   ],
   "source": [
    "%%timeit\n",
    "x2*y2"
   ]
  },
  {
   "cell_type": "markdown",
   "id": "4a2b28ab",
   "metadata": {},
   "source": [
    "# Append"
   ]
  },
  {
   "cell_type": "code",
   "execution_count": 68,
   "id": "de1186ef",
   "metadata": {},
   "outputs": [
    {
     "data": {
      "text/plain": [
       "array([[1, 2, 3],\n",
       "       [4, 5, 6],\n",
       "       [7, 8, 9]])"
      ]
     },
     "execution_count": 68,
     "metadata": {},
     "output_type": "execute_result"
    }
   ],
   "source": [
    "a=np.array([[1,2,3],[4,5,6],[7,8,9]])\n",
    "a\n"
   ]
  },
  {
   "cell_type": "code",
   "execution_count": 69,
   "id": "e9cf3e81",
   "metadata": {},
   "outputs": [
    {
     "data": {
      "text/plain": [
       "array([[ 1,  2,  3],\n",
       "       [ 4,  5,  6],\n",
       "       [ 7,  8,  9],\n",
       "       [21, 22, 69]])"
      ]
     },
     "execution_count": 69,
     "metadata": {},
     "output_type": "execute_result"
    }
   ],
   "source": [
    "a_row=np.append(a,[[21,22,69]],axis=0) #axis = 0 means adding a row \n",
    "a_row                                  # axis = 1 means adding a coloum\n"
   ]
  },
  {
   "cell_type": "code",
   "execution_count": 70,
   "id": "31a440b0",
   "metadata": {},
   "outputs": [
    {
     "data": {
      "text/plain": [
       "array([[34],\n",
       "       [23],\n",
       "       [55]])"
      ]
     },
     "execution_count": 70,
     "metadata": {},
     "output_type": "execute_result"
    }
   ],
   "source": [
    "a_col=np.array([34,23,55]).reshape(3,1)\n",
    "a_col"
   ]
  },
  {
   "cell_type": "code",
   "execution_count": 71,
   "id": "3ff5c5b2",
   "metadata": {},
   "outputs": [
    {
     "data": {
      "text/plain": [
       "array([[ 1,  2,  3, 34],\n",
       "       [ 4,  5,  6, 23],\n",
       "       [ 7,  8,  9, 55]])"
      ]
     },
     "execution_count": 71,
     "metadata": {},
     "output_type": "execute_result"
    }
   ],
   "source": [
    "a_col=np.append(a,a_col,axis=1)\n",
    "a_col"
   ]
  },
  {
   "cell_type": "code",
   "execution_count": null,
   "id": "62419fb7",
   "metadata": {},
   "outputs": [],
   "source": []
  }
 ],
 "metadata": {
  "kernelspec": {
   "display_name": "Python 3 (ipykernel)",
   "language": "python",
   "name": "python3"
  },
  "language_info": {
   "codemirror_mode": {
    "name": "ipython",
    "version": 3
   },
   "file_extension": ".py",
   "mimetype": "text/x-python",
   "name": "python",
   "nbconvert_exporter": "python",
   "pygments_lexer": "ipython3",
   "version": "3.9.12"
  }
 },
 "nbformat": 4,
 "nbformat_minor": 5
}
