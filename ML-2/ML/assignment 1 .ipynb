{
 "cells": [
  {
   "cell_type": "code",
   "execution_count": 1,
   "id": "581748e1",
   "metadata": {},
   "outputs": [],
   "source": [
    "import pandas as pd\n",
    "import numpy as np\n",
    "import matplotlib.pyplot as plt\n",
    "import seaborn as sns\n",
    "%matplotlib inline\n",
    "import seaborn as sns\n",
    "from sklearn.linear_model import LinearRegression\n",
    "from sklearn.metrics import mean_squared_error,mean_absolute_error\n",
    "from sklearn.model_selection import train_test_split"
   ]
  },
  {
   "cell_type": "code",
   "execution_count": 2,
   "id": "7319bb5e",
   "metadata": {},
   "outputs": [],
   "source": [
    "dfi=pd.read_csv('D:\\\\vk\\\\TRIM 3\\\\ML\\\\DATASET\\\\insurance.csv')"
   ]
  },
  {
   "cell_type": "code",
   "execution_count": 3,
   "id": "9fab9b2f",
   "metadata": {},
   "outputs": [
    {
     "name": "stdout",
     "output_type": "stream",
     "text": [
      "<class 'pandas.core.frame.DataFrame'>\n",
      "RangeIndex: 1338 entries, 0 to 1337\n",
      "Data columns (total 7 columns):\n",
      " #   Column    Non-Null Count  Dtype  \n",
      "---  ------    --------------  -----  \n",
      " 0   age       1338 non-null   int64  \n",
      " 1   sex       1338 non-null   object \n",
      " 2   bmi       1338 non-null   float64\n",
      " 3   children  1338 non-null   int64  \n",
      " 4   smoker    1338 non-null   object \n",
      " 5   region    1338 non-null   object \n",
      " 6   charges   1338 non-null   float64\n",
      "dtypes: float64(2), int64(2), object(3)\n",
      "memory usage: 73.3+ KB\n"
     ]
    }
   ],
   "source": [
    "dfi.info()"
   ]
  },
  {
   "cell_type": "code",
   "execution_count": 4,
   "id": "3fb65bef",
   "metadata": {},
   "outputs": [
    {
     "data": {
      "text/html": [
       "<div>\n",
       "<style scoped>\n",
       "    .dataframe tbody tr th:only-of-type {\n",
       "        vertical-align: middle;\n",
       "    }\n",
       "\n",
       "    .dataframe tbody tr th {\n",
       "        vertical-align: top;\n",
       "    }\n",
       "\n",
       "    .dataframe thead th {\n",
       "        text-align: right;\n",
       "    }\n",
       "</style>\n",
       "<table border=\"1\" class=\"dataframe\">\n",
       "  <thead>\n",
       "    <tr style=\"text-align: right;\">\n",
       "      <th></th>\n",
       "      <th>age</th>\n",
       "      <th>bmi</th>\n",
       "      <th>children</th>\n",
       "      <th>charges</th>\n",
       "    </tr>\n",
       "  </thead>\n",
       "  <tbody>\n",
       "    <tr>\n",
       "      <th>count</th>\n",
       "      <td>1338.000000</td>\n",
       "      <td>1338.000000</td>\n",
       "      <td>1338.000000</td>\n",
       "      <td>1338.000000</td>\n",
       "    </tr>\n",
       "    <tr>\n",
       "      <th>mean</th>\n",
       "      <td>39.207025</td>\n",
       "      <td>30.663397</td>\n",
       "      <td>1.094918</td>\n",
       "      <td>13270.422265</td>\n",
       "    </tr>\n",
       "    <tr>\n",
       "      <th>std</th>\n",
       "      <td>14.049960</td>\n",
       "      <td>6.098187</td>\n",
       "      <td>1.205493</td>\n",
       "      <td>12110.011237</td>\n",
       "    </tr>\n",
       "    <tr>\n",
       "      <th>min</th>\n",
       "      <td>18.000000</td>\n",
       "      <td>15.960000</td>\n",
       "      <td>0.000000</td>\n",
       "      <td>1121.873900</td>\n",
       "    </tr>\n",
       "    <tr>\n",
       "      <th>25%</th>\n",
       "      <td>27.000000</td>\n",
       "      <td>26.296250</td>\n",
       "      <td>0.000000</td>\n",
       "      <td>4740.287150</td>\n",
       "    </tr>\n",
       "    <tr>\n",
       "      <th>50%</th>\n",
       "      <td>39.000000</td>\n",
       "      <td>30.400000</td>\n",
       "      <td>1.000000</td>\n",
       "      <td>9382.033000</td>\n",
       "    </tr>\n",
       "    <tr>\n",
       "      <th>75%</th>\n",
       "      <td>51.000000</td>\n",
       "      <td>34.693750</td>\n",
       "      <td>2.000000</td>\n",
       "      <td>16639.912515</td>\n",
       "    </tr>\n",
       "    <tr>\n",
       "      <th>max</th>\n",
       "      <td>64.000000</td>\n",
       "      <td>53.130000</td>\n",
       "      <td>5.000000</td>\n",
       "      <td>63770.428010</td>\n",
       "    </tr>\n",
       "  </tbody>\n",
       "</table>\n",
       "</div>"
      ],
      "text/plain": [
       "               age          bmi     children       charges\n",
       "count  1338.000000  1338.000000  1338.000000   1338.000000\n",
       "mean     39.207025    30.663397     1.094918  13270.422265\n",
       "std      14.049960     6.098187     1.205493  12110.011237\n",
       "min      18.000000    15.960000     0.000000   1121.873900\n",
       "25%      27.000000    26.296250     0.000000   4740.287150\n",
       "50%      39.000000    30.400000     1.000000   9382.033000\n",
       "75%      51.000000    34.693750     2.000000  16639.912515\n",
       "max      64.000000    53.130000     5.000000  63770.428010"
      ]
     },
     "execution_count": 4,
     "metadata": {},
     "output_type": "execute_result"
    }
   ],
   "source": [
    "dfi.describe()"
   ]
  },
  {
   "cell_type": "code",
   "execution_count": 5,
   "id": "820cc7f0",
   "metadata": {},
   "outputs": [
    {
     "data": {
      "text/plain": [
       "(1338, 7)"
      ]
     },
     "execution_count": 5,
     "metadata": {},
     "output_type": "execute_result"
    }
   ],
   "source": [
    "dfi.shape"
   ]
  },
  {
   "cell_type": "code",
   "execution_count": 6,
   "id": "d5033d20",
   "metadata": {},
   "outputs": [
    {
     "data": {
      "text/html": [
       "<div>\n",
       "<style scoped>\n",
       "    .dataframe tbody tr th:only-of-type {\n",
       "        vertical-align: middle;\n",
       "    }\n",
       "\n",
       "    .dataframe tbody tr th {\n",
       "        vertical-align: top;\n",
       "    }\n",
       "\n",
       "    .dataframe thead th {\n",
       "        text-align: right;\n",
       "    }\n",
       "</style>\n",
       "<table border=\"1\" class=\"dataframe\">\n",
       "  <thead>\n",
       "    <tr style=\"text-align: right;\">\n",
       "      <th></th>\n",
       "      <th>age</th>\n",
       "      <th>sex</th>\n",
       "      <th>bmi</th>\n",
       "      <th>children</th>\n",
       "      <th>smoker</th>\n",
       "      <th>region</th>\n",
       "      <th>charges</th>\n",
       "    </tr>\n",
       "  </thead>\n",
       "  <tbody>\n",
       "    <tr>\n",
       "      <th>0</th>\n",
       "      <td>False</td>\n",
       "      <td>False</td>\n",
       "      <td>False</td>\n",
       "      <td>False</td>\n",
       "      <td>False</td>\n",
       "      <td>False</td>\n",
       "      <td>False</td>\n",
       "    </tr>\n",
       "    <tr>\n",
       "      <th>1</th>\n",
       "      <td>False</td>\n",
       "      <td>False</td>\n",
       "      <td>False</td>\n",
       "      <td>False</td>\n",
       "      <td>False</td>\n",
       "      <td>False</td>\n",
       "      <td>False</td>\n",
       "    </tr>\n",
       "    <tr>\n",
       "      <th>2</th>\n",
       "      <td>False</td>\n",
       "      <td>False</td>\n",
       "      <td>False</td>\n",
       "      <td>False</td>\n",
       "      <td>False</td>\n",
       "      <td>False</td>\n",
       "      <td>False</td>\n",
       "    </tr>\n",
       "    <tr>\n",
       "      <th>3</th>\n",
       "      <td>False</td>\n",
       "      <td>False</td>\n",
       "      <td>False</td>\n",
       "      <td>False</td>\n",
       "      <td>False</td>\n",
       "      <td>False</td>\n",
       "      <td>False</td>\n",
       "    </tr>\n",
       "    <tr>\n",
       "      <th>4</th>\n",
       "      <td>False</td>\n",
       "      <td>False</td>\n",
       "      <td>False</td>\n",
       "      <td>False</td>\n",
       "      <td>False</td>\n",
       "      <td>False</td>\n",
       "      <td>False</td>\n",
       "    </tr>\n",
       "    <tr>\n",
       "      <th>...</th>\n",
       "      <td>...</td>\n",
       "      <td>...</td>\n",
       "      <td>...</td>\n",
       "      <td>...</td>\n",
       "      <td>...</td>\n",
       "      <td>...</td>\n",
       "      <td>...</td>\n",
       "    </tr>\n",
       "    <tr>\n",
       "      <th>1333</th>\n",
       "      <td>False</td>\n",
       "      <td>False</td>\n",
       "      <td>False</td>\n",
       "      <td>False</td>\n",
       "      <td>False</td>\n",
       "      <td>False</td>\n",
       "      <td>False</td>\n",
       "    </tr>\n",
       "    <tr>\n",
       "      <th>1334</th>\n",
       "      <td>False</td>\n",
       "      <td>False</td>\n",
       "      <td>False</td>\n",
       "      <td>False</td>\n",
       "      <td>False</td>\n",
       "      <td>False</td>\n",
       "      <td>False</td>\n",
       "    </tr>\n",
       "    <tr>\n",
       "      <th>1335</th>\n",
       "      <td>False</td>\n",
       "      <td>False</td>\n",
       "      <td>False</td>\n",
       "      <td>False</td>\n",
       "      <td>False</td>\n",
       "      <td>False</td>\n",
       "      <td>False</td>\n",
       "    </tr>\n",
       "    <tr>\n",
       "      <th>1336</th>\n",
       "      <td>False</td>\n",
       "      <td>False</td>\n",
       "      <td>False</td>\n",
       "      <td>False</td>\n",
       "      <td>False</td>\n",
       "      <td>False</td>\n",
       "      <td>False</td>\n",
       "    </tr>\n",
       "    <tr>\n",
       "      <th>1337</th>\n",
       "      <td>False</td>\n",
       "      <td>False</td>\n",
       "      <td>False</td>\n",
       "      <td>False</td>\n",
       "      <td>False</td>\n",
       "      <td>False</td>\n",
       "      <td>False</td>\n",
       "    </tr>\n",
       "  </tbody>\n",
       "</table>\n",
       "<p>1338 rows × 7 columns</p>\n",
       "</div>"
      ],
      "text/plain": [
       "        age    sex    bmi  children  smoker  region  charges\n",
       "0     False  False  False     False   False   False    False\n",
       "1     False  False  False     False   False   False    False\n",
       "2     False  False  False     False   False   False    False\n",
       "3     False  False  False     False   False   False    False\n",
       "4     False  False  False     False   False   False    False\n",
       "...     ...    ...    ...       ...     ...     ...      ...\n",
       "1333  False  False  False     False   False   False    False\n",
       "1334  False  False  False     False   False   False    False\n",
       "1335  False  False  False     False   False   False    False\n",
       "1336  False  False  False     False   False   False    False\n",
       "1337  False  False  False     False   False   False    False\n",
       "\n",
       "[1338 rows x 7 columns]"
      ]
     },
     "execution_count": 6,
     "metadata": {},
     "output_type": "execute_result"
    }
   ],
   "source": [
    "dfi.isnull()"
   ]
  },
  {
   "cell_type": "code",
   "execution_count": 7,
   "id": "264dbdef",
   "metadata": {},
   "outputs": [],
   "source": [
    "x=dfi['age']"
   ]
  },
  {
   "cell_type": "code",
   "execution_count": 8,
   "id": "07692572",
   "metadata": {},
   "outputs": [],
   "source": [
    "y=dfi['charges']"
   ]
  },
  {
   "cell_type": "code",
   "execution_count": 9,
   "id": "cd49c57e",
   "metadata": {},
   "outputs": [
    {
     "data": {
      "image/png": "[encoded data removed]",
      "text/plain": [
       "<Figure size 432x288 with 1 Axes>"
      ]
     },
     "metadata": {
      "needs_background": "light"
     },
     "output_type": "display_data"
    }
   ],
   "source": [
    "plt.scatter(x,y)\n",
    "plt.xlabel('age',fontsize=12)\n",
    "plt.ylabel('charges',fontsize=12)\n",
    "plt.show()"
   ]
  },
  {
   "cell_type": "code",
   "execution_count": 10,
   "id": "76c9bd5b",
   "metadata": {},
   "outputs": [
    {
     "name": "stderr",
     "output_type": "stream",
     "text": [
      "D:\\anaconda\\lib\\site-packages\\seaborn\\_decorators.py:36: FutureWarning: Pass the following variables as keyword args: x, y. From version 0.12, the only valid positional argument will be `data`, and passing other arguments without an explicit keyword will result in an error or misinterpretation.\n",
      "  warnings.warn(\n"
     ]
    },
    {
     "data": {
      "text/plain": [
       "<AxesSubplot:xlabel='age', ylabel='charges'>"
      ]
     },
     "execution_count": 10,
     "metadata": {},
     "output_type": "execute_result"
    },
    {
     "data": {
      "image/png": "[encoded data removed]",
      "text/plain": [
       "<Figure size 432x288 with 1 Axes>"
      ]
     },
     "metadata": {
      "needs_background": "light"
     },
     "output_type": "display_data"
    }
   ],
   "source": [
    "sns.regplot(x,y,color='red')\n"
   ]
  },
  {
   "cell_type": "code",
   "execution_count": 11,
   "id": "1dd39961",
   "metadata": {},
   "outputs": [
    {
     "data": {
      "text/plain": [
       "(1338,)"
      ]
     },
     "execution_count": 11,
     "metadata": {},
     "output_type": "execute_result"
    }
   ],
   "source": [
    "x.shape"
   ]
  },
  {
   "cell_type": "code",
   "execution_count": 12,
   "id": "9ee568f1",
   "metadata": {},
   "outputs": [],
   "source": [
    "X_=x.values.reshape(-1,1) # regression model only accepts the array value"
   ]
  },
  {
   "cell_type": "code",
   "execution_count": 13,
   "id": "05a59821",
   "metadata": {},
   "outputs": [
    {
     "data": {
      "text/plain": [
       "(1338, 1)"
      ]
     },
     "execution_count": 13,
     "metadata": {},
     "output_type": "execute_result"
    }
   ],
   "source": [
    "X_.shape"
   ]
  },
  {
   "cell_type": "code",
   "execution_count": 14,
   "id": "5efc5150",
   "metadata": {},
   "outputs": [
    {
     "data": {
      "text/plain": [
       "0       19\n",
       "1       18\n",
       "2       28\n",
       "3       33\n",
       "4       32\n",
       "        ..\n",
       "1333    50\n",
       "1334    18\n",
       "1335    18\n",
       "1336    21\n",
       "1337    61\n",
       "Name: age, Length: 1338, dtype: int64"
      ]
     },
     "execution_count": 14,
     "metadata": {},
     "output_type": "execute_result"
    }
   ],
   "source": [
    "x"
   ]
  },
  {
   "cell_type": "code",
   "execution_count": 15,
   "id": "0d5e2411",
   "metadata": {},
   "outputs": [
    {
     "data": {
      "text/plain": [
       "array([[19],\n",
       "       [18],\n",
       "       [28],\n",
       "       ...,\n",
       "       [18],\n",
       "       [21],\n",
       "       [61]], dtype=int64)"
      ]
     },
     "execution_count": 15,
     "metadata": {},
     "output_type": "execute_result"
    }
   ],
   "source": [
    "X_"
   ]
  },
  {
   "cell_type": "code",
   "execution_count": 16,
   "id": "4ad4643b",
   "metadata": {},
   "outputs": [
    {
     "data": {
      "text/plain": [
       "<AxesSubplot:>"
      ]
     },
     "execution_count": 16,
     "metadata": {},
     "output_type": "execute_result"
    },
    {
     "data": {
      "image/png": "[encoded data removed]",
      "text/plain": [
       "<Figure size 432x288 with 2 Axes>"
      ]
     },
     "metadata": {
      "needs_background": "light"
     },
     "output_type": "display_data"
    }
   ],
   "source": [
    "sns.heatmap(dfi.isnull())"
   ]
  },
  {
   "cell_type": "markdown",
   "id": "0b9c48a3",
   "metadata": {},
   "source": [
    "### Dividing"
   ]
  },
  {
   "cell_type": "code",
   "execution_count": 17,
   "id": "301cec61",
   "metadata": {},
   "outputs": [],
   "source": [
    "X_train,X_test,y_train,y_test=train_test_split(X_,y,test_size=0.3,random_state=69)"
   ]
  },
  {
   "cell_type": "code",
   "execution_count": 18,
   "id": "d55ac6b8",
   "metadata": {},
   "outputs": [
    {
     "data": {
      "text/plain": [
       "(936, 1)"
      ]
     },
     "execution_count": 18,
     "metadata": {},
     "output_type": "execute_result"
    }
   ],
   "source": [
    "X_train.shape"
   ]
  },
  {
   "cell_type": "code",
   "execution_count": 19,
   "id": "7e855e3b",
   "metadata": {},
   "outputs": [
    {
     "data": {
      "text/plain": [
       "(402, 1)"
      ]
     },
     "execution_count": 19,
     "metadata": {},
     "output_type": "execute_result"
    }
   ],
   "source": [
    "X_test.shape"
   ]
  },
  {
   "cell_type": "code",
   "execution_count": 20,
   "id": "52449675",
   "metadata": {},
   "outputs": [
    {
     "data": {
      "text/plain": [
       "LinearRegression()"
      ]
     },
     "execution_count": 20,
     "metadata": {},
     "output_type": "execute_result"
    }
   ],
   "source": [
    "LR=LinearRegression()\n",
    "LR.fit(X_train,y_train)"
   ]
  },
  {
   "cell_type": "code",
   "execution_count": 21,
   "id": "8515b168",
   "metadata": {},
   "outputs": [],
   "source": [
    "y_pred=LR.predict(X_test)\n"
   ]
  },
  {
   "cell_type": "code",
   "execution_count": 22,
   "id": "e60ee037",
   "metadata": {},
   "outputs": [
    {
     "data": {
      "text/plain": [
       "array([10649.86098303, 17889.81849944, 10649.86098303, 13787.17590681,\n",
       "       14028.50782402, 18131.15041665, 10167.1971486 , 11615.18865188,\n",
       "       17889.81849944, 16683.15891337, 16200.49507894, 17889.81849944,\n",
       "       10649.86098303,  7753.87797647, 10167.1971486 , 18131.15041665,\n",
       "       10408.52906582, 16200.49507894,  8960.53756254, 18855.14616829,\n",
       "       18613.81425108, 18855.14616829, 11856.5205691 ,  7995.20989368,\n",
       "       10408.52906582, 17889.81849944,  9925.86523139, 14511.17165845,\n",
       "       18855.14616829, 12580.51632074, 13787.17590681, 15235.16741009,\n",
       "        9925.86523139, 18372.48233387,  7995.20989368, 12821.84823795,\n",
       "       14028.50782402, 18372.48233387, 11373.85673467, 10891.19290024,\n",
       "        7995.20989368, 12097.85248631,  8477.87372811, 11132.52481746,\n",
       "       18613.81425108, 13304.51207238,  8477.87372811,  8960.53756254,\n",
       "       11615.18865188, 16683.15891337, 14269.83974123, 11132.52481746,\n",
       "       15717.83124452,  9201.86947975, 10167.1971486 ,  7753.87797647,\n",
       "       14028.50782402, 17407.15466501,  7995.20989368, 14269.83974123,\n",
       "       18372.48233387,  8477.87372811, 18613.81425108, 17648.48658222,\n",
       "       17407.15466501, 12097.85248631, 12097.85248631, 14269.83974123,\n",
       "       18131.15041665, 12580.51632074, 11615.18865188,  7753.87797647,\n",
       "       18131.15041665, 16683.15891337, 14028.50782402, 12339.18440353,\n",
       "       15959.16316173, 12339.18440353, 18855.14616829, 13545.84398959,\n",
       "       18372.48233387, 16924.49083058,  8236.54181089, 16924.49083058,\n",
       "        8719.20564532, 15717.83124452, 15235.16741009, 11373.85673467,\n",
       "       18613.81425108, 10649.86098303, 11373.85673467, 10891.19290024,\n",
       "        9684.53331418, 17648.48658222, 18131.15041665, 15235.16741009,\n",
       "       12580.51632074, 10408.52906582, 14511.17165845,  7995.20989368,\n",
       "       17165.8227478 , 10408.52906582,  9443.20139696,  7753.87797647,\n",
       "       16441.82699616, 11615.18865188,  8236.54181089, 16200.49507894,\n",
       "        7753.87797647,  8719.20564532, 10649.86098303, 13545.84398959,\n",
       "       14269.83974123, 14028.50782402, 10167.1971486 , 11132.52481746,\n",
       "        8236.54181089,  8477.87372811, 11615.18865188,  8477.87372811,\n",
       "       11373.85673467, 10167.1971486 , 16200.49507894,  7753.87797647,\n",
       "        7995.20989368, 16683.15891337, 16200.49507894, 13063.18015517,\n",
       "       14993.83549288, 14511.17165845, 17165.8227478 , 10167.1971486 ,\n",
       "        7753.87797647, 17889.81849944, 18855.14616829, 11132.52481746,\n",
       "       11615.18865188, 17407.15466501, 13063.18015517, 18613.81425108,\n",
       "       15235.16741009, 10167.1971486 , 14752.50357566,  7753.87797647,\n",
       "        8477.87372811, 14752.50357566,  7995.20989368, 12580.51632074,\n",
       "        9201.86947975, 14993.83549288, 16683.15891337, 14993.83549288,\n",
       "       16924.49083058,  9201.86947975, 16200.49507894, 14752.50357566,\n",
       "       15959.16316173, 14511.17165845,  7753.87797647, 17165.8227478 ,\n",
       "       15476.4993273 , 10891.19290024, 12580.51632074, 16683.15891337,\n",
       "       17648.48658222, 16924.49083058, 16441.82699616,  8477.87372811,\n",
       "        7995.20989368, 11132.52481746,  9684.53331418, 16924.49083058,\n",
       "       10649.86098303, 14993.83549288, 10167.1971486 , 16924.49083058,\n",
       "       13787.17590681, 13787.17590681, 18613.81425108,  8960.53756254,\n",
       "       18131.15041665, 10891.19290024, 16441.82699616, 17648.48658222,\n",
       "       15959.16316173, 17648.48658222, 18372.48233387, 14752.50357566,\n",
       "       11132.52481746, 16924.49083058, 10167.1971486 , 13787.17590681,\n",
       "       14993.83549288,  9684.53331418, 14752.50357566, 12339.18440353,\n",
       "        8960.53756254, 16924.49083058, 14028.50782402, 16683.15891337,\n",
       "        8236.54181089,  9684.53331418, 10167.1971486 , 18613.81425108,\n",
       "        7995.20989368, 12339.18440353,  9201.86947975, 16441.82699616,\n",
       "        7753.87797647, 11615.18865188,  7995.20989368,  8719.20564532,\n",
       "       18613.81425108, 15235.16741009, 17165.8227478 ,  7995.20989368,\n",
       "        7995.20989368,  8477.87372811,  8719.20564532, 17648.48658222,\n",
       "       13787.17590681, 18131.15041665, 16441.82699616, 14269.83974123,\n",
       "       14993.83549288, 18613.81425108, 12339.18440353, 18131.15041665,\n",
       "       15476.4993273 , 13063.18015517, 12821.84823795, 12821.84823795,\n",
       "       13304.51207238,  7753.87797647, 18372.48233387, 13545.84398959,\n",
       "        9925.86523139, 11132.52481746,  9925.86523139, 12339.18440353,\n",
       "       16200.49507894, 16200.49507894,  9201.86947975, 14269.83974123,\n",
       "       18855.14616829,  7995.20989368, 14269.83974123, 12580.51632074,\n",
       "       17407.15466501, 17165.8227478 , 11373.85673467, 13304.51207238,\n",
       "       12097.85248631, 14269.83974123, 17889.81849944, 11856.5205691 ,\n",
       "       16924.49083058,  9684.53331418, 17407.15466501,  8477.87372811,\n",
       "        8477.87372811, 18855.14616829, 17407.15466501,  9443.20139696,\n",
       "       14028.50782402,  8477.87372811,  8719.20564532,  8236.54181089,\n",
       "       17407.15466501,  7753.87797647, 14511.17165845,  8960.53756254,\n",
       "       17165.8227478 ,  7753.87797647, 18131.15041665,  7995.20989368,\n",
       "       18131.15041665,  8236.54181089, 16683.15891337, 16441.82699616,\n",
       "       14269.83974123, 11856.5205691 , 16441.82699616,  8236.54181089,\n",
       "       16441.82699616, 17407.15466501, 14752.50357566, 17165.8227478 ,\n",
       "       15959.16316173, 17165.8227478 , 15476.4993273 , 15476.4993273 ,\n",
       "        7995.20989368, 14993.83549288, 15235.16741009, 16683.15891337,\n",
       "       18613.81425108,  7995.20989368, 14993.83549288, 11856.5205691 ,\n",
       "       17165.8227478 , 10167.1971486 ,  9925.86523139, 16683.15891337,\n",
       "       13063.18015517,  9443.20139696, 13304.51207238, 13787.17590681,\n",
       "       18372.48233387,  9684.53331418, 12097.85248631, 10408.52906582,\n",
       "       17648.48658222, 15959.16316173, 13787.17590681, 14028.50782402,\n",
       "       14752.50357566,  7753.87797647,  9201.86947975, 11132.52481746,\n",
       "        7995.20989368, 13545.84398959, 15959.16316173,  9201.86947975,\n",
       "       11856.5205691 , 11856.5205691 , 14511.17165845,  7753.87797647,\n",
       "        9201.86947975, 17889.81849944, 10408.52906582,  8236.54181089,\n",
       "       17165.8227478 , 17648.48658222,  7995.20989368,  9443.20139696,\n",
       "       12339.18440353,  9684.53331418, 13545.84398959, 15476.4993273 ,\n",
       "       14993.83549288,  9684.53331418, 17889.81849944, 18131.15041665,\n",
       "       11615.18865188, 18855.14616829, 13304.51207238, 10408.52906582,\n",
       "       18855.14616829,  8960.53756254, 11856.5205691 , 15235.16741009,\n",
       "        9684.53331418, 12821.84823795, 16200.49507894,  7753.87797647,\n",
       "        9684.53331418, 17889.81849944, 18855.14616829, 18131.15041665,\n",
       "       15959.16316173, 16924.49083058, 13787.17590681, 13304.51207238,\n",
       "       13787.17590681,  7995.20989368, 13545.84398959, 12821.84823795,\n",
       "       12339.18440353, 11615.18865188,  9684.53331418, 15717.83124452,\n",
       "        7995.20989368, 11132.52481746,  8719.20564532,  7995.20989368,\n",
       "       16441.82699616,  9443.20139696, 18372.48233387, 14511.17165845,\n",
       "       13787.17590681,  8719.20564532, 13304.51207238, 11132.52481746,\n",
       "        7753.87797647,  7753.87797647, 11856.5205691 , 10649.86098303,\n",
       "       11615.18865188, 15959.16316173, 16683.15891337, 15717.83124452,\n",
       "       18855.14616829, 14752.50357566, 13063.18015517, 11615.18865188,\n",
       "        7753.87797647, 16200.49507894, 14269.83974123, 12821.84823795,\n",
       "       12821.84823795,  7753.87797647])"
      ]
     },
     "execution_count": 22,
     "metadata": {},
     "output_type": "execute_result"
    }
   ],
   "source": [
    "y_pred"
   ]
  },
  {
   "cell_type": "code",
   "execution_count": 23,
   "id": "176058b3",
   "metadata": {},
   "outputs": [
    {
     "data": {
      "text/plain": [
       "780     18259.21600\n",
       "1146    52590.82939\n",
       "1032     4137.52270\n",
       "1045    21880.82000\n",
       "985      7624.63000\n",
       "           ...     \n",
       "539     27346.04207\n",
       "978      9704.66805\n",
       "1211    23563.01618\n",
       "376     21659.93010\n",
       "442      1149.39590\n",
       "Name: charges, Length: 402, dtype: float64"
      ]
     },
     "execution_count": 23,
     "metadata": {},
     "output_type": "execute_result"
    }
   ],
   "source": [
    "y_test"
   ]
  },
  {
   "cell_type": "code",
   "execution_count": 24,
   "id": "2a549c95",
   "metadata": {},
   "outputs": [
    {
     "data": {
      "text/plain": [
       "146619179.3817428"
      ]
     },
     "execution_count": 24,
     "metadata": {},
     "output_type": "execute_result"
    }
   ],
   "source": [
    "acc=mean_squared_error(y_test,y_pred)\n",
    "acc"
   ]
  },
  {
   "cell_type": "code",
   "execution_count": 25,
   "id": "a71c2823",
   "metadata": {},
   "outputs": [
    {
     "name": "stdout",
     "output_type": "stream",
     "text": [
      "[241.33191721] 3409.9034666223542\n"
     ]
    }
   ],
   "source": [
    "weights = LR.coef_\n",
    "intercept = LR.intercept_\n",
    "print(weights,intercept)"
   ]
  },
  {
   "cell_type": "code",
   "execution_count": 26,
   "id": "a42c8b3a",
   "metadata": {},
   "outputs": [
    {
     "data": {
      "image/png": "[encoded data removed]",
      "text/plain": [
       "<Figure size 432x288 with 1 Axes>"
      ]
     },
     "metadata": {
      "needs_background": "light"
     },
     "output_type": "display_data"
    }
   ],
   "source": [
    "plt.scatter(X_test, y_test)\n",
    "plt.plot(X_test,y_pred, color='green')\n",
    "plt.show()"
   ]
  },
  {
   "cell_type": "code",
   "execution_count": 27,
   "id": "8585c424",
   "metadata": {},
   "outputs": [
    {
     "data": {
      "text/html": [
       "<div>\n",
       "<style scoped>\n",
       "    .dataframe tbody tr th:only-of-type {\n",
       "        vertical-align: middle;\n",
       "    }\n",
       "\n",
       "    .dataframe tbody tr th {\n",
       "        vertical-align: top;\n",
       "    }\n",
       "\n",
       "    .dataframe thead th {\n",
       "        text-align: right;\n",
       "    }\n",
       "</style>\n",
       "<table border=\"1\" class=\"dataframe\">\n",
       "  <thead>\n",
       "    <tr style=\"text-align: right;\">\n",
       "      <th></th>\n",
       "      <th>Actual</th>\n",
       "      <th>Predicted</th>\n",
       "    </tr>\n",
       "  </thead>\n",
       "  <tbody>\n",
       "    <tr>\n",
       "      <th>780</th>\n",
       "      <td>18259.21600</td>\n",
       "      <td>10649.860983</td>\n",
       "    </tr>\n",
       "    <tr>\n",
       "      <th>1146</th>\n",
       "      <td>52590.82939</td>\n",
       "      <td>17889.818499</td>\n",
       "    </tr>\n",
       "    <tr>\n",
       "      <th>1032</th>\n",
       "      <td>4137.52270</td>\n",
       "      <td>10649.860983</td>\n",
       "    </tr>\n",
       "    <tr>\n",
       "      <th>1045</th>\n",
       "      <td>21880.82000</td>\n",
       "      <td>13787.175907</td>\n",
       "    </tr>\n",
       "    <tr>\n",
       "      <th>985</th>\n",
       "      <td>7624.63000</td>\n",
       "      <td>14028.507824</td>\n",
       "    </tr>\n",
       "    <tr>\n",
       "      <th>...</th>\n",
       "      <td>...</td>\n",
       "      <td>...</td>\n",
       "    </tr>\n",
       "    <tr>\n",
       "      <th>539</th>\n",
       "      <td>27346.04207</td>\n",
       "      <td>16200.495079</td>\n",
       "    </tr>\n",
       "    <tr>\n",
       "      <th>978</th>\n",
       "      <td>9704.66805</td>\n",
       "      <td>14269.839741</td>\n",
       "    </tr>\n",
       "    <tr>\n",
       "      <th>1211</th>\n",
       "      <td>23563.01618</td>\n",
       "      <td>12821.848238</td>\n",
       "    </tr>\n",
       "    <tr>\n",
       "      <th>376</th>\n",
       "      <td>21659.93010</td>\n",
       "      <td>12821.848238</td>\n",
       "    </tr>\n",
       "    <tr>\n",
       "      <th>442</th>\n",
       "      <td>1149.39590</td>\n",
       "      <td>7753.877976</td>\n",
       "    </tr>\n",
       "  </tbody>\n",
       "</table>\n",
       "<p>402 rows × 2 columns</p>\n",
       "</div>"
      ],
      "text/plain": [
       "           Actual     Predicted\n",
       "780   18259.21600  10649.860983\n",
       "1146  52590.82939  17889.818499\n",
       "1032   4137.52270  10649.860983\n",
       "1045  21880.82000  13787.175907\n",
       "985    7624.63000  14028.507824\n",
       "...           ...           ...\n",
       "539   27346.04207  16200.495079\n",
       "978    9704.66805  14269.839741\n",
       "1211  23563.01618  12821.848238\n",
       "376   21659.93010  12821.848238\n",
       "442    1149.39590   7753.877976\n",
       "\n",
       "[402 rows x 2 columns]"
      ]
     },
     "execution_count": 27,
     "metadata": {},
     "output_type": "execute_result"
    }
   ],
   "source": [
    "df=pd.DataFrame({'Actual':y_test,'Predicted':y_pred})\n",
    "df"
   ]
  },
  {
   "cell_type": "code",
   "execution_count": 28,
   "id": "290b5e6f",
   "metadata": {},
   "outputs": [
    {
     "data": {
      "image/png": "[encoded data removed]",
      "text/plain": [
       "<Figure size 1152x720 with 1 Axes>"
      ]
     },
     "metadata": {
      "needs_background": "light"
     },
     "output_type": "display_data"
    }
   ],
   "source": [
    "\n",
    "df1=df.head(25)\n",
    "df1.plot(kind='bar',figsize=(16,10))\n",
    "plt.grid(which='major',linestyle='-',linewidth='0.5',color='red')\n",
    "plt.grid(which='minor',linestyle=':',linewidth='0.5',color='green')\n",
    "plt.show()"
   ]
  },
  {
   "cell_type": "code",
   "execution_count": 29,
   "id": "bc5cbc72",
   "metadata": {},
   "outputs": [
    {
     "name": "stdout",
     "output_type": "stream",
     "text": [
      "Mean Absolute Error 9315.65448327068\n",
      "Mean Squared Error 146619179.3817428\n",
      "Root Mean Sqaured Error 12108.640690917491\n"
     ]
    }
   ],
   "source": [
    "print('Mean Absolute Error',mean_absolute_error(y_test,y_pred))\n",
    "print('Mean Squared Error',mean_squared_error(y_test,y_pred))\n",
    "print('Root Mean Sqaured Error',np.sqrt(mean_squared_error(y_test,y_pred)))"
   ]
  },
  {
   "cell_type": "code",
   "execution_count": 30,
   "id": "23f636dc",
   "metadata": {},
   "outputs": [
    {
     "data": {
      "image/png": "[encoded data removed]",
      "text/plain": [
       "<Figure size 432x288 with 1 Axes>"
      ]
     },
     "metadata": {
      "needs_background": "light"
     },
     "output_type": "display_data"
    }
   ],
   "source": [
    "plt.scatter(x,y)\n",
    "yhat=LR.coef_*x+LR.intercept_ #yhat=0.275+0.0017x1 regression line\n",
    "fig=plt.plot(x,yhat,lw=2,c='orange',label='Regression Line')\n",
    "plt.xlabel('age',fontsize='12')\n",
    "plt.ylabel('charges',fontsize='12')\n",
    "plt.show()"
   ]
  },
  {
   "cell_type": "code",
   "execution_count": null,
   "id": "1b90be2d",
   "metadata": {},
   "outputs": [],
   "source": []
  }
 ],
 "metadata": {
  "kernelspec": {
   "display_name": "Python 3 (ipykernel)",
   "language": "python",
   "name": "python3"
  },
  "language_info": {
   "codemirror_mode": {
    "name": "ipython",
    "version": 3
   },
   "file_extension": ".py",
   "mimetype": "text/x-python",
   "name": "python",
   "nbconvert_exporter": "python",
   "pygments_lexer": "ipython3",
   "version": "3.9.12"
  }
 },
 "nbformat": 4,
 "nbformat_minor": 5
}
