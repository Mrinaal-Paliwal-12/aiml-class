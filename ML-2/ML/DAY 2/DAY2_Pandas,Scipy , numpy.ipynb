{
 "cells": [
  {
   "cell_type": "markdown",
   "id": "712d96ed",
   "metadata": {},
   "source": [
    "# Pandas  - Vaibhav Kumar , RollNo 19"
   ]
  },
  {
   "cell_type": "code",
   "execution_count": 1,
   "id": "bc998e6c",
   "metadata": {},
   "outputs": [],
   "source": [
    "import pandas as pd\n",
    "import numpy as np"
   ]
  },
  {
   "cell_type": "code",
   "execution_count": 2,
   "id": "32785e68",
   "metadata": {},
   "outputs": [],
   "source": [
    "# create vector as a row\n",
    "vector_row=np.array([1,2,3])"
   ]
  },
  {
   "cell_type": "code",
   "execution_count": 3,
   "id": "b4cbc3a2",
   "metadata": {},
   "outputs": [],
   "source": [
    "# create vector as a column\n",
    "vector_column=np.array([[1],[2],[3]])"
   ]
  },
  {
   "cell_type": "code",
   "execution_count": 4,
   "id": "d4c80bc6",
   "metadata": {},
   "outputs": [
    {
     "data": {
      "text/plain": [
       "array([1, 2, 3])"
      ]
     },
     "execution_count": 4,
     "metadata": {},
     "output_type": "execute_result"
    }
   ],
   "source": [
    "vector_row"
   ]
  },
  {
   "cell_type": "code",
   "execution_count": 5,
   "id": "1325f5c6",
   "metadata": {},
   "outputs": [
    {
     "data": {
      "text/plain": [
       "array([[1],\n",
       "       [2],\n",
       "       [3]])"
      ]
     },
     "execution_count": 5,
     "metadata": {},
     "output_type": "execute_result"
    }
   ],
   "source": [
    "vector_column"
   ]
  },
  {
   "cell_type": "markdown",
   "id": "c2051ca1",
   "metadata": {},
   "source": [
    "**Creating a matrix** "
   ]
  },
  {
   "cell_type": "code",
   "execution_count": 6,
   "id": "3ec20294",
   "metadata": {},
   "outputs": [],
   "source": [
    "from scipy import sparse"
   ]
  },
  {
   "cell_type": "markdown",
   "id": "8ed7357b",
   "metadata": {},
   "source": [
    "**only non zero elements will be stored in sparse matrix**"
   ]
  },
  {
   "cell_type": "code",
   "execution_count": 7,
   "id": "fa1fe20e",
   "metadata": {},
   "outputs": [],
   "source": [
    "matrix=np.array([[0,0], \n",
    "               [0,1],\n",
    "               [3,0]])\n",
    "\n",
    "#create compressed sparse row (CSR) Matrix\n",
    "matrix_sparse = sparse.csr_matrix(matrix)"
   ]
  },
  {
   "cell_type": "code",
   "execution_count": 8,
   "id": "68f5f79b",
   "metadata": {},
   "outputs": [
    {
     "data": {
      "text/plain": [
       "<3x2 sparse matrix of type '<class 'numpy.intc'>'\n",
       "\twith 2 stored elements in Compressed Sparse Row format>"
      ]
     },
     "execution_count": 8,
     "metadata": {},
     "output_type": "execute_result"
    }
   ],
   "source": [
    "matrix_sparse"
   ]
  },
  {
   "cell_type": "code",
   "execution_count": 9,
   "id": "57215383",
   "metadata": {},
   "outputs": [
    {
     "data": {
      "text/plain": [
       "array([[0, 0],\n",
       "       [0, 1],\n",
       "       [3, 0]])"
      ]
     },
     "execution_count": 9,
     "metadata": {},
     "output_type": "execute_result"
    }
   ],
   "source": [
    "matrix"
   ]
  },
  {
   "cell_type": "code",
   "execution_count": 10,
   "id": "09eaacea",
   "metadata": {},
   "outputs": [
    {
     "name": "stdout",
     "output_type": "stream",
     "text": [
      "  (1, 1)\t1\n",
      "  (2, 0)\t3\n"
     ]
    }
   ],
   "source": [
    "print(matrix_sparse) # it is giving the position , means 1 is it location 1st row 1st col , \n",
    "# and 3 is in locaiton 2nd row 1st col "
   ]
  },
  {
   "cell_type": "code",
   "execution_count": 11,
   "id": "691c5d6e",
   "metadata": {},
   "outputs": [],
   "source": [
    "#create a large matrix\n",
    "martix_large=np.array([[0,0,0,0,0,0,0,0],\n",
    "                      [5,3,0,0,0,0,0,0],\n",
    "                      [0,0,0,8,0,0,0,0],\n",
    "                      [0,4,0,0,0,1,0,69]])"
   ]
  },
  {
   "cell_type": "code",
   "execution_count": 12,
   "id": "2a366073",
   "metadata": {},
   "outputs": [],
   "source": [
    "#create compressed sparse row (CSR) matrix\n",
    "matrix_large_sparse = sparse.csr_matrix(martix_large)\n"
   ]
  },
  {
   "cell_type": "code",
   "execution_count": 13,
   "id": "d1347269",
   "metadata": {},
   "outputs": [
    {
     "name": "stdout",
     "output_type": "stream",
     "text": [
      "  (1, 0)\t5\n",
      "  (1, 1)\t3\n",
      "  (2, 3)\t8\n",
      "  (3, 1)\t4\n",
      "  (3, 5)\t1\n",
      "  (3, 7)\t69\n"
     ]
    }
   ],
   "source": [
    "#view larger sparse matrix\n",
    "print(matrix_large_sparse)"
   ]
  },
  {
   "cell_type": "code",
   "execution_count": 14,
   "id": "d4c135c0",
   "metadata": {},
   "outputs": [],
   "source": [
    "#create 3x3 matrix\n",
    "matrix=np.array([[1,2,3],\n",
    "               [4,5,6],\n",
    "                [7,6,9]])"
   ]
  },
  {
   "cell_type": "code",
   "execution_count": 15,
   "id": "3025e7f6",
   "metadata": {},
   "outputs": [
    {
     "data": {
      "text/plain": [
       "array([7, 6, 9])"
      ]
     },
     "execution_count": 15,
     "metadata": {},
     "output_type": "execute_result"
    }
   ],
   "source": [
    "#finding maximum element in each column\n",
    "np.max(matrix,axis=0)"
   ]
  },
  {
   "cell_type": "raw",
   "id": "b465d20a",
   "metadata": {},
   "source": []
  },
  {
   "cell_type": "code",
   "execution_count": 16,
   "id": "097eabb0",
   "metadata": {},
   "outputs": [
    {
     "data": {
      "text/plain": [
       "array([3, 6, 9])"
      ]
     },
     "execution_count": 16,
     "metadata": {},
     "output_type": "execute_result"
    }
   ],
   "source": [
    "#finding maximum element in each row\n",
    "np.max(matrix,axis=1)"
   ]
  },
  {
   "cell_type": "markdown",
   "id": "c6cc9225",
   "metadata": {},
   "source": []
  },
  {
   "cell_type": "code",
   "execution_count": 17,
   "id": "6af3ea93",
   "metadata": {},
   "outputs": [
    {
     "data": {
      "text/plain": [
       "4.777777777777778"
      ]
     },
     "execution_count": 17,
     "metadata": {},
     "output_type": "execute_result"
    }
   ],
   "source": [
    "#return mean\n",
    "np.mean(matrix)"
   ]
  },
  {
   "cell_type": "code",
   "execution_count": 18,
   "id": "a58997ac",
   "metadata": {},
   "outputs": [
    {
     "data": {
      "text/plain": [
       "5.728395061728396"
      ]
     },
     "execution_count": 18,
     "metadata": {},
     "output_type": "execute_result"
    }
   ],
   "source": [
    "#finding variance\n",
    "np.var(matrix)"
   ]
  },
  {
   "cell_type": "code",
   "execution_count": 19,
   "id": "f64cc3d7",
   "metadata": {},
   "outputs": [
    {
     "data": {
      "text/plain": [
       "2.3934065809486684"
      ]
     },
     "execution_count": 19,
     "metadata": {},
     "output_type": "execute_result"
    }
   ],
   "source": [
    "#finding standard deviation\n",
    "np.std(matrix)"
   ]
  },
  {
   "cell_type": "markdown",
   "id": "c8804605",
   "metadata": {},
   "source": [
    "# Reshaping of Array"
   ]
  },
  {
   "cell_type": "code",
   "execution_count": 20,
   "id": "ed74e3e6",
   "metadata": {},
   "outputs": [],
   "source": [
    "#create 4x3 matrix\n",
    "matrix=np.array([[1,2,3],\n",
    "                [4,5,6],\n",
    "                [6,7,8,],\n",
    "                [6,54,7]])"
   ]
  },
  {
   "cell_type": "code",
   "execution_count": 21,
   "id": "b39d149c",
   "metadata": {},
   "outputs": [
    {
     "data": {
      "text/plain": [
       "array([[ 1,  2,  3,  4,  5,  6],\n",
       "       [ 6,  7,  8,  6, 54,  7]])"
      ]
     },
     "execution_count": 21,
     "metadata": {},
     "output_type": "execute_result"
    }
   ],
   "source": [
    "#reshaping matrix in 2x6 matrix\n",
    "matrix.reshape(2,6)"
   ]
  },
  {
   "cell_type": "raw",
   "id": "6c6d6167",
   "metadata": {},
   "source": []
  },
  {
   "cell_type": "markdown",
   "id": "1ad7d023",
   "metadata": {},
   "source": []
  },
  {
   "cell_type": "code",
   "execution_count": 22,
   "id": "e0219ff8",
   "metadata": {},
   "outputs": [
    {
     "data": {
      "text/plain": [
       "array([[ 1,  2,  3,  4,  5,  6,  6,  7,  8,  6, 54,  7]])"
      ]
     },
     "execution_count": 22,
     "metadata": {},
     "output_type": "execute_result"
    }
   ],
   "source": [
    "matrix.reshape(1,-1)"
   ]
  },
  {
   "cell_type": "code",
   "execution_count": 23,
   "id": "2e4ded83",
   "metadata": {},
   "outputs": [
    {
     "data": {
      "text/plain": [
       "12"
      ]
     },
     "execution_count": 23,
     "metadata": {},
     "output_type": "execute_result"
    }
   ],
   "source": [
    "matrix.size"
   ]
  },
  {
   "cell_type": "code",
   "execution_count": 24,
   "id": "7db62a7a",
   "metadata": {},
   "outputs": [
    {
     "data": {
      "text/plain": [
       "array([ 1,  2,  3,  4,  5,  6,  6,  7,  8,  6, 54,  7])"
      ]
     },
     "execution_count": 24,
     "metadata": {},
     "output_type": "execute_result"
    }
   ],
   "source": [
    "matrix.reshape(matrix.size)"
   ]
  },
  {
   "cell_type": "code",
   "execution_count": 25,
   "id": "7f83a89c",
   "metadata": {},
   "outputs": [
    {
     "data": {
      "text/plain": [
       "array([[ 1,  4,  6,  6],\n",
       "       [ 2,  5,  7, 54],\n",
       "       [ 3,  6,  8,  7]])"
      ]
     },
     "execution_count": 25,
     "metadata": {},
     "output_type": "execute_result"
    }
   ],
   "source": [
    "#TRANSPOSE OF MATRIX\n",
    "matrix.T"
   ]
  },
  {
   "cell_type": "code",
   "execution_count": 26,
   "id": "4ebed7fe",
   "metadata": {},
   "outputs": [
    {
     "data": {
      "text/plain": [
       "array([1, 2, 3, 4, 5, 6, 7])"
      ]
     },
     "execution_count": 26,
     "metadata": {},
     "output_type": "execute_result"
    }
   ],
   "source": [
    "#TRANSPOSE A VECTOR\n",
    "np.array([1,2,3,4,5,6,7]).T"
   ]
  },
  {
   "cell_type": "code",
   "execution_count": 27,
   "id": "d64068b0",
   "metadata": {},
   "outputs": [
    {
     "data": {
      "text/plain": [
       "array([[1],\n",
       "       [2],\n",
       "       [3],\n",
       "       [4],\n",
       "       [5],\n",
       "       [6],\n",
       "       [7]])"
      ]
     },
     "execution_count": 27,
     "metadata": {},
     "output_type": "execute_result"
    }
   ],
   "source": [
    "#TRANSPOSE ROW VECTOR\n",
    "np.array([[1,2,3,4,5,6,7]]).T"
   ]
  },
  {
   "cell_type": "code",
   "execution_count": 28,
   "id": "149a6b74",
   "metadata": {},
   "outputs": [
    {
     "data": {
      "text/plain": [
       "array([ 1,  2,  3,  4,  5,  6,  6,  7,  8,  6, 54,  7])"
      ]
     },
     "execution_count": 28,
     "metadata": {},
     "output_type": "execute_result"
    }
   ],
   "source": [
    "#FLATTEN MATRIX\n",
    "matrix.flatten()"
   ]
  },
  {
   "cell_type": "code",
   "execution_count": 29,
   "id": "542ff47d",
   "metadata": {},
   "outputs": [
    {
     "data": {
      "text/plain": [
       "array([1, 5, 8])"
      ]
     },
     "execution_count": 29,
     "metadata": {},
     "output_type": "execute_result"
    }
   ],
   "source": [
    "#Return Diagonal Elements\n",
    "# need a NxN matrix to show result properly\n",
    "#here we have 4x3 matrix that's why we are getting 3 elements only\n",
    "matrix.diagonal()"
   ]
  },
  {
   "cell_type": "code",
   "execution_count": 30,
   "id": "44af6816",
   "metadata": {},
   "outputs": [
    {
     "data": {
      "text/plain": [
       "array([ 1.,  2., nan,  4.,  5.])"
      ]
     },
     "execution_count": 30,
     "metadata": {},
     "output_type": "execute_result"
    }
   ],
   "source": [
    "c= np.array([1,2,np.nan,4,5])\n",
    "c # if we take nan value it will automaticly take floating point number"
   ]
  },
  {
   "cell_type": "code",
   "execution_count": 31,
   "id": "a4ea03f9",
   "metadata": {},
   "outputs": [
    {
     "data": {
      "text/plain": [
       "array([False, False,  True, False, False])"
      ]
     },
     "execution_count": 31,
     "metadata": {},
     "output_type": "execute_result"
    }
   ],
   "source": [
    "np.isnan(c) # it will give nan value if there as TRUE other FALSE"
   ]
  },
  {
   "cell_type": "code",
   "execution_count": 32,
   "id": "5f8bd67f",
   "metadata": {},
   "outputs": [
    {
     "data": {
      "text/plain": [
       "nan"
      ]
     },
     "execution_count": 32,
     "metadata": {},
     "output_type": "execute_result"
    }
   ],
   "source": [
    "np.mean(c) "
   ]
  },
  {
   "cell_type": "code",
   "execution_count": 33,
   "id": "e7ef3a99",
   "metadata": {},
   "outputs": [],
   "source": [
    "# if any data contains nan value and we need MEAN VALUE we need to use this \n",
    "a=np.mean(c[~np.isnan(c)])"
   ]
  },
  {
   "cell_type": "code",
   "execution_count": 34,
   "id": "2ac4e870",
   "metadata": {},
   "outputs": [
    {
     "data": {
      "text/plain": [
       "3.0"
      ]
     },
     "execution_count": 34,
     "metadata": {},
     "output_type": "execute_result"
    }
   ],
   "source": [
    "a"
   ]
  },
  {
   "cell_type": "code",
   "execution_count": 35,
   "id": "3741ecb0",
   "metadata": {},
   "outputs": [
    {
     "data": {
      "text/plain": [
       "array([[ 1,  2,  3],\n",
       "       [ 4,  5,  6],\n",
       "       [ 6,  7,  8],\n",
       "       [ 6, 54,  7]])"
      ]
     },
     "execution_count": 35,
     "metadata": {},
     "output_type": "execute_result"
    }
   ],
   "source": [
    "matrix"
   ]
  },
  {
   "cell_type": "code",
   "execution_count": 36,
   "id": "642b616b",
   "metadata": {},
   "outputs": [],
   "source": [
    "# astype() is to convert any datatype to another\n",
    "a=matrix.astype('float')"
   ]
  },
  {
   "cell_type": "code",
   "execution_count": 37,
   "id": "64155c0e",
   "metadata": {},
   "outputs": [
    {
     "data": {
      "text/plain": [
       "array([[ 1.,  2.,  3.],\n",
       "       [ 4.,  5.,  6.],\n",
       "       [ 6.,  7.,  8.],\n",
       "       [ 6., 54.,  7.]])"
      ]
     },
     "execution_count": 37,
     "metadata": {},
     "output_type": "execute_result"
    }
   ],
   "source": [
    "a"
   ]
  },
  {
   "cell_type": "markdown",
   "id": "39c3c3ee",
   "metadata": {},
   "source": [
    "# Important **********"
   ]
  },
  {
   "cell_type": "code",
   "execution_count": 38,
   "id": "be6580ed",
   "metadata": {},
   "outputs": [],
   "source": [
    "a[0][0]=np.nan\n"
   ]
  },
  {
   "cell_type": "code",
   "execution_count": 39,
   "id": "cac06584",
   "metadata": {},
   "outputs": [],
   "source": [
    "a[1][1]=np.inf # infinity value"
   ]
  },
  {
   "cell_type": "code",
   "execution_count": 40,
   "id": "34ad2b13",
   "metadata": {},
   "outputs": [
    {
     "data": {
      "text/plain": [
       "array([[nan,  2.,  3.],\n",
       "       [ 4., inf,  6.],\n",
       "       [ 6.,  7.,  8.],\n",
       "       [ 6., 54.,  7.]])"
      ]
     },
     "execution_count": 40,
     "metadata": {},
     "output_type": "execute_result"
    }
   ],
   "source": [
    "a"
   ]
  },
  {
   "cell_type": "code",
   "execution_count": 41,
   "id": "03aae6f6",
   "metadata": {},
   "outputs": [
    {
     "data": {
      "text/plain": [
       "array([[False, False, False],\n",
       "       [False,  True, False],\n",
       "       [False, False, False],\n",
       "       [False, False, False]])"
      ]
     },
     "execution_count": 41,
     "metadata": {},
     "output_type": "execute_result"
    }
   ],
   "source": [
    "np.isinf(a) # checking for a infinity value"
   ]
  },
  {
   "cell_type": "code",
   "execution_count": 42,
   "id": "effebf4c",
   "metadata": {},
   "outputs": [
    {
     "data": {
      "text/plain": [
       "array([[ True, False, False],\n",
       "       [False, False, False],\n",
       "       [False, False, False],\n",
       "       [False, False, False]])"
      ]
     },
     "execution_count": 42,
     "metadata": {},
     "output_type": "execute_result"
    }
   ],
   "source": [
    "np.isnan(a)"
   ]
  },
  {
   "cell_type": "code",
   "execution_count": 44,
   "id": "963dec98",
   "metadata": {},
   "outputs": [],
   "source": [
    "flag=np.isinf(a)|np.isnan(a) # pipe fn is to check multiple conditions at a time "
   ]
  },
  {
   "cell_type": "code",
   "execution_count": 45,
   "id": "ae94e9e3",
   "metadata": {},
   "outputs": [
    {
     "data": {
      "text/plain": [
       "array([[ True, False, False],\n",
       "       [False,  True, False],\n",
       "       [False, False, False],\n",
       "       [False, False, False]])"
      ]
     },
     "execution_count": 45,
     "metadata": {},
     "output_type": "execute_result"
    }
   ],
   "source": [
    "flag"
   ]
  },
  {
   "cell_type": "code",
   "execution_count": 57,
   "id": "85b48f83",
   "metadata": {},
   "outputs": [
    {
     "data": {
      "text/plain": [
       "array([[ True, False, False],\n",
       "       [False,  True, False],\n",
       "       [False, False, False],\n",
       "       [False, False, False]])"
      ]
     },
     "execution_count": 57,
     "metadata": {},
     "output_type": "execute_result"
    }
   ],
   "source": [
    "flag"
   ]
  },
  {
   "cell_type": "markdown",
   "id": "7d57e2a0",
   "metadata": {},
   "source": [
    "# DATA CLEANING"
   ]
  },
  {
   "cell_type": "code",
   "execution_count": 46,
   "id": "f15d365b",
   "metadata": {},
   "outputs": [
    {
     "data": {
      "text/plain": [
       "array([nan, inf])"
      ]
     },
     "execution_count": 46,
     "metadata": {},
     "output_type": "execute_result"
    }
   ],
   "source": [
    "a[flag]"
   ]
  },
  {
   "cell_type": "code",
   "execution_count": 47,
   "id": "e1b140bd",
   "metadata": {},
   "outputs": [],
   "source": [
    "a[flag]=0 #replacing flags value to zero \n",
    "# not a right way to do"
   ]
  },
  {
   "cell_type": "code",
   "execution_count": 48,
   "id": "649544f4",
   "metadata": {},
   "outputs": [
    {
     "data": {
      "text/plain": [
       "array([[ 0.,  2.,  3.],\n",
       "       [ 4.,  0.,  6.],\n",
       "       [ 6.,  7.,  8.],\n",
       "       [ 6., 54.,  7.]])"
      ]
     },
     "execution_count": 48,
     "metadata": {},
     "output_type": "execute_result"
    }
   ],
   "source": [
    "a"
   ]
  },
  {
   "cell_type": "code",
   "execution_count": 50,
   "id": "6f43576b",
   "metadata": {},
   "outputs": [
    {
     "data": {
      "text/plain": [
       "A    100\n",
       "B    200\n",
       "C    300\n",
       "D    400\n",
       "dtype: int64"
      ]
     },
     "execution_count": 50,
     "metadata": {},
     "output_type": "execute_result"
    }
   ],
   "source": [
    "dict={'A':100,'B':200,'C':300,'D':400}\n",
    "z1=pd.Series(dict)\n",
    "z1"
   ]
  },
  {
   "cell_type": "code",
   "execution_count": 54,
   "id": "637a43b3",
   "metadata": {},
   "outputs": [],
   "source": [
    "z2=pd.Series([10,20,30,40],'A B D E'.split())"
   ]
  },
  {
   "cell_type": "code",
   "execution_count": 55,
   "id": "506b7214",
   "metadata": {},
   "outputs": [
    {
     "data": {
      "text/plain": [
       "['A', 'B', 'C', 'D']"
      ]
     },
     "execution_count": 55,
     "metadata": {},
     "output_type": "execute_result"
    }
   ],
   "source": [
    "'A B C D'.split()"
   ]
  },
  {
   "cell_type": "code",
   "execution_count": 56,
   "id": "f60b979e",
   "metadata": {},
   "outputs": [
    {
     "data": {
      "text/plain": [
       "A    10\n",
       "B    20\n",
       "D    30\n",
       "E    40\n",
       "dtype: int64"
      ]
     },
     "execution_count": 56,
     "metadata": {},
     "output_type": "execute_result"
    }
   ],
   "source": [
    "z2"
   ]
  },
  {
   "cell_type": "code",
   "execution_count": 57,
   "id": "489f1db6",
   "metadata": {},
   "outputs": [
    {
     "data": {
      "text/plain": [
       "A    110.0\n",
       "B    220.0\n",
       "C      NaN\n",
       "D    430.0\n",
       "E      NaN\n",
       "dtype: float64"
      ]
     },
     "execution_count": 57,
     "metadata": {},
     "output_type": "execute_result"
    }
   ],
   "source": [
    "z1+z2"
   ]
  },
  {
   "cell_type": "markdown",
   "id": "7c841db6",
   "metadata": {},
   "source": [
    "# Slicing in Series\n"
   ]
  },
  {
   "cell_type": "code",
   "execution_count": 58,
   "id": "96926fb5",
   "metadata": {},
   "outputs": [
    {
     "data": {
      "text/plain": [
       "A    100\n",
       "B    200\n",
       "C    300\n",
       "D    400\n",
       "dtype: int64"
      ]
     },
     "execution_count": 58,
     "metadata": {},
     "output_type": "execute_result"
    }
   ],
   "source": [
    "z1"
   ]
  },
  {
   "cell_type": "code",
   "execution_count": 59,
   "id": "93a75488",
   "metadata": {},
   "outputs": [
    {
     "data": {
      "text/plain": [
       "A    100\n",
       "B    200\n",
       "C    300\n",
       "dtype: int64"
      ]
     },
     "execution_count": 59,
     "metadata": {},
     "output_type": "execute_result"
    }
   ],
   "source": [
    "z1['A':'C']"
   ]
  },
  {
   "cell_type": "code",
   "execution_count": 60,
   "id": "b68a337b",
   "metadata": {},
   "outputs": [
    {
     "data": {
      "text/plain": [
       "pandas.core.series.Series"
      ]
     },
     "execution_count": 60,
     "metadata": {},
     "output_type": "execute_result"
    }
   ],
   "source": [
    "type(z1['A':'C'])"
   ]
  },
  {
   "cell_type": "code",
   "execution_count": 61,
   "id": "1b565f7b",
   "metadata": {},
   "outputs": [
    {
     "data": {
      "text/plain": [
       "A    100\n",
       "C    300\n",
       "dtype: int64"
      ]
     },
     "execution_count": 61,
     "metadata": {},
     "output_type": "execute_result"
    }
   ],
   "source": [
    "z1[['A','C']]"
   ]
  },
  {
   "cell_type": "code",
   "execution_count": 62,
   "id": "f0eeffbe",
   "metadata": {},
   "outputs": [
    {
     "data": {
      "text/plain": [
       "A    100\n",
       "B    200\n",
       "dtype: int64"
      ]
     },
     "execution_count": 62,
     "metadata": {},
     "output_type": "execute_result"
    }
   ],
   "source": [
    "#using default index values\n",
    "z1[[0,1]]"
   ]
  },
  {
   "cell_type": "markdown",
   "id": "e8ed79bf",
   "metadata": {},
   "source": [
    "## Indexing"
   ]
  },
  {
   "cell_type": "code",
   "execution_count": 63,
   "id": "b81ac5c9",
   "metadata": {},
   "outputs": [
    {
     "data": {
      "text/plain": [
       "300"
      ]
     },
     "execution_count": 63,
     "metadata": {},
     "output_type": "execute_result"
    }
   ],
   "source": [
    "# .iloc does integer based indexing \n",
    "z1.iloc[2] # need to specify the integer"
   ]
  },
  {
   "cell_type": "code",
   "execution_count": 64,
   "id": "b717b72f",
   "metadata": {},
   "outputs": [
    {
     "data": {
      "text/plain": [
       "100"
      ]
     },
     "execution_count": 64,
     "metadata": {},
     "output_type": "execute_result"
    }
   ],
   "source": [
    "#loc does label based indexing\n",
    "z1.loc['A'] # here we need to specify the label instead of integer"
   ]
  },
  {
   "cell_type": "markdown",
   "id": "0c66392f",
   "metadata": {},
   "source": [
    "\n",
    "## OPERATIONS\n"
   ]
  },
  {
   "cell_type": "code",
   "execution_count": 65,
   "id": "b3ba0c94",
   "metadata": {},
   "outputs": [
    {
     "data": {
      "text/plain": [
       "A    False\n",
       "B     True\n",
       "C     True\n",
       "D     True\n",
       "dtype: bool"
      ]
     },
     "execution_count": 65,
     "metadata": {},
     "output_type": "execute_result"
    }
   ],
   "source": [
    "z1>100"
   ]
  },
  {
   "cell_type": "code",
   "execution_count": 66,
   "id": "2057e7fe",
   "metadata": {},
   "outputs": [
    {
     "data": {
      "text/plain": [
       "B    200\n",
       "C    300\n",
       "D    400\n",
       "dtype: int64"
      ]
     },
     "execution_count": 66,
     "metadata": {},
     "output_type": "execute_result"
    }
   ],
   "source": [
    "z1[z1>100] #condition"
   ]
  },
  {
   "cell_type": "code",
   "execution_count": 67,
   "id": "8a40e2a8",
   "metadata": {},
   "outputs": [
    {
     "data": {
      "text/plain": [
       "A    100\n",
       "C    300\n",
       "dtype: int64"
      ]
     },
     "execution_count": 67,
     "metadata": {},
     "output_type": "execute_result"
    }
   ],
   "source": [
    "b=[True,False,True,False]\n",
    "z1[b]\n",
    "# here where ever there is true it will return\n"
   ]
  },
  {
   "cell_type": "markdown",
   "id": "3b7e15ef",
   "metadata": {},
   "source": [
    "### BROADCASTING"
   ]
  },
  {
   "cell_type": "code",
   "execution_count": 68,
   "id": "bfc9c36f",
   "metadata": {},
   "outputs": [
    {
     "data": {
      "text/plain": [
       "A    300\n",
       "B    400\n",
       "C    500\n",
       "D    600\n",
       "dtype: int64"
      ]
     },
     "execution_count": 68,
     "metadata": {},
     "output_type": "execute_result"
    }
   ],
   "source": [
    "z1+200"
   ]
  },
  {
   "cell_type": "markdown",
   "id": "88f47047",
   "metadata": {},
   "source": [
    "### Ordering on Series"
   ]
  },
  {
   "cell_type": "code",
   "execution_count": 69,
   "id": "6f90b884",
   "metadata": {},
   "outputs": [
    {
     "data": {
      "text/plain": [
       "D    400\n",
       "C    300\n",
       "B    200\n",
       "A    100\n",
       "dtype: int64"
      ]
     },
     "execution_count": 69,
     "metadata": {},
     "output_type": "execute_result"
    }
   ],
   "source": [
    "#sort_values()  func to perform sorting \n",
    "z1.sort_values(ascending=False)"
   ]
  },
  {
   "cell_type": "code",
   "execution_count": 70,
   "id": "794504e6",
   "metadata": {},
   "outputs": [
    {
     "data": {
      "text/plain": [
       "'C'"
      ]
     },
     "execution_count": 70,
     "metadata": {},
     "output_type": "execute_result"
    }
   ],
   "source": [
    "z1.sort_values(ascending=False).index[1]"
   ]
  },
  {
   "cell_type": "code",
   "execution_count": 71,
   "id": "9aee7707",
   "metadata": {},
   "outputs": [
    {
     "data": {
      "text/plain": [
       "A    100\n",
       "B    200\n",
       "C    300\n",
       "D    400\n",
       "dtype: int64"
      ]
     },
     "execution_count": 71,
     "metadata": {},
     "output_type": "execute_result"
    }
   ],
   "source": [
    "z1 # no change in data"
   ]
  },
  {
   "cell_type": "code",
   "execution_count": 72,
   "id": "e9d65890",
   "metadata": {},
   "outputs": [],
   "source": [
    "# if we want to change the data permanently use \n",
    "# inplace=True\n",
    "z1.sort_values(ascending=False,inplace=True)"
   ]
  },
  {
   "cell_type": "code",
   "execution_count": 73,
   "id": "4da1722d",
   "metadata": {},
   "outputs": [
    {
     "data": {
      "text/plain": [
       "D    400\n",
       "C    300\n",
       "B    200\n",
       "A    100\n",
       "dtype: int64"
      ]
     },
     "execution_count": 73,
     "metadata": {},
     "output_type": "execute_result"
    }
   ],
   "source": [
    "z1"
   ]
  },
  {
   "cell_type": "markdown",
   "id": "7c06e354",
   "metadata": {},
   "source": [
    "## aggregation on series\n"
   ]
  },
  {
   "cell_type": "code",
   "execution_count": 74,
   "id": "af352a38",
   "metadata": {},
   "outputs": [
    {
     "data": {
      "text/plain": [
       "250.0"
      ]
     },
     "execution_count": 74,
     "metadata": {},
     "output_type": "execute_result"
    }
   ],
   "source": [
    "z1.mean()"
   ]
  },
  {
   "cell_type": "code",
   "execution_count": 75,
   "id": "2ad7cbc5",
   "metadata": {},
   "outputs": [
    {
     "data": {
      "text/plain": [
       "1000"
      ]
     },
     "execution_count": 75,
     "metadata": {},
     "output_type": "execute_result"
    }
   ],
   "source": [
    "z1.sum()"
   ]
  },
  {
   "cell_type": "code",
   "execution_count": 76,
   "id": "09facf5a",
   "metadata": {},
   "outputs": [
    {
     "data": {
      "text/plain": [
       "400"
      ]
     },
     "execution_count": 76,
     "metadata": {},
     "output_type": "execute_result"
    }
   ],
   "source": [
    "z1.max()"
   ]
  },
  {
   "cell_type": "code",
   "execution_count": 77,
   "id": "9e7111fa",
   "metadata": {},
   "outputs": [
    {
     "data": {
      "text/plain": [
       "100"
      ]
     },
     "execution_count": 77,
     "metadata": {},
     "output_type": "execute_result"
    }
   ],
   "source": [
    "z1.min() "
   ]
  },
  {
   "cell_type": "code",
   "execution_count": 79,
   "id": "7a2deffe",
   "metadata": {},
   "outputs": [
    {
     "data": {
      "text/plain": [
       "'D'"
      ]
     },
     "execution_count": 79,
     "metadata": {},
     "output_type": "execute_result"
    }
   ],
   "source": [
    "z1.idxmax()"
   ]
  },
  {
   "cell_type": "markdown",
   "id": "92176da6",
   "metadata": {},
   "source": [
    "### Series with two Column"
   ]
  },
  {
   "cell_type": "code",
   "execution_count": 80,
   "id": "109f8f50",
   "metadata": {},
   "outputs": [],
   "source": [
    "data_1={'Column1':pd.Series([2,3,4,5],['a b c d'.split()]),\n",
    "       'Column2':pd.Series([20,30,40,50],['A B C D'.split()])}"
   ]
  },
  {
   "cell_type": "code",
   "execution_count": 81,
   "id": "42ed8a95",
   "metadata": {},
   "outputs": [
    {
     "data": {
      "text/plain": [
       "{'Column1': a    2\n",
       " b    3\n",
       " c    4\n",
       " d    5\n",
       " dtype: int64,\n",
       " 'Column2': A    20\n",
       " B    30\n",
       " C    40\n",
       " D    50\n",
       " dtype: int64}"
      ]
     },
     "execution_count": 81,
     "metadata": {},
     "output_type": "execute_result"
    }
   ],
   "source": [
    "data_1"
   ]
  },
  {
   "cell_type": "markdown",
   "id": "bccd856d",
   "metadata": {},
   "source": [
    "# DATA FRAME"
   ]
  },
  {
   "cell_type": "code",
   "execution_count": 82,
   "id": "daf8f11f",
   "metadata": {},
   "outputs": [
    {
     "data": {
      "text/plain": [
       "array([[-1.74540593,  0.07421877,  0.33358931, -0.47758962],\n",
       "       [ 0.28027289, -0.82350207,  0.39630927, -0.8463551 ],\n",
       "       [ 1.15484762, -2.49408557,  0.21734834, -0.85388345],\n",
       "       [-0.32731119, -1.51705037,  0.05424037,  1.12742118],\n",
       "       [-1.67727736,  0.07928247,  0.45841675, -0.63848852]])"
      ]
     },
     "execution_count": 82,
     "metadata": {},
     "output_type": "execute_result"
    }
   ],
   "source": [
    "rand_mat=np.random.randn(5,4)\n",
    "rand_mat"
   ]
  },
  {
   "cell_type": "code",
   "execution_count": 83,
   "id": "029a34bc",
   "metadata": {},
   "outputs": [],
   "source": [
    "df = pd.DataFrame(rand_mat,index='A B C D E'.split(),\n",
    "columns = 'W X Y Z'.split())"
   ]
  },
  {
   "cell_type": "code",
   "execution_count": 84,
   "id": "55ab5a9b",
   "metadata": {},
   "outputs": [
    {
     "data": {
      "text/html": [
       "<div>\n",
       "<style scoped>\n",
       "    .dataframe tbody tr th:only-of-type {\n",
       "        vertical-align: middle;\n",
       "    }\n",
       "\n",
       "    .dataframe tbody tr th {\n",
       "        vertical-align: top;\n",
       "    }\n",
       "\n",
       "    .dataframe thead th {\n",
       "        text-align: right;\n",
       "    }\n",
       "</style>\n",
       "<table border=\"1\" class=\"dataframe\">\n",
       "  <thead>\n",
       "    <tr style=\"text-align: right;\">\n",
       "      <th></th>\n",
       "      <th>W</th>\n",
       "      <th>X</th>\n",
       "      <th>Y</th>\n",
       "      <th>Z</th>\n",
       "    </tr>\n",
       "  </thead>\n",
       "  <tbody>\n",
       "    <tr>\n",
       "      <th>A</th>\n",
       "      <td>-1.745406</td>\n",
       "      <td>0.074219</td>\n",
       "      <td>0.333589</td>\n",
       "      <td>-0.477590</td>\n",
       "    </tr>\n",
       "    <tr>\n",
       "      <th>B</th>\n",
       "      <td>0.280273</td>\n",
       "      <td>-0.823502</td>\n",
       "      <td>0.396309</td>\n",
       "      <td>-0.846355</td>\n",
       "    </tr>\n",
       "    <tr>\n",
       "      <th>C</th>\n",
       "      <td>1.154848</td>\n",
       "      <td>-2.494086</td>\n",
       "      <td>0.217348</td>\n",
       "      <td>-0.853883</td>\n",
       "    </tr>\n",
       "    <tr>\n",
       "      <th>D</th>\n",
       "      <td>-0.327311</td>\n",
       "      <td>-1.517050</td>\n",
       "      <td>0.054240</td>\n",
       "      <td>1.127421</td>\n",
       "    </tr>\n",
       "    <tr>\n",
       "      <th>E</th>\n",
       "      <td>-1.677277</td>\n",
       "      <td>0.079282</td>\n",
       "      <td>0.458417</td>\n",
       "      <td>-0.638489</td>\n",
       "    </tr>\n",
       "  </tbody>\n",
       "</table>\n",
       "</div>"
      ],
      "text/plain": [
       "          W         X         Y         Z\n",
       "A -1.745406  0.074219  0.333589 -0.477590\n",
       "B  0.280273 -0.823502  0.396309 -0.846355\n",
       "C  1.154848 -2.494086  0.217348 -0.853883\n",
       "D -0.327311 -1.517050  0.054240  1.127421\n",
       "E -1.677277  0.079282  0.458417 -0.638489"
      ]
     },
     "execution_count": 84,
     "metadata": {},
     "output_type": "execute_result"
    }
   ],
   "source": [
    "df"
   ]
  },
  {
   "cell_type": "markdown",
   "id": "6bea749f",
   "metadata": {},
   "source": [
    "## Selection and Indexing"
   ]
  },
  {
   "cell_type": "code",
   "execution_count": 85,
   "id": "82211d36",
   "metadata": {},
   "outputs": [
    {
     "data": {
      "text/plain": [
       "A   -1.745406\n",
       "B    0.280273\n",
       "C    1.154848\n",
       "D   -0.327311\n",
       "E   -1.677277\n",
       "Name: W, dtype: float64"
      ]
     },
     "execution_count": 85,
     "metadata": {},
     "output_type": "execute_result"
    }
   ],
   "source": [
    "df['W']"
   ]
  },
  {
   "cell_type": "code",
   "execution_count": 86,
   "id": "5a8f340c",
   "metadata": {},
   "outputs": [
    {
     "data": {
      "text/html": [
       "<div>\n",
       "<style scoped>\n",
       "    .dataframe tbody tr th:only-of-type {\n",
       "        vertical-align: middle;\n",
       "    }\n",
       "\n",
       "    .dataframe tbody tr th {\n",
       "        vertical-align: top;\n",
       "    }\n",
       "\n",
       "    .dataframe thead th {\n",
       "        text-align: right;\n",
       "    }\n",
       "</style>\n",
       "<table border=\"1\" class=\"dataframe\">\n",
       "  <thead>\n",
       "    <tr style=\"text-align: right;\">\n",
       "      <th></th>\n",
       "      <th>W</th>\n",
       "      <th>Z</th>\n",
       "    </tr>\n",
       "  </thead>\n",
       "  <tbody>\n",
       "    <tr>\n",
       "      <th>A</th>\n",
       "      <td>-1.745406</td>\n",
       "      <td>-0.477590</td>\n",
       "    </tr>\n",
       "    <tr>\n",
       "      <th>B</th>\n",
       "      <td>0.280273</td>\n",
       "      <td>-0.846355</td>\n",
       "    </tr>\n",
       "    <tr>\n",
       "      <th>C</th>\n",
       "      <td>1.154848</td>\n",
       "      <td>-0.853883</td>\n",
       "    </tr>\n",
       "    <tr>\n",
       "      <th>D</th>\n",
       "      <td>-0.327311</td>\n",
       "      <td>1.127421</td>\n",
       "    </tr>\n",
       "    <tr>\n",
       "      <th>E</th>\n",
       "      <td>-1.677277</td>\n",
       "      <td>-0.638489</td>\n",
       "    </tr>\n",
       "  </tbody>\n",
       "</table>\n",
       "</div>"
      ],
      "text/plain": [
       "          W         Z\n",
       "A -1.745406 -0.477590\n",
       "B  0.280273 -0.846355\n",
       "C  1.154848 -0.853883\n",
       "D -0.327311  1.127421\n",
       "E -1.677277 -0.638489"
      ]
     },
     "execution_count": 86,
     "metadata": {},
     "output_type": "execute_result"
    }
   ],
   "source": [
    "df[['W','Z']]"
   ]
  },
  {
   "cell_type": "code",
   "execution_count": 88,
   "id": "fa91ce7e",
   "metadata": {},
   "outputs": [
    {
     "data": {
      "text/html": [
       "<div>\n",
       "<style scoped>\n",
       "    .dataframe tbody tr th:only-of-type {\n",
       "        vertical-align: middle;\n",
       "    }\n",
       "\n",
       "    .dataframe tbody tr th {\n",
       "        vertical-align: top;\n",
       "    }\n",
       "\n",
       "    .dataframe thead th {\n",
       "        text-align: right;\n",
       "    }\n",
       "</style>\n",
       "<table border=\"1\" class=\"dataframe\">\n",
       "  <thead>\n",
       "    <tr style=\"text-align: right;\">\n",
       "      <th></th>\n",
       "      <th>W</th>\n",
       "      <th>X</th>\n",
       "    </tr>\n",
       "  </thead>\n",
       "  <tbody>\n",
       "    <tr>\n",
       "      <th>A</th>\n",
       "      <td>-1.745406</td>\n",
       "      <td>0.074219</td>\n",
       "    </tr>\n",
       "    <tr>\n",
       "      <th>B</th>\n",
       "      <td>0.280273</td>\n",
       "      <td>-0.823502</td>\n",
       "    </tr>\n",
       "    <tr>\n",
       "      <th>C</th>\n",
       "      <td>1.154848</td>\n",
       "      <td>-2.494086</td>\n",
       "    </tr>\n",
       "    <tr>\n",
       "      <th>D</th>\n",
       "      <td>-0.327311</td>\n",
       "      <td>-1.517050</td>\n",
       "    </tr>\n",
       "    <tr>\n",
       "      <th>E</th>\n",
       "      <td>-1.677277</td>\n",
       "      <td>0.079282</td>\n",
       "    </tr>\n",
       "  </tbody>\n",
       "</table>\n",
       "</div>"
      ],
      "text/plain": [
       "          W         X\n",
       "A -1.745406  0.074219\n",
       "B  0.280273 -0.823502\n",
       "C  1.154848 -2.494086\n",
       "D -0.327311 -1.517050\n",
       "E -1.677277  0.079282"
      ]
     },
     "execution_count": 88,
     "metadata": {},
     "output_type": "execute_result"
    }
   ],
   "source": [
    "df[['W','X']]"
   ]
  },
  {
   "cell_type": "code",
   "execution_count": 89,
   "id": "ad5f3656",
   "metadata": {},
   "outputs": [
    {
     "data": {
      "text/plain": [
       "A   -1.745406\n",
       "B    0.280273\n",
       "C    1.154848\n",
       "D   -0.327311\n",
       "E   -1.677277\n",
       "Name: W, dtype: float64"
      ]
     },
     "execution_count": 89,
     "metadata": {},
     "output_type": "execute_result"
    }
   ],
   "source": [
    "df.W #NOT RECOMENDDED "
   ]
  },
  {
   "cell_type": "code",
   "execution_count": 91,
   "id": "97077669",
   "metadata": {},
   "outputs": [
    {
     "data": {
      "text/plain": [
       "W    1.154848\n",
       "X   -2.494086\n",
       "Y    0.217348\n",
       "Z   -0.853883\n",
       "Name: C, dtype: float64"
      ]
     },
     "execution_count": 91,
     "metadata": {},
     "output_type": "execute_result"
    }
   ],
   "source": [
    "df.iloc[2]"
   ]
  },
  {
   "cell_type": "markdown",
   "id": "66a3cf95",
   "metadata": {},
   "source": [
    "### ADDING A ROW"
   ]
  },
  {
   "cell_type": "code",
   "execution_count": 92,
   "id": "79cd8da2",
   "metadata": {},
   "outputs": [],
   "source": [
    "df.loc['F']=df.loc['A']+df.loc['B']"
   ]
  },
  {
   "cell_type": "code",
   "execution_count": 93,
   "id": "73d03e4a",
   "metadata": {},
   "outputs": [
    {
     "data": {
      "text/html": [
       "<div>\n",
       "<style scoped>\n",
       "    .dataframe tbody tr th:only-of-type {\n",
       "        vertical-align: middle;\n",
       "    }\n",
       "\n",
       "    .dataframe tbody tr th {\n",
       "        vertical-align: top;\n",
       "    }\n",
       "\n",
       "    .dataframe thead th {\n",
       "        text-align: right;\n",
       "    }\n",
       "</style>\n",
       "<table border=\"1\" class=\"dataframe\">\n",
       "  <thead>\n",
       "    <tr style=\"text-align: right;\">\n",
       "      <th></th>\n",
       "      <th>W</th>\n",
       "      <th>X</th>\n",
       "      <th>Y</th>\n",
       "      <th>Z</th>\n",
       "    </tr>\n",
       "  </thead>\n",
       "  <tbody>\n",
       "    <tr>\n",
       "      <th>A</th>\n",
       "      <td>-1.745406</td>\n",
       "      <td>0.074219</td>\n",
       "      <td>0.333589</td>\n",
       "      <td>-0.477590</td>\n",
       "    </tr>\n",
       "    <tr>\n",
       "      <th>B</th>\n",
       "      <td>0.280273</td>\n",
       "      <td>-0.823502</td>\n",
       "      <td>0.396309</td>\n",
       "      <td>-0.846355</td>\n",
       "    </tr>\n",
       "    <tr>\n",
       "      <th>C</th>\n",
       "      <td>1.154848</td>\n",
       "      <td>-2.494086</td>\n",
       "      <td>0.217348</td>\n",
       "      <td>-0.853883</td>\n",
       "    </tr>\n",
       "    <tr>\n",
       "      <th>D</th>\n",
       "      <td>-0.327311</td>\n",
       "      <td>-1.517050</td>\n",
       "      <td>0.054240</td>\n",
       "      <td>1.127421</td>\n",
       "    </tr>\n",
       "    <tr>\n",
       "      <th>E</th>\n",
       "      <td>-1.677277</td>\n",
       "      <td>0.079282</td>\n",
       "      <td>0.458417</td>\n",
       "      <td>-0.638489</td>\n",
       "    </tr>\n",
       "    <tr>\n",
       "      <th>F</th>\n",
       "      <td>-1.465133</td>\n",
       "      <td>-0.749283</td>\n",
       "      <td>0.729899</td>\n",
       "      <td>-1.323945</td>\n",
       "    </tr>\n",
       "  </tbody>\n",
       "</table>\n",
       "</div>"
      ],
      "text/plain": [
       "          W         X         Y         Z\n",
       "A -1.745406  0.074219  0.333589 -0.477590\n",
       "B  0.280273 -0.823502  0.396309 -0.846355\n",
       "C  1.154848 -2.494086  0.217348 -0.853883\n",
       "D -0.327311 -1.517050  0.054240  1.127421\n",
       "E -1.677277  0.079282  0.458417 -0.638489\n",
       "F -1.465133 -0.749283  0.729899 -1.323945"
      ]
     },
     "execution_count": 93,
     "metadata": {},
     "output_type": "execute_result"
    }
   ],
   "source": [
    "df"
   ]
  },
  {
   "cell_type": "code",
   "execution_count": 94,
   "id": "bbd3d199",
   "metadata": {},
   "outputs": [
    {
     "data": {
      "text/html": [
       "<div>\n",
       "<style scoped>\n",
       "    .dataframe tbody tr th:only-of-type {\n",
       "        vertical-align: middle;\n",
       "    }\n",
       "\n",
       "    .dataframe tbody tr th {\n",
       "        vertical-align: top;\n",
       "    }\n",
       "\n",
       "    .dataframe thead th {\n",
       "        text-align: right;\n",
       "    }\n",
       "</style>\n",
       "<table border=\"1\" class=\"dataframe\">\n",
       "  <thead>\n",
       "    <tr style=\"text-align: right;\">\n",
       "      <th></th>\n",
       "      <th>index</th>\n",
       "      <th>W</th>\n",
       "      <th>X</th>\n",
       "      <th>Y</th>\n",
       "      <th>Z</th>\n",
       "    </tr>\n",
       "  </thead>\n",
       "  <tbody>\n",
       "    <tr>\n",
       "      <th>0</th>\n",
       "      <td>A</td>\n",
       "      <td>-1.745406</td>\n",
       "      <td>0.074219</td>\n",
       "      <td>0.333589</td>\n",
       "      <td>-0.477590</td>\n",
       "    </tr>\n",
       "    <tr>\n",
       "      <th>1</th>\n",
       "      <td>B</td>\n",
       "      <td>0.280273</td>\n",
       "      <td>-0.823502</td>\n",
       "      <td>0.396309</td>\n",
       "      <td>-0.846355</td>\n",
       "    </tr>\n",
       "    <tr>\n",
       "      <th>2</th>\n",
       "      <td>C</td>\n",
       "      <td>1.154848</td>\n",
       "      <td>-2.494086</td>\n",
       "      <td>0.217348</td>\n",
       "      <td>-0.853883</td>\n",
       "    </tr>\n",
       "    <tr>\n",
       "      <th>3</th>\n",
       "      <td>D</td>\n",
       "      <td>-0.327311</td>\n",
       "      <td>-1.517050</td>\n",
       "      <td>0.054240</td>\n",
       "      <td>1.127421</td>\n",
       "    </tr>\n",
       "    <tr>\n",
       "      <th>4</th>\n",
       "      <td>E</td>\n",
       "      <td>-1.677277</td>\n",
       "      <td>0.079282</td>\n",
       "      <td>0.458417</td>\n",
       "      <td>-0.638489</td>\n",
       "    </tr>\n",
       "    <tr>\n",
       "      <th>5</th>\n",
       "      <td>F</td>\n",
       "      <td>-1.465133</td>\n",
       "      <td>-0.749283</td>\n",
       "      <td>0.729899</td>\n",
       "      <td>-1.323945</td>\n",
       "    </tr>\n",
       "  </tbody>\n",
       "</table>\n",
       "</div>"
      ],
      "text/plain": [
       "  index         W         X         Y         Z\n",
       "0     A -1.745406  0.074219  0.333589 -0.477590\n",
       "1     B  0.280273 -0.823502  0.396309 -0.846355\n",
       "2     C  1.154848 -2.494086  0.217348 -0.853883\n",
       "3     D -0.327311 -1.517050  0.054240  1.127421\n",
       "4     E -1.677277  0.079282  0.458417 -0.638489\n",
       "5     F -1.465133 -0.749283  0.729899 -1.323945"
      ]
     },
     "execution_count": 94,
     "metadata": {},
     "output_type": "execute_result"
    }
   ],
   "source": [
    "# if we want to reset the indexes as Default\n",
    "df.reset_index()"
   ]
  },
  {
   "cell_type": "code",
   "execution_count": 95,
   "id": "699e64c2",
   "metadata": {},
   "outputs": [],
   "source": [
    "#for changing the index names\n",
    "newindex = 'DEL UP UK TN AP KL'.split()"
   ]
  },
  {
   "cell_type": "code",
   "execution_count": 96,
   "id": "a561dcb5",
   "metadata": {},
   "outputs": [],
   "source": [
    "df['States']=newindex # added a column"
   ]
  },
  {
   "cell_type": "code",
   "execution_count": 97,
   "id": "bd3d330b",
   "metadata": {},
   "outputs": [
    {
     "data": {
      "text/html": [
       "<div>\n",
       "<style scoped>\n",
       "    .dataframe tbody tr th:only-of-type {\n",
       "        vertical-align: middle;\n",
       "    }\n",
       "\n",
       "    .dataframe tbody tr th {\n",
       "        vertical-align: top;\n",
       "    }\n",
       "\n",
       "    .dataframe thead th {\n",
       "        text-align: right;\n",
       "    }\n",
       "</style>\n",
       "<table border=\"1\" class=\"dataframe\">\n",
       "  <thead>\n",
       "    <tr style=\"text-align: right;\">\n",
       "      <th></th>\n",
       "      <th>W</th>\n",
       "      <th>X</th>\n",
       "      <th>Y</th>\n",
       "      <th>Z</th>\n",
       "      <th>States</th>\n",
       "    </tr>\n",
       "  </thead>\n",
       "  <tbody>\n",
       "    <tr>\n",
       "      <th>A</th>\n",
       "      <td>-1.745406</td>\n",
       "      <td>0.074219</td>\n",
       "      <td>0.333589</td>\n",
       "      <td>-0.477590</td>\n",
       "      <td>DEL</td>\n",
       "    </tr>\n",
       "    <tr>\n",
       "      <th>B</th>\n",
       "      <td>0.280273</td>\n",
       "      <td>-0.823502</td>\n",
       "      <td>0.396309</td>\n",
       "      <td>-0.846355</td>\n",
       "      <td>UP</td>\n",
       "    </tr>\n",
       "    <tr>\n",
       "      <th>C</th>\n",
       "      <td>1.154848</td>\n",
       "      <td>-2.494086</td>\n",
       "      <td>0.217348</td>\n",
       "      <td>-0.853883</td>\n",
       "      <td>UK</td>\n",
       "    </tr>\n",
       "    <tr>\n",
       "      <th>D</th>\n",
       "      <td>-0.327311</td>\n",
       "      <td>-1.517050</td>\n",
       "      <td>0.054240</td>\n",
       "      <td>1.127421</td>\n",
       "      <td>TN</td>\n",
       "    </tr>\n",
       "    <tr>\n",
       "      <th>E</th>\n",
       "      <td>-1.677277</td>\n",
       "      <td>0.079282</td>\n",
       "      <td>0.458417</td>\n",
       "      <td>-0.638489</td>\n",
       "      <td>AP</td>\n",
       "    </tr>\n",
       "    <tr>\n",
       "      <th>F</th>\n",
       "      <td>-1.465133</td>\n",
       "      <td>-0.749283</td>\n",
       "      <td>0.729899</td>\n",
       "      <td>-1.323945</td>\n",
       "      <td>KL</td>\n",
       "    </tr>\n",
       "  </tbody>\n",
       "</table>\n",
       "</div>"
      ],
      "text/plain": [
       "          W         X         Y         Z States\n",
       "A -1.745406  0.074219  0.333589 -0.477590    DEL\n",
       "B  0.280273 -0.823502  0.396309 -0.846355     UP\n",
       "C  1.154848 -2.494086  0.217348 -0.853883     UK\n",
       "D -0.327311 -1.517050  0.054240  1.127421     TN\n",
       "E -1.677277  0.079282  0.458417 -0.638489     AP\n",
       "F -1.465133 -0.749283  0.729899 -1.323945     KL"
      ]
     },
     "execution_count": 97,
     "metadata": {},
     "output_type": "execute_result"
    }
   ],
   "source": [
    "df"
   ]
  },
  {
   "cell_type": "code",
   "execution_count": 98,
   "id": "b05aaad2",
   "metadata": {},
   "outputs": [],
   "source": [
    "# now we have to replace abcdef to states values\n",
    "df.set_index('States',inplace=True)"
   ]
  },
  {
   "cell_type": "code",
   "execution_count": 99,
   "id": "e9f703aa",
   "metadata": {},
   "outputs": [
    {
     "data": {
      "text/html": [
       "<div>\n",
       "<style scoped>\n",
       "    .dataframe tbody tr th:only-of-type {\n",
       "        vertical-align: middle;\n",
       "    }\n",
       "\n",
       "    .dataframe tbody tr th {\n",
       "        vertical-align: top;\n",
       "    }\n",
       "\n",
       "    .dataframe thead th {\n",
       "        text-align: right;\n",
       "    }\n",
       "</style>\n",
       "<table border=\"1\" class=\"dataframe\">\n",
       "  <thead>\n",
       "    <tr style=\"text-align: right;\">\n",
       "      <th></th>\n",
       "      <th>W</th>\n",
       "      <th>X</th>\n",
       "      <th>Y</th>\n",
       "      <th>Z</th>\n",
       "    </tr>\n",
       "    <tr>\n",
       "      <th>States</th>\n",
       "      <th></th>\n",
       "      <th></th>\n",
       "      <th></th>\n",
       "      <th></th>\n",
       "    </tr>\n",
       "  </thead>\n",
       "  <tbody>\n",
       "    <tr>\n",
       "      <th>DEL</th>\n",
       "      <td>-1.745406</td>\n",
       "      <td>0.074219</td>\n",
       "      <td>0.333589</td>\n",
       "      <td>-0.477590</td>\n",
       "    </tr>\n",
       "    <tr>\n",
       "      <th>UP</th>\n",
       "      <td>0.280273</td>\n",
       "      <td>-0.823502</td>\n",
       "      <td>0.396309</td>\n",
       "      <td>-0.846355</td>\n",
       "    </tr>\n",
       "    <tr>\n",
       "      <th>UK</th>\n",
       "      <td>1.154848</td>\n",
       "      <td>-2.494086</td>\n",
       "      <td>0.217348</td>\n",
       "      <td>-0.853883</td>\n",
       "    </tr>\n",
       "    <tr>\n",
       "      <th>TN</th>\n",
       "      <td>-0.327311</td>\n",
       "      <td>-1.517050</td>\n",
       "      <td>0.054240</td>\n",
       "      <td>1.127421</td>\n",
       "    </tr>\n",
       "    <tr>\n",
       "      <th>AP</th>\n",
       "      <td>-1.677277</td>\n",
       "      <td>0.079282</td>\n",
       "      <td>0.458417</td>\n",
       "      <td>-0.638489</td>\n",
       "    </tr>\n",
       "    <tr>\n",
       "      <th>KL</th>\n",
       "      <td>-1.465133</td>\n",
       "      <td>-0.749283</td>\n",
       "      <td>0.729899</td>\n",
       "      <td>-1.323945</td>\n",
       "    </tr>\n",
       "  </tbody>\n",
       "</table>\n",
       "</div>"
      ],
      "text/plain": [
       "               W         X         Y         Z\n",
       "States                                        \n",
       "DEL    -1.745406  0.074219  0.333589 -0.477590\n",
       "UP      0.280273 -0.823502  0.396309 -0.846355\n",
       "UK      1.154848 -2.494086  0.217348 -0.853883\n",
       "TN     -0.327311 -1.517050  0.054240  1.127421\n",
       "AP     -1.677277  0.079282  0.458417 -0.638489\n",
       "KL     -1.465133 -0.749283  0.729899 -1.323945"
      ]
     },
     "execution_count": 99,
     "metadata": {},
     "output_type": "execute_result"
    }
   ],
   "source": [
    "df"
   ]
  },
  {
   "cell_type": "markdown",
   "id": "ad81b26f",
   "metadata": {},
   "source": [
    "### Multi -Index and Index Hierarchy"
   ]
  },
  {
   "cell_type": "code",
   "execution_count": 103,
   "id": "e6a96d6c",
   "metadata": {},
   "outputs": [],
   "source": [
    "# Index levels\n",
    "outside=['North','North','North','South','South','South']\n",
    "inside=newindex"
   ]
  },
  {
   "cell_type": "code",
   "execution_count": 104,
   "id": "4689d829",
   "metadata": {},
   "outputs": [],
   "source": [
    "hier_index=list(zip(outside,inside))"
   ]
  },
  {
   "cell_type": "code",
   "execution_count": 105,
   "id": "9d7c599c",
   "metadata": {},
   "outputs": [
    {
     "data": {
      "text/plain": [
       "[('North', 'DEL'),\n",
       " ('North', 'UP'),\n",
       " ('North', 'UK'),\n",
       " ('South', 'TN'),\n",
       " ('South', 'AP'),\n",
       " ('South', 'KL')]"
      ]
     },
     "execution_count": 105,
     "metadata": {},
     "output_type": "execute_result"
    }
   ],
   "source": [
    "hier_index"
   ]
  },
  {
   "cell_type": "code",
   "execution_count": 106,
   "id": "d5fdb94c",
   "metadata": {},
   "outputs": [],
   "source": [
    "hier_index=pd.MultiIndex.from_tuples(hier_index)"
   ]
  },
  {
   "cell_type": "code",
   "execution_count": 107,
   "id": "9a634991",
   "metadata": {},
   "outputs": [
    {
     "data": {
      "text/plain": [
       "MultiIndex([('North', 'DEL'),\n",
       "            ('North',  'UP'),\n",
       "            ('North',  'UK'),\n",
       "            ('South',  'TN'),\n",
       "            ('South',  'AP'),\n",
       "            ('South',  'KL')],\n",
       "           )"
      ]
     },
     "execution_count": 107,
     "metadata": {},
     "output_type": "execute_result"
    }
   ],
   "source": [
    "hier_index"
   ]
  },
  {
   "cell_type": "code",
   "execution_count": 108,
   "id": "06f43873",
   "metadata": {},
   "outputs": [
    {
     "data": {
      "text/html": [
       "<div>\n",
       "<style scoped>\n",
       "    .dataframe tbody tr th:only-of-type {\n",
       "        vertical-align: middle;\n",
       "    }\n",
       "\n",
       "    .dataframe tbody tr th {\n",
       "        vertical-align: top;\n",
       "    }\n",
       "\n",
       "    .dataframe thead th {\n",
       "        text-align: right;\n",
       "    }\n",
       "</style>\n",
       "<table border=\"1\" class=\"dataframe\">\n",
       "  <thead>\n",
       "    <tr style=\"text-align: right;\">\n",
       "      <th></th>\n",
       "      <th></th>\n",
       "      <th>A</th>\n",
       "      <th>B</th>\n",
       "    </tr>\n",
       "  </thead>\n",
       "  <tbody>\n",
       "    <tr>\n",
       "      <th rowspan=\"3\" valign=\"top\">North</th>\n",
       "      <th>DEL</th>\n",
       "      <td>-1.558007</td>\n",
       "      <td>0.849948</td>\n",
       "    </tr>\n",
       "    <tr>\n",
       "      <th>UP</th>\n",
       "      <td>1.059091</td>\n",
       "      <td>0.575323</td>\n",
       "    </tr>\n",
       "    <tr>\n",
       "      <th>UK</th>\n",
       "      <td>1.727948</td>\n",
       "      <td>0.269926</td>\n",
       "    </tr>\n",
       "    <tr>\n",
       "      <th rowspan=\"3\" valign=\"top\">South</th>\n",
       "      <th>TN</th>\n",
       "      <td>0.348608</td>\n",
       "      <td>1.617945</td>\n",
       "    </tr>\n",
       "    <tr>\n",
       "      <th>AP</th>\n",
       "      <td>-0.333769</td>\n",
       "      <td>-0.129678</td>\n",
       "    </tr>\n",
       "    <tr>\n",
       "      <th>KL</th>\n",
       "      <td>-0.484702</td>\n",
       "      <td>-0.267028</td>\n",
       "    </tr>\n",
       "  </tbody>\n",
       "</table>\n",
       "</div>"
      ],
      "text/plain": [
       "                  A         B\n",
       "North DEL -1.558007  0.849948\n",
       "      UP   1.059091  0.575323\n",
       "      UK   1.727948  0.269926\n",
       "South TN   0.348608  1.617945\n",
       "      AP  -0.333769 -0.129678\n",
       "      KL  -0.484702 -0.267028"
      ]
     },
     "execution_count": 108,
     "metadata": {},
     "output_type": "execute_result"
    }
   ],
   "source": [
    "df = pd.DataFrame(np.random.randn(6,2),index=hier_index,columns=['A','B'])\n",
    "df"
   ]
  },
  {
   "cell_type": "code",
   "execution_count": 109,
   "id": "d04f459c",
   "metadata": {},
   "outputs": [
    {
     "data": {
      "text/html": [
       "<div>\n",
       "<style scoped>\n",
       "    .dataframe tbody tr th:only-of-type {\n",
       "        vertical-align: middle;\n",
       "    }\n",
       "\n",
       "    .dataframe tbody tr th {\n",
       "        vertical-align: top;\n",
       "    }\n",
       "\n",
       "    .dataframe thead th {\n",
       "        text-align: right;\n",
       "    }\n",
       "</style>\n",
       "<table border=\"1\" class=\"dataframe\">\n",
       "  <thead>\n",
       "    <tr style=\"text-align: right;\">\n",
       "      <th></th>\n",
       "      <th>A</th>\n",
       "      <th>B</th>\n",
       "    </tr>\n",
       "  </thead>\n",
       "  <tbody>\n",
       "    <tr>\n",
       "      <th>DEL</th>\n",
       "      <td>-1.558007</td>\n",
       "      <td>0.849948</td>\n",
       "    </tr>\n",
       "    <tr>\n",
       "      <th>UP</th>\n",
       "      <td>1.059091</td>\n",
       "      <td>0.575323</td>\n",
       "    </tr>\n",
       "    <tr>\n",
       "      <th>UK</th>\n",
       "      <td>1.727948</td>\n",
       "      <td>0.269926</td>\n",
       "    </tr>\n",
       "  </tbody>\n",
       "</table>\n",
       "</div>"
      ],
      "text/plain": [
       "            A         B\n",
       "DEL -1.558007  0.849948\n",
       "UP   1.059091  0.575323\n",
       "UK   1.727948  0.269926"
      ]
     },
     "execution_count": 109,
     "metadata": {},
     "output_type": "execute_result"
    }
   ],
   "source": [
    "# now we can fetch the data according to hierarcy \n",
    "df.loc['North']"
   ]
  },
  {
   "cell_type": "code",
   "execution_count": 110,
   "id": "889d185e",
   "metadata": {},
   "outputs": [
    {
     "data": {
      "text/plain": [
       "A   -1.558007\n",
       "B    0.849948\n",
       "Name: DEL, dtype: float64"
      ]
     },
     "execution_count": 110,
     "metadata": {},
     "output_type": "execute_result"
    }
   ],
   "source": [
    "df.loc['North'].loc['DEL']"
   ]
  },
  {
   "cell_type": "code",
   "execution_count": 111,
   "id": "b549c17f",
   "metadata": {},
   "outputs": [
    {
     "data": {
      "text/plain": [
       "FrozenList([None, None])"
      ]
     },
     "execution_count": 111,
     "metadata": {},
     "output_type": "execute_result"
    }
   ],
   "source": [
    "#index not been assigned to any names\n",
    "df.index.names"
   ]
  },
  {
   "cell_type": "code",
   "execution_count": 112,
   "id": "6c8e5b06",
   "metadata": {},
   "outputs": [],
   "source": [
    "df.index.names=['Region','States']"
   ]
  },
  {
   "cell_type": "code",
   "execution_count": 113,
   "id": "dc0b8ca7",
   "metadata": {},
   "outputs": [
    {
     "data": {
      "text/html": [
       "<div>\n",
       "<style scoped>\n",
       "    .dataframe tbody tr th:only-of-type {\n",
       "        vertical-align: middle;\n",
       "    }\n",
       "\n",
       "    .dataframe tbody tr th {\n",
       "        vertical-align: top;\n",
       "    }\n",
       "\n",
       "    .dataframe thead th {\n",
       "        text-align: right;\n",
       "    }\n",
       "</style>\n",
       "<table border=\"1\" class=\"dataframe\">\n",
       "  <thead>\n",
       "    <tr style=\"text-align: right;\">\n",
       "      <th></th>\n",
       "      <th>A</th>\n",
       "      <th>B</th>\n",
       "    </tr>\n",
       "    <tr>\n",
       "      <th>States</th>\n",
       "      <th></th>\n",
       "      <th></th>\n",
       "    </tr>\n",
       "  </thead>\n",
       "  <tbody>\n",
       "    <tr>\n",
       "      <th>DEL</th>\n",
       "      <td>-1.558007</td>\n",
       "      <td>0.849948</td>\n",
       "    </tr>\n",
       "    <tr>\n",
       "      <th>UP</th>\n",
       "      <td>1.059091</td>\n",
       "      <td>0.575323</td>\n",
       "    </tr>\n",
       "    <tr>\n",
       "      <th>UK</th>\n",
       "      <td>1.727948</td>\n",
       "      <td>0.269926</td>\n",
       "    </tr>\n",
       "  </tbody>\n",
       "</table>\n",
       "</div>"
      ],
      "text/plain": [
       "               A         B\n",
       "States                    \n",
       "DEL    -1.558007  0.849948\n",
       "UP      1.059091  0.575323\n",
       "UK      1.727948  0.269926"
      ]
     },
     "execution_count": 113,
     "metadata": {},
     "output_type": "execute_result"
    }
   ],
   "source": [
    "#Return Cross-section from the series/dataframe\n",
    "df.xs('North')"
   ]
  },
  {
   "cell_type": "code",
   "execution_count": 115,
   "id": "a3679360",
   "metadata": {},
   "outputs": [],
   "source": [
    "outside=['North','North','North','South','South','South']\n",
    "inside=[1,2,3,1,2,3]\n",
    "hier_index=list(zip(outside,inside))\n",
    "hier_index=pd.MultiIndex.from_tuples(hier_index)"
   ]
  },
  {
   "cell_type": "code",
   "execution_count": 116,
   "id": "f8bd17e8",
   "metadata": {},
   "outputs": [
    {
     "data": {
      "text/html": [
       "<div>\n",
       "<style scoped>\n",
       "    .dataframe tbody tr th:only-of-type {\n",
       "        vertical-align: middle;\n",
       "    }\n",
       "\n",
       "    .dataframe tbody tr th {\n",
       "        vertical-align: top;\n",
       "    }\n",
       "\n",
       "    .dataframe thead th {\n",
       "        text-align: right;\n",
       "    }\n",
       "</style>\n",
       "<table border=\"1\" class=\"dataframe\">\n",
       "  <thead>\n",
       "    <tr style=\"text-align: right;\">\n",
       "      <th></th>\n",
       "      <th></th>\n",
       "      <th>A</th>\n",
       "      <th>B</th>\n",
       "    </tr>\n",
       "    <tr>\n",
       "      <th>Region</th>\n",
       "      <th>Num</th>\n",
       "      <th></th>\n",
       "      <th></th>\n",
       "    </tr>\n",
       "  </thead>\n",
       "  <tbody>\n",
       "    <tr>\n",
       "      <th rowspan=\"3\" valign=\"top\">North</th>\n",
       "      <th>1</th>\n",
       "      <td>0.751418</td>\n",
       "      <td>1.308372</td>\n",
       "    </tr>\n",
       "    <tr>\n",
       "      <th>2</th>\n",
       "      <td>0.778414</td>\n",
       "      <td>-0.481113</td>\n",
       "    </tr>\n",
       "    <tr>\n",
       "      <th>3</th>\n",
       "      <td>1.521295</td>\n",
       "      <td>0.002127</td>\n",
       "    </tr>\n",
       "    <tr>\n",
       "      <th rowspan=\"3\" valign=\"top\">South</th>\n",
       "      <th>1</th>\n",
       "      <td>-0.917190</td>\n",
       "      <td>-2.664525</td>\n",
       "    </tr>\n",
       "    <tr>\n",
       "      <th>2</th>\n",
       "      <td>-0.025975</td>\n",
       "      <td>-1.221268</td>\n",
       "    </tr>\n",
       "    <tr>\n",
       "      <th>3</th>\n",
       "      <td>1.980576</td>\n",
       "      <td>-1.036305</td>\n",
       "    </tr>\n",
       "  </tbody>\n",
       "</table>\n",
       "</div>"
      ],
      "text/plain": [
       "                   A         B\n",
       "Region Num                    \n",
       "North  1    0.751418  1.308372\n",
       "       2    0.778414 -0.481113\n",
       "       3    1.521295  0.002127\n",
       "South  1   -0.917190 -2.664525\n",
       "       2   -0.025975 -1.221268\n",
       "       3    1.980576 -1.036305"
      ]
     },
     "execution_count": 116,
     "metadata": {},
     "output_type": "execute_result"
    }
   ],
   "source": [
    "df=pd.DataFrame(np.random.randn(6,2),index=hier_index,columns=['A','B'])\n",
    "df.index.names=['Region','Num']\n",
    "df"
   ]
  },
  {
   "cell_type": "code",
   "execution_count": 118,
   "id": "764f352a",
   "metadata": {},
   "outputs": [
    {
     "name": "stderr",
     "output_type": "stream",
     "text": [
      "C:\\Users\\studentadmin\\AppData\\Local\\Temp\\ipykernel_9256\\453744059.py:1: FutureWarning: Passing lists as key for xs is deprecated and will be removed in a future version. Pass key as a tuple instead.\n",
      "  df.xs(['North',1])\n"
     ]
    },
    {
     "data": {
      "text/plain": [
       "A    0.751418\n",
       "B    1.308372\n",
       "Name: (North, 1), dtype: float64"
      ]
     },
     "execution_count": 118,
     "metadata": {},
     "output_type": "execute_result"
    }
   ],
   "source": [
    "df.xs(['North',1])"
   ]
  },
  {
   "cell_type": "code",
   "execution_count": 119,
   "id": "ee83e8d7",
   "metadata": {},
   "outputs": [
    {
     "data": {
      "text/html": [
       "<div>\n",
       "<style scoped>\n",
       "    .dataframe tbody tr th:only-of-type {\n",
       "        vertical-align: middle;\n",
       "    }\n",
       "\n",
       "    .dataframe tbody tr th {\n",
       "        vertical-align: top;\n",
       "    }\n",
       "\n",
       "    .dataframe thead th {\n",
       "        text-align: right;\n",
       "    }\n",
       "</style>\n",
       "<table border=\"1\" class=\"dataframe\">\n",
       "  <thead>\n",
       "    <tr style=\"text-align: right;\">\n",
       "      <th></th>\n",
       "      <th>A</th>\n",
       "      <th>B</th>\n",
       "    </tr>\n",
       "    <tr>\n",
       "      <th>Region</th>\n",
       "      <th></th>\n",
       "      <th></th>\n",
       "    </tr>\n",
       "  </thead>\n",
       "  <tbody>\n",
       "    <tr>\n",
       "      <th>North</th>\n",
       "      <td>0.751418</td>\n",
       "      <td>1.308372</td>\n",
       "    </tr>\n",
       "    <tr>\n",
       "      <th>South</th>\n",
       "      <td>-0.917190</td>\n",
       "      <td>-2.664525</td>\n",
       "    </tr>\n",
       "  </tbody>\n",
       "</table>\n",
       "</div>"
      ],
      "text/plain": [
       "               A         B\n",
       "Region                    \n",
       "North   0.751418  1.308372\n",
       "South  -0.917190 -2.664525"
      ]
     },
     "execution_count": 119,
     "metadata": {},
     "output_type": "execute_result"
    }
   ],
   "source": [
    "df.xs(1,level='Num')"
   ]
  },
  {
   "cell_type": "code",
   "execution_count": null,
   "id": "7dc22bbc",
   "metadata": {},
   "outputs": [],
   "source": []
  },
  {
   "cell_type": "code",
   "execution_count": null,
   "id": "f5a17a89",
   "metadata": {},
   "outputs": [],
   "source": []
  },
  {
   "cell_type": "code",
   "execution_count": null,
   "id": "a1addd92",
   "metadata": {},
   "outputs": [],
   "source": []
  },
  {
   "cell_type": "code",
   "execution_count": null,
   "id": "9c953210",
   "metadata": {},
   "outputs": [],
   "source": []
  }
 ],
 "metadata": {
  "kernelspec": {
   "display_name": "Python 3 (ipykernel)",
   "language": "python",
   "name": "python3"
  },
  "language_info": {
   "codemirror_mode": {
    "name": "ipython",
    "version": 3
   },
   "file_extension": ".py",
   "mimetype": "text/x-python",
   "name": "python",
   "nbconvert_exporter": "python",
   "pygments_lexer": "ipython3",
   "version": "3.9.12"
  }
 },
 "nbformat": 4,
 "nbformat_minor": 5
}
