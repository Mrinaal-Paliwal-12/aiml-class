{
 "cells": [
  {
   "cell_type": "code",
   "execution_count": 1,
   "id": "bc13a564",
   "metadata": {},
   "outputs": [],
   "source": [
    "import numpy as np\n",
    "import pandas as pd"
   ]
  },
  {
   "cell_type": "code",
   "execution_count": 5,
   "id": "b9660201",
   "metadata": {},
   "outputs": [
    {
     "data": {
      "text/plain": [
       "array([[1],\n",
       "       [2],\n",
       "       [3]])"
      ]
     },
     "execution_count": 5,
     "metadata": {},
     "output_type": "execute_result"
    }
   ],
   "source": [
    "# Create a vector as column\n",
    "vector_column = np.array([[1], [2], [3]])\n",
    "vector_column"
   ]
  },
  {
   "cell_type": "code",
   "execution_count": 6,
   "id": "cdf53197",
   "metadata": {},
   "outputs": [
    {
     "data": {
      "text/plain": [
       "array([[1, 2, 3]])"
      ]
     },
     "execution_count": 6,
     "metadata": {},
     "output_type": "execute_result"
    }
   ],
   "source": [
    "# Create a vector as row\n",
    "vector_row = np.array([[1,2,3]])\n",
    "vector_row"
   ]
  },
  {
   "cell_type": "code",
   "execution_count": 7,
   "id": "42c4c124",
   "metadata": {},
   "outputs": [],
   "source": [
    "from scipy import sparse"
   ]
  },
  {
   "cell_type": "code",
   "execution_count": 8,
   "id": "ce1e1d9a",
   "metadata": {},
   "outputs": [],
   "source": [
    "# Create a Matrix\n",
    "matrix = np.array([[0,0],\n",
    "                   [0,1],\n",
    "                   [3,0]])\n",
    "# Create compressed sparse row (CSR) matrix\n",
    "matrix_sparse = sparse.csr_matrix(matrix)"
   ]
  },
  {
   "cell_type": "code",
   "execution_count": 9,
   "id": "b6b8b230",
   "metadata": {},
   "outputs": [
    {
     "data": {
      "text/plain": [
       "array([[0, 0],\n",
       "       [0, 1],\n",
       "       [3, 0]])"
      ]
     },
     "execution_count": 9,
     "metadata": {},
     "output_type": "execute_result"
    }
   ],
   "source": [
    "matrix"
   ]
  },
  {
   "cell_type": "code",
   "execution_count": 10,
   "id": "b484e6e7",
   "metadata": {},
   "outputs": [
    {
     "name": "stdout",
     "output_type": "stream",
     "text": [
      "  (1, 1)\t1\n",
      "  (2, 0)\t3\n"
     ]
    }
   ],
   "source": [
    "print(matrix_sparse)"
   ]
  },
  {
   "cell_type": "code",
   "execution_count": 14,
   "id": "adc81cfa",
   "metadata": {},
   "outputs": [],
   "source": [
    "# Create larger matrix\n",
    "matrix_large = np.array([[0,0,0,0,0,0,0,0,0], [0,0,1,0,10,0,8,0,7], [0,2,0,0,0,5,0,0,6]])"
   ]
  },
  {
   "cell_type": "code",
   "execution_count": 16,
   "id": "9e0e1c49",
   "metadata": {},
   "outputs": [
    {
     "name": "stdout",
     "output_type": "stream",
     "text": [
      "  (1, 2)\t1\n",
      "  (1, 4)\t10\n",
      "  (1, 6)\t8\n",
      "  (1, 8)\t7\n",
      "  (2, 1)\t2\n",
      "  (2, 5)\t5\n",
      "  (2, 8)\t6\n"
     ]
    }
   ],
   "source": [
    "# Create compressed sparse row (CSR) matrix\n",
    "matrix_large_sparse = sparse.csr_matrix(matrix_large)\n",
    "# View larger sparse materix\n",
    "print(matrix_large_sparse)"
   ]
  },
  {
   "cell_type": "code",
   "execution_count": 17,
   "id": "7d5730e8",
   "metadata": {},
   "outputs": [
    {
     "data": {
      "text/plain": [
       "array([[1, 2, 3],\n",
       "       [4, 5, 6],\n",
       "       [7, 8, 9]])"
      ]
     },
     "execution_count": 17,
     "metadata": {},
     "output_type": "execute_result"
    }
   ],
   "source": [
    "# Create 3x3 Matrix\n",
    "matrix = np.array([[1,2,3], [4,5,6], [7,8,9]])\n",
    "matrix"
   ]
  },
  {
   "cell_type": "code",
   "execution_count": 18,
   "id": "1f554f9a",
   "metadata": {},
   "outputs": [
    {
     "data": {
      "text/plain": [
       "array([7, 8, 9])"
      ]
     },
     "execution_count": 18,
     "metadata": {},
     "output_type": "execute_result"
    }
   ],
   "source": [
    "# Find Maximum element in column\n",
    "np.max(matrix, axis=0)"
   ]
  },
  {
   "cell_type": "code",
   "execution_count": 19,
   "id": "dc1c3a3b",
   "metadata": {},
   "outputs": [
    {
     "data": {
      "text/plain": [
       "array([3, 6, 9])"
      ]
     },
     "execution_count": 19,
     "metadata": {},
     "output_type": "execute_result"
    }
   ],
   "source": [
    "# Find Maximum element in row\n",
    "np.max(matrix, axis=1)"
   ]
  },
  {
   "cell_type": "code",
   "execution_count": 20,
   "id": "a60fee3a",
   "metadata": {},
   "outputs": [
    {
     "data": {
      "text/plain": [
       "5.0"
      ]
     },
     "execution_count": 20,
     "metadata": {},
     "output_type": "execute_result"
    }
   ],
   "source": [
    "# Return Mean\n",
    "np.mean(matrix)"
   ]
  },
  {
   "cell_type": "code",
   "execution_count": 21,
   "id": "7011845b",
   "metadata": {},
   "outputs": [
    {
     "data": {
      "text/plain": [
       "6.666666666666667"
      ]
     },
     "execution_count": 21,
     "metadata": {},
     "output_type": "execute_result"
    }
   ],
   "source": [
    "# Returns Variance\n",
    "np.var(matrix)"
   ]
  },
  {
   "cell_type": "code",
   "execution_count": 22,
   "id": "97e33e29",
   "metadata": {},
   "outputs": [
    {
     "data": {
      "text/plain": [
       "2.581988897471611"
      ]
     },
     "execution_count": 22,
     "metadata": {},
     "output_type": "execute_result"
    }
   ],
   "source": [
    "#  Returns Standard Deviation\n",
    "np.std(matrix)"
   ]
  },
  {
   "cell_type": "code",
   "execution_count": null,
   "id": "130d7507",
   "metadata": {},
   "outputs": [],
   "source": [
    "# RESHAPING ARRAY"
   ]
  },
  {
   "cell_type": "code",
   "execution_count": 23,
   "id": "f9d443d2",
   "metadata": {},
   "outputs": [
    {
     "data": {
      "text/plain": [
       "array([[ 1,  2,  3],\n",
       "       [ 4,  5,  6],\n",
       "       [ 7,  8,  9],\n",
       "       [10, 11, 12]])"
      ]
     },
     "execution_count": 23,
     "metadata": {},
     "output_type": "execute_result"
    }
   ],
   "source": [
    "# Create 4x3 matrix\n",
    "matrix = np.array([[1,2,3], [4,5,6], [7,8,9], [10,11,12]])\n",
    "matrix"
   ]
  },
  {
   "cell_type": "code",
   "execution_count": 24,
   "id": "ba14d9df",
   "metadata": {},
   "outputs": [
    {
     "data": {
      "text/plain": [
       "array([[ 1,  2,  3,  4,  5,  6],\n",
       "       [ 7,  8,  9, 10, 11, 12]])"
      ]
     },
     "execution_count": 24,
     "metadata": {},
     "output_type": "execute_result"
    }
   ],
   "source": [
    "# Reshape matrix into 2x6 matrix\n",
    "matrix.reshape(2, 6)"
   ]
  },
  {
   "cell_type": "code",
   "execution_count": 25,
   "id": "32dc4460",
   "metadata": {},
   "outputs": [
    {
     "data": {
      "text/plain": [
       "array([[ 1,  2,  3,  4,  5,  6,  7,  8,  9, 10, 11, 12]])"
      ]
     },
     "execution_count": 25,
     "metadata": {},
     "output_type": "execute_result"
    }
   ],
   "source": [
    "matrix.reshape(1, -1)\n",
    "#  to get the array in the form of 1D"
   ]
  },
  {
   "cell_type": "code",
   "execution_count": 26,
   "id": "eb23cd4a",
   "metadata": {},
   "outputs": [
    {
     "data": {
      "text/plain": [
       "12"
      ]
     },
     "execution_count": 26,
     "metadata": {},
     "output_type": "execute_result"
    }
   ],
   "source": [
    "matrix.size"
   ]
  },
  {
   "cell_type": "code",
   "execution_count": 27,
   "id": "9b9554db",
   "metadata": {},
   "outputs": [
    {
     "data": {
      "text/plain": [
       "array([ 1,  2,  3,  4,  5,  6,  7,  8,  9, 10, 11, 12])"
      ]
     },
     "execution_count": 27,
     "metadata": {},
     "output_type": "execute_result"
    }
   ],
   "source": [
    "matrix.reshape(matrix.size)\n",
    "# it will return a single list of all elements in the matrix"
   ]
  },
  {
   "cell_type": "code",
   "execution_count": 28,
   "id": "cc32dea7",
   "metadata": {},
   "outputs": [
    {
     "data": {
      "text/plain": [
       "array([[ 1,  4,  7, 10],\n",
       "       [ 2,  5,  8, 11],\n",
       "       [ 3,  6,  9, 12]])"
      ]
     },
     "execution_count": 28,
     "metadata": {},
     "output_type": "execute_result"
    }
   ],
   "source": [
    "# Transpose Matrix\n",
    "matrix.T"
   ]
  },
  {
   "cell_type": "code",
   "execution_count": 30,
   "id": "3e05a203",
   "metadata": {},
   "outputs": [
    {
     "data": {
      "text/plain": [
       "array([1, 2, 3, 4, 5, 6])"
      ]
     },
     "execution_count": 30,
     "metadata": {},
     "output_type": "execute_result"
    }
   ],
   "source": [
    "# Transpose Vector\n",
    "np.array([1, 2, 3, 4, 5, 6]).T"
   ]
  },
  {
   "cell_type": "code",
   "execution_count": 31,
   "id": "63813cd5",
   "metadata": {},
   "outputs": [
    {
     "data": {
      "text/plain": [
       "array([[1],\n",
       "       [2],\n",
       "       [3],\n",
       "       [4],\n",
       "       [5],\n",
       "       [6]])"
      ]
     },
     "execution_count": 31,
     "metadata": {},
     "output_type": "execute_result"
    }
   ],
   "source": [
    "# Transpose row vector\n",
    "np.array([[1, 2, 3, 4, 5, 6]]).T"
   ]
  },
  {
   "cell_type": "code",
   "execution_count": 33,
   "id": "78951098",
   "metadata": {},
   "outputs": [
    {
     "data": {
      "text/plain": [
       "array([ 1,  2,  3,  4,  5,  6,  7,  8,  9, 10, 11, 12])"
      ]
     },
     "execution_count": 33,
     "metadata": {},
     "output_type": "execute_result"
    }
   ],
   "source": [
    "# Flatten Matrix\n",
    "matrix.flatten()\n",
    "# To convert the matrix into 1D array"
   ]
  },
  {
   "cell_type": "code",
   "execution_count": 34,
   "id": "c786735c",
   "metadata": {},
   "outputs": [
    {
     "data": {
      "text/plain": [
       "array([1, 5, 9])"
      ]
     },
     "execution_count": 34,
     "metadata": {},
     "output_type": "execute_result"
    }
   ],
   "source": [
    "# Return Diagonal elements \n",
    "matrix.diagonal()"
   ]
  },
  {
   "cell_type": "code",
   "execution_count": 35,
   "id": "b6dcdd0f",
   "metadata": {},
   "outputs": [
    {
     "data": {
      "text/plain": [
       "array([ 1.,  2., nan,  3.,  4.])"
      ]
     },
     "execution_count": 35,
     "metadata": {},
     "output_type": "execute_result"
    }
   ],
   "source": [
    "c = np.array([1, 2, np.nan, 3, 4])\n",
    "c\n",
    "# nan - not a number"
   ]
  },
  {
   "cell_type": "code",
   "execution_count": 36,
   "id": "26bbc610",
   "metadata": {},
   "outputs": [
    {
     "data": {
      "text/plain": [
       "array([False, False,  True, False, False])"
      ]
     },
     "execution_count": 36,
     "metadata": {},
     "output_type": "execute_result"
    }
   ],
   "source": [
    "np.isnan(c)"
   ]
  },
  {
   "cell_type": "code",
   "execution_count": 37,
   "id": "3561ac99",
   "metadata": {},
   "outputs": [
    {
     "data": {
      "text/plain": [
       "2.5"
      ]
     },
     "execution_count": 37,
     "metadata": {},
     "output_type": "execute_result"
    }
   ],
   "source": [
    "np.mean(c[~np.isnan(c)])\n",
    "# ~np.isnan = means is not a nan"
   ]
  },
  {
   "cell_type": "code",
   "execution_count": 38,
   "id": "9c49e528",
   "metadata": {},
   "outputs": [
    {
     "data": {
      "text/plain": [
       "array([[1, 2, 3],\n",
       "       [4, 5, 6],\n",
       "       [7, 8, 9]])"
      ]
     },
     "execution_count": 38,
     "metadata": {},
     "output_type": "execute_result"
    }
   ],
   "source": [
    "a = np.array([[1,2,3], [4,5,6], [7,8,9]])\n",
    "a"
   ]
  },
  {
   "cell_type": "code",
   "execution_count": 39,
   "id": "2a59e923",
   "metadata": {},
   "outputs": [
    {
     "data": {
      "text/plain": [
       "array([[1., 2., 3.],\n",
       "       [4., 5., 6.],\n",
       "       [7., 8., 9.]])"
      ]
     },
     "execution_count": 39,
     "metadata": {},
     "output_type": "execute_result"
    }
   ],
   "source": [
    "a =a.astype('float')\n",
    "a"
   ]
  },
  {
   "cell_type": "code",
   "execution_count": 44,
   "id": "cf37be97",
   "metadata": {},
   "outputs": [
    {
     "data": {
      "text/plain": [
       "array([[nan,  2.,  3.],\n",
       "       [ 4., inf,  6.],\n",
       "       [ 7.,  8.,  9.]])"
      ]
     },
     "execution_count": 44,
     "metadata": {},
     "output_type": "execute_result"
    }
   ],
   "source": [
    "a[0][0] = np.nan \n",
    "a[1][1] = np.inf # inf - infinity\n",
    "a"
   ]
  },
  {
   "cell_type": "code",
   "execution_count": 45,
   "id": "69c6ac84",
   "metadata": {},
   "outputs": [
    {
     "data": {
      "text/plain": [
       "array([[False, False, False],\n",
       "       [False,  True, False],\n",
       "       [False, False, False]])"
      ]
     },
     "execution_count": 45,
     "metadata": {},
     "output_type": "execute_result"
    }
   ],
   "source": [
    "np.isinf(a)\n",
    "# Returns true if inf value "
   ]
  },
  {
   "cell_type": "code",
   "execution_count": 46,
   "id": "4c409446",
   "metadata": {},
   "outputs": [
    {
     "data": {
      "text/plain": [
       "array([[ True, False, False],\n",
       "       [False, False, False],\n",
       "       [False, False, False]])"
      ]
     },
     "execution_count": 46,
     "metadata": {},
     "output_type": "execute_result"
    }
   ],
   "source": [
    "np.isnan(a)\n",
    "#  Returns true if nan value"
   ]
  },
  {
   "cell_type": "code",
   "execution_count": 48,
   "id": "8be390e2",
   "metadata": {},
   "outputs": [
    {
     "data": {
      "text/plain": [
       "array([[ True, False, False],\n",
       "       [False,  True, False],\n",
       "       [False, False, False]])"
      ]
     },
     "execution_count": 48,
     "metadata": {},
     "output_type": "execute_result"
    }
   ],
   "source": [
    "#  To check both the condition\n",
    "flag = np.isinf(a) | np.isnan(a)\n",
    "flag"
   ]
  },
  {
   "cell_type": "code",
   "execution_count": 56,
   "id": "cbf0746e",
   "metadata": {},
   "outputs": [
    {
     "data": {
      "text/plain": [
       "array([0., 0.])"
      ]
     },
     "execution_count": 56,
     "metadata": {},
     "output_type": "execute_result"
    }
   ],
   "source": []
  },
  {
   "cell_type": "code",
   "execution_count": 61,
   "id": "671a3cbf",
   "metadata": {},
   "outputs": [
    {
     "data": {
      "text/plain": [
       "array([[0., 2., 3.],\n",
       "       [4., 0., 6.],\n",
       "       [7., 8., 9.]])"
      ]
     },
     "execution_count": 61,
     "metadata": {},
     "output_type": "execute_result"
    }
   ],
   "source": [
    "#DATA CLEANING\n",
    "a[flag] = 0\n",
    "a"
   ]
  },
  {
   "cell_type": "code",
   "execution_count": 63,
   "id": "272a976a",
   "metadata": {},
   "outputs": [
    {
     "data": {
      "text/plain": [
       "A    100\n",
       "B    200\n",
       "C    300\n",
       "D    400\n",
       "dtype: int64"
      ]
     },
     "execution_count": 63,
     "metadata": {},
     "output_type": "execute_result"
    }
   ],
   "source": [
    "dict = {'A':100, 'B':200, 'C': 300, 'D':400}\n",
    "z1 = pd.Series(dict)\n",
    "z1"
   ]
  },
  {
   "cell_type": "code",
   "execution_count": 65,
   "id": "8cf78626",
   "metadata": {},
   "outputs": [],
   "source": [
    "z2 = pd.Series([10,20,30,40],'A B D E'.split())"
   ]
  },
  {
   "cell_type": "code",
   "execution_count": 66,
   "id": "049a4aec",
   "metadata": {},
   "outputs": [
    {
     "data": {
      "text/plain": [
       "['A', 'B', 'C', 'D']"
      ]
     },
     "execution_count": 66,
     "metadata": {},
     "output_type": "execute_result"
    }
   ],
   "source": [
    "'A B C D'.split()"
   ]
  },
  {
   "cell_type": "code",
   "execution_count": 67,
   "id": "c044c330",
   "metadata": {},
   "outputs": [
    {
     "data": {
      "text/plain": [
       "A    10\n",
       "B    20\n",
       "D    30\n",
       "E    40\n",
       "dtype: int64"
      ]
     },
     "execution_count": 67,
     "metadata": {},
     "output_type": "execute_result"
    }
   ],
   "source": [
    "z2"
   ]
  },
  {
   "cell_type": "code",
   "execution_count": 69,
   "id": "e0faf4e4",
   "metadata": {},
   "outputs": [
    {
     "data": {
      "text/plain": [
       "A    110.0\n",
       "B    220.0\n",
       "C      NaN\n",
       "D    430.0\n",
       "E      NaN\n",
       "dtype: float64"
      ]
     },
     "execution_count": 69,
     "metadata": {},
     "output_type": "execute_result"
    }
   ],
   "source": [
    "z1+z2"
   ]
  },
  {
   "cell_type": "code",
   "execution_count": null,
   "id": "a7e5937a",
   "metadata": {},
   "outputs": [],
   "source": [
    "# Slicing in a Series"
   ]
  },
  {
   "cell_type": "code",
   "execution_count": 70,
   "id": "faef848a",
   "metadata": {},
   "outputs": [
    {
     "data": {
      "text/plain": [
       "A    100\n",
       "B    200\n",
       "C    300\n",
       "dtype: int64"
      ]
     },
     "execution_count": 70,
     "metadata": {},
     "output_type": "execute_result"
    }
   ],
   "source": [
    "z1['A':'C']"
   ]
  },
  {
   "cell_type": "code",
   "execution_count": 71,
   "id": "ebc0b5dc",
   "metadata": {},
   "outputs": [
    {
     "data": {
      "text/plain": [
       "pandas.core.series.Series"
      ]
     },
     "execution_count": 71,
     "metadata": {},
     "output_type": "execute_result"
    }
   ],
   "source": [
    "type(z1['A':'C'])\n",
    "# We can consider Series as a single column"
   ]
  },
  {
   "cell_type": "code",
   "execution_count": 73,
   "id": "c73e5ae0",
   "metadata": {},
   "outputs": [
    {
     "data": {
      "text/plain": [
       "A    100\n",
       "C    300\n",
       "dtype: int64"
      ]
     },
     "execution_count": 73,
     "metadata": {},
     "output_type": "execute_result"
    }
   ],
   "source": [
    "z1[['A','C']]"
   ]
  },
  {
   "cell_type": "code",
   "execution_count": 74,
   "id": "4131aabc",
   "metadata": {},
   "outputs": [
    {
     "data": {
      "text/plain": [
       "A    100\n",
       "B    200\n",
       "dtype: int64"
      ]
     },
     "execution_count": 74,
     "metadata": {},
     "output_type": "execute_result"
    }
   ],
   "source": [
    "#  using default index values\n",
    "z1[[0, 1]]"
   ]
  },
  {
   "cell_type": "code",
   "execution_count": null,
   "id": "78c8991d",
   "metadata": {},
   "outputs": [],
   "source": [
    "# INDEXING"
   ]
  },
  {
   "cell_type": "code",
   "execution_count": 75,
   "id": "25897287",
   "metadata": {},
   "outputs": [
    {
     "data": {
      "text/plain": [
       "300"
      ]
     },
     "execution_count": 75,
     "metadata": {},
     "output_type": "execute_result"
    }
   ],
   "source": [
    "# iloc does integer based indexing\n",
    "z1.iloc[2]"
   ]
  },
  {
   "cell_type": "code",
   "execution_count": 76,
   "id": "cf291ff4",
   "metadata": {},
   "outputs": [
    {
     "data": {
      "text/plain": [
       "100"
      ]
     },
     "execution_count": 76,
     "metadata": {},
     "output_type": "execute_result"
    }
   ],
   "source": [
    "# loc does label based indexing\n",
    "z1.loc['A']"
   ]
  },
  {
   "cell_type": "code",
   "execution_count": null,
   "id": "c421505f",
   "metadata": {},
   "outputs": [],
   "source": [
    "#OPERATIONS"
   ]
  },
  {
   "cell_type": "code",
   "execution_count": 77,
   "id": "f2c7bd5e",
   "metadata": {},
   "outputs": [
    {
     "data": {
      "text/plain": [
       "A    False\n",
       "B     True\n",
       "C     True\n",
       "D     True\n",
       "dtype: bool"
      ]
     },
     "execution_count": 77,
     "metadata": {},
     "output_type": "execute_result"
    }
   ],
   "source": [
    "z1>100"
   ]
  },
  {
   "cell_type": "code",
   "execution_count": 78,
   "id": "c355ab04",
   "metadata": {},
   "outputs": [
    {
     "data": {
      "text/plain": [
       "B    200\n",
       "C    300\n",
       "D    400\n",
       "dtype: int64"
      ]
     },
     "execution_count": 78,
     "metadata": {},
     "output_type": "execute_result"
    }
   ],
   "source": [
    "z1[z1>100]"
   ]
  },
  {
   "cell_type": "code",
   "execution_count": 79,
   "id": "37f1cae0",
   "metadata": {},
   "outputs": [
    {
     "data": {
      "text/plain": [
       "A    100\n",
       "C    300\n",
       "dtype: int64"
      ]
     },
     "execution_count": 79,
     "metadata": {},
     "output_type": "execute_result"
    }
   ],
   "source": [
    "b = [True, False, True, False]\n",
    "z1[b]"
   ]
  },
  {
   "cell_type": "code",
   "execution_count": null,
   "id": "dbe674f5",
   "metadata": {},
   "outputs": [],
   "source": [
    "# BROADCASTING"
   ]
  },
  {
   "cell_type": "code",
   "execution_count": 80,
   "id": "616be81f",
   "metadata": {},
   "outputs": [
    {
     "data": {
      "text/plain": [
       "A    300\n",
       "B    400\n",
       "C    500\n",
       "D    600\n",
       "dtype: int64"
      ]
     },
     "execution_count": 80,
     "metadata": {},
     "output_type": "execute_result"
    }
   ],
   "source": [
    "z1+200"
   ]
  },
  {
   "cell_type": "code",
   "execution_count": null,
   "id": "f5e452d2",
   "metadata": {},
   "outputs": [],
   "source": [
    "# Ordering on Series"
   ]
  },
  {
   "cell_type": "code",
   "execution_count": 81,
   "id": "6154c6e4",
   "metadata": {},
   "outputs": [
    {
     "data": {
      "text/plain": [
       "A    100\n",
       "B    200\n",
       "C    300\n",
       "D    400\n",
       "dtype: int64"
      ]
     },
     "execution_count": 81,
     "metadata": {},
     "output_type": "execute_result"
    }
   ],
   "source": [
    "z1.sort_values()"
   ]
  },
  {
   "cell_type": "code",
   "execution_count": 82,
   "id": "6d8600e9",
   "metadata": {},
   "outputs": [
    {
     "data": {
      "text/plain": [
       "D    400\n",
       "C    300\n",
       "B    200\n",
       "A    100\n",
       "dtype: int64"
      ]
     },
     "execution_count": 82,
     "metadata": {},
     "output_type": "execute_result"
    }
   ],
   "source": [
    "z1.sort_values(ascending = False)"
   ]
  },
  {
   "cell_type": "code",
   "execution_count": 99,
   "id": "24ea921c",
   "metadata": {},
   "outputs": [],
   "source": [
    "z1.sort_values(ascending=False,inplace=True)"
   ]
  },
  {
   "cell_type": "code",
   "execution_count": null,
   "id": "3dc55559",
   "metadata": {},
   "outputs": [],
   "source": [
    "# Aggregation on Series"
   ]
  },
  {
   "cell_type": "code",
   "execution_count": 88,
   "id": "8432fec7",
   "metadata": {},
   "outputs": [
    {
     "data": {
      "text/plain": [
       "250.0"
      ]
     },
     "execution_count": 88,
     "metadata": {},
     "output_type": "execute_result"
    }
   ],
   "source": [
    "z1.mean()"
   ]
  },
  {
   "cell_type": "code",
   "execution_count": 89,
   "id": "b39521e7",
   "metadata": {},
   "outputs": [
    {
     "data": {
      "text/plain": [
       "1000"
      ]
     },
     "execution_count": 89,
     "metadata": {},
     "output_type": "execute_result"
    }
   ],
   "source": [
    "z1.sum()"
   ]
  },
  {
   "cell_type": "code",
   "execution_count": 90,
   "id": "ba092222",
   "metadata": {},
   "outputs": [
    {
     "data": {
      "text/plain": [
       "400"
      ]
     },
     "execution_count": 90,
     "metadata": {},
     "output_type": "execute_result"
    }
   ],
   "source": [
    "z1.max()"
   ]
  },
  {
   "cell_type": "code",
   "execution_count": 91,
   "id": "0b0cd472",
   "metadata": {},
   "outputs": [
    {
     "data": {
      "text/plain": [
       "100"
      ]
     },
     "execution_count": 91,
     "metadata": {},
     "output_type": "execute_result"
    }
   ],
   "source": [
    "z1.min()"
   ]
  },
  {
   "cell_type": "code",
   "execution_count": 93,
   "id": "36a630fa",
   "metadata": {},
   "outputs": [
    {
     "data": {
      "text/plain": [
       "'D'"
      ]
     },
     "execution_count": 93,
     "metadata": {},
     "output_type": "execute_result"
    }
   ],
   "source": [
    "z1.idxmax()"
   ]
  },
  {
   "cell_type": "code",
   "execution_count": 100,
   "id": "8d9b352b",
   "metadata": {},
   "outputs": [
    {
     "data": {
      "text/plain": [
       "{'Column1': 0      [2, 3, 4, 5]\n",
       " 1    [[a, b, c, d]]\n",
       " dtype: object,\n",
       " 'Column2': 0    [20, 30, 40, 50]\n",
       " 1      [[A, B, C, D]]\n",
       " dtype: object}"
      ]
     },
     "execution_count": 100,
     "metadata": {},
     "output_type": "execute_result"
    }
   ],
   "source": [
    "# Series with two columns\n",
    "data_1 = {'Column1': pd.Series([[2,3,4,5], ['a b c d'.split()]]),\n",
    "          'Column2': pd.Series([[20,30,40,50], ['A B C D'.split()]])}\n",
    "data_1"
   ]
  },
  {
   "cell_type": "code",
   "execution_count": null,
   "id": "445d1d2f",
   "metadata": {},
   "outputs": [],
   "source": [
    "# DATA FRAME"
   ]
  },
  {
   "cell_type": "code",
   "execution_count": 126,
   "id": "218c8833",
   "metadata": {},
   "outputs": [
    {
     "data": {
      "text/plain": [
       "array([[-0.14428909,  0.25652554,  0.35639451, -1.11163736],\n",
       "       [ 0.01521384,  1.36526186,  2.11857241, -0.96544584],\n",
       "       [-1.38082573, -1.12994592,  0.184108  ,  0.10230005],\n",
       "       [-0.25162446, -0.66238928,  0.73263871,  0.7107713 ],\n",
       "       [ 0.41370764,  0.39832704,  0.43151927, -0.44435259]])"
      ]
     },
     "execution_count": 126,
     "metadata": {},
     "output_type": "execute_result"
    }
   ],
   "source": [
    "rand_mat = np.random.randn(5, 4)\n",
    "rand_mat"
   ]
  },
  {
   "cell_type": "code",
   "execution_count": 127,
   "id": "03da9579",
   "metadata": {},
   "outputs": [
    {
     "data": {
      "text/html": [
       "<div>\n",
       "<style scoped>\n",
       "    .dataframe tbody tr th:only-of-type {\n",
       "        vertical-align: middle;\n",
       "    }\n",
       "\n",
       "    .dataframe tbody tr th {\n",
       "        vertical-align: top;\n",
       "    }\n",
       "\n",
       "    .dataframe thead th {\n",
       "        text-align: right;\n",
       "    }\n",
       "</style>\n",
       "<table border=\"1\" class=\"dataframe\">\n",
       "  <thead>\n",
       "    <tr style=\"text-align: right;\">\n",
       "      <th></th>\n",
       "      <th>W</th>\n",
       "      <th>X</th>\n",
       "      <th>Y</th>\n",
       "      <th>Z</th>\n",
       "    </tr>\n",
       "  </thead>\n",
       "  <tbody>\n",
       "    <tr>\n",
       "      <th>A</th>\n",
       "      <td>-0.144289</td>\n",
       "      <td>0.256526</td>\n",
       "      <td>0.356395</td>\n",
       "      <td>-1.111637</td>\n",
       "    </tr>\n",
       "    <tr>\n",
       "      <th>B</th>\n",
       "      <td>0.015214</td>\n",
       "      <td>1.365262</td>\n",
       "      <td>2.118572</td>\n",
       "      <td>-0.965446</td>\n",
       "    </tr>\n",
       "    <tr>\n",
       "      <th>C</th>\n",
       "      <td>-1.380826</td>\n",
       "      <td>-1.129946</td>\n",
       "      <td>0.184108</td>\n",
       "      <td>0.102300</td>\n",
       "    </tr>\n",
       "    <tr>\n",
       "      <th>D</th>\n",
       "      <td>-0.251624</td>\n",
       "      <td>-0.662389</td>\n",
       "      <td>0.732639</td>\n",
       "      <td>0.710771</td>\n",
       "    </tr>\n",
       "    <tr>\n",
       "      <th>E</th>\n",
       "      <td>0.413708</td>\n",
       "      <td>0.398327</td>\n",
       "      <td>0.431519</td>\n",
       "      <td>-0.444353</td>\n",
       "    </tr>\n",
       "  </tbody>\n",
       "</table>\n",
       "</div>"
      ],
      "text/plain": [
       "          W         X         Y         Z\n",
       "A -0.144289  0.256526  0.356395 -1.111637\n",
       "B  0.015214  1.365262  2.118572 -0.965446\n",
       "C -1.380826 -1.129946  0.184108  0.102300\n",
       "D -0.251624 -0.662389  0.732639  0.710771\n",
       "E  0.413708  0.398327  0.431519 -0.444353"
      ]
     },
     "execution_count": 127,
     "metadata": {},
     "output_type": "execute_result"
    }
   ],
   "source": [
    "df = pd.DataFrame(rand_mat, index = 'A B C D E'.split(), columns = 'W X Y Z'.split())\n",
    "df"
   ]
  },
  {
   "cell_type": "code",
   "execution_count": null,
   "id": "293457a2",
   "metadata": {},
   "outputs": [],
   "source": [
    "# SELECTION & INDEXING"
   ]
  },
  {
   "cell_type": "code",
   "execution_count": 104,
   "id": "7fb6768e",
   "metadata": {},
   "outputs": [
    {
     "data": {
      "text/plain": [
       "A    0.173537\n",
       "B    1.470689\n",
       "C    0.197186\n",
       "D   -0.873710\n",
       "E   -0.159152\n",
       "Name: W, dtype: float64"
      ]
     },
     "execution_count": 104,
     "metadata": {},
     "output_type": "execute_result"
    }
   ],
   "source": [
    "df['W']\n",
    "# To fetch the entire column"
   ]
  },
  {
   "cell_type": "code",
   "execution_count": 105,
   "id": "42d4ef3f",
   "metadata": {},
   "outputs": [
    {
     "data": {
      "text/plain": [
       "pandas.core.series.Series"
      ]
     },
     "execution_count": 105,
     "metadata": {},
     "output_type": "execute_result"
    }
   ],
   "source": [
    "type(df['W'])"
   ]
  },
  {
   "cell_type": "code",
   "execution_count": 107,
   "id": "e17016af",
   "metadata": {},
   "outputs": [
    {
     "data": {
      "text/html": [
       "<div>\n",
       "<style scoped>\n",
       "    .dataframe tbody tr th:only-of-type {\n",
       "        vertical-align: middle;\n",
       "    }\n",
       "\n",
       "    .dataframe tbody tr th {\n",
       "        vertical-align: top;\n",
       "    }\n",
       "\n",
       "    .dataframe thead th {\n",
       "        text-align: right;\n",
       "    }\n",
       "</style>\n",
       "<table border=\"1\" class=\"dataframe\">\n",
       "  <thead>\n",
       "    <tr style=\"text-align: right;\">\n",
       "      <th></th>\n",
       "      <th>W</th>\n",
       "      <th>Z</th>\n",
       "    </tr>\n",
       "  </thead>\n",
       "  <tbody>\n",
       "    <tr>\n",
       "      <th>A</th>\n",
       "      <td>0.173537</td>\n",
       "      <td>0.829445</td>\n",
       "    </tr>\n",
       "    <tr>\n",
       "      <th>B</th>\n",
       "      <td>1.470689</td>\n",
       "      <td>-1.350043</td>\n",
       "    </tr>\n",
       "    <tr>\n",
       "      <th>C</th>\n",
       "      <td>0.197186</td>\n",
       "      <td>0.881326</td>\n",
       "    </tr>\n",
       "    <tr>\n",
       "      <th>D</th>\n",
       "      <td>-0.873710</td>\n",
       "      <td>-0.120910</td>\n",
       "    </tr>\n",
       "    <tr>\n",
       "      <th>E</th>\n",
       "      <td>-0.159152</td>\n",
       "      <td>-1.036922</td>\n",
       "    </tr>\n",
       "  </tbody>\n",
       "</table>\n",
       "</div>"
      ],
      "text/plain": [
       "          W         Z\n",
       "A  0.173537  0.829445\n",
       "B  1.470689 -1.350043\n",
       "C  0.197186  0.881326\n",
       "D -0.873710 -0.120910\n",
       "E -0.159152 -1.036922"
      ]
     },
     "execution_count": 107,
     "metadata": {},
     "output_type": "execute_result"
    }
   ],
   "source": [
    "df[['W', 'Z']]"
   ]
  },
  {
   "cell_type": "code",
   "execution_count": 108,
   "id": "7c739599",
   "metadata": {},
   "outputs": [
    {
     "data": {
      "text/plain": [
       "A    0.173537\n",
       "B    1.470689\n",
       "C    0.197186\n",
       "D   -0.873710\n",
       "E   -0.159152\n",
       "Name: W, dtype: float64"
      ]
     },
     "execution_count": 108,
     "metadata": {},
     "output_type": "execute_result"
    }
   ],
   "source": [
    "df.W\n",
    "# (this way is Not Recommended)"
   ]
  },
  {
   "cell_type": "code",
   "execution_count": 109,
   "id": "ebdbe3da",
   "metadata": {},
   "outputs": [
    {
     "data": {
      "text/plain": [
       "W    0.197186\n",
       "X   -0.335820\n",
       "Y   -0.467756\n",
       "Z    0.881326\n",
       "Name: C, dtype: float64"
      ]
     },
     "execution_count": 109,
     "metadata": {},
     "output_type": "execute_result"
    }
   ],
   "source": [
    "df.iloc[2]"
   ]
  },
  {
   "cell_type": "code",
   "execution_count": 130,
   "id": "b3f46a75",
   "metadata": {},
   "outputs": [
    {
     "data": {
      "text/html": [
       "<div>\n",
       "<style scoped>\n",
       "    .dataframe tbody tr th:only-of-type {\n",
       "        vertical-align: middle;\n",
       "    }\n",
       "\n",
       "    .dataframe tbody tr th {\n",
       "        vertical-align: top;\n",
       "    }\n",
       "\n",
       "    .dataframe thead th {\n",
       "        text-align: right;\n",
       "    }\n",
       "</style>\n",
       "<table border=\"1\" class=\"dataframe\">\n",
       "  <thead>\n",
       "    <tr style=\"text-align: right;\">\n",
       "      <th></th>\n",
       "      <th>W</th>\n",
       "      <th>X</th>\n",
       "      <th>Y</th>\n",
       "      <th>Z</th>\n",
       "    </tr>\n",
       "  </thead>\n",
       "  <tbody>\n",
       "    <tr>\n",
       "      <th>A</th>\n",
       "      <td>-0.144289</td>\n",
       "      <td>0.256526</td>\n",
       "      <td>0.356395</td>\n",
       "      <td>-1.111637</td>\n",
       "    </tr>\n",
       "    <tr>\n",
       "      <th>B</th>\n",
       "      <td>0.015214</td>\n",
       "      <td>1.365262</td>\n",
       "      <td>2.118572</td>\n",
       "      <td>-0.965446</td>\n",
       "    </tr>\n",
       "    <tr>\n",
       "      <th>C</th>\n",
       "      <td>-1.380826</td>\n",
       "      <td>-1.129946</td>\n",
       "      <td>0.184108</td>\n",
       "      <td>0.102300</td>\n",
       "    </tr>\n",
       "    <tr>\n",
       "      <th>D</th>\n",
       "      <td>-0.251624</td>\n",
       "      <td>-0.662389</td>\n",
       "      <td>0.732639</td>\n",
       "      <td>0.710771</td>\n",
       "    </tr>\n",
       "    <tr>\n",
       "      <th>E</th>\n",
       "      <td>0.413708</td>\n",
       "      <td>0.398327</td>\n",
       "      <td>0.431519</td>\n",
       "      <td>-0.444353</td>\n",
       "    </tr>\n",
       "    <tr>\n",
       "      <th>F</th>\n",
       "      <td>-0.129075</td>\n",
       "      <td>1.621787</td>\n",
       "      <td>2.474967</td>\n",
       "      <td>-2.077083</td>\n",
       "    </tr>\n",
       "  </tbody>\n",
       "</table>\n",
       "</div>"
      ],
      "text/plain": [
       "          W         X         Y         Z\n",
       "A -0.144289  0.256526  0.356395 -1.111637\n",
       "B  0.015214  1.365262  2.118572 -0.965446\n",
       "C -1.380826 -1.129946  0.184108  0.102300\n",
       "D -0.251624 -0.662389  0.732639  0.710771\n",
       "E  0.413708  0.398327  0.431519 -0.444353\n",
       "F -0.129075  1.621787  2.474967 -2.077083"
      ]
     },
     "execution_count": 130,
     "metadata": {},
     "output_type": "execute_result"
    }
   ],
   "source": [
    "df.loc['F'] = df.loc['A']+df.loc['B']\n",
    "df\n",
    "# will add new column F whose value is sum of values of A & B"
   ]
  },
  {
   "cell_type": "code",
   "execution_count": 131,
   "id": "b7e58f7d",
   "metadata": {},
   "outputs": [
    {
     "data": {
      "text/html": [
       "<div>\n",
       "<style scoped>\n",
       "    .dataframe tbody tr th:only-of-type {\n",
       "        vertical-align: middle;\n",
       "    }\n",
       "\n",
       "    .dataframe tbody tr th {\n",
       "        vertical-align: top;\n",
       "    }\n",
       "\n",
       "    .dataframe thead th {\n",
       "        text-align: right;\n",
       "    }\n",
       "</style>\n",
       "<table border=\"1\" class=\"dataframe\">\n",
       "  <thead>\n",
       "    <tr style=\"text-align: right;\">\n",
       "      <th></th>\n",
       "      <th>index</th>\n",
       "      <th>W</th>\n",
       "      <th>X</th>\n",
       "      <th>Y</th>\n",
       "      <th>Z</th>\n",
       "    </tr>\n",
       "  </thead>\n",
       "  <tbody>\n",
       "    <tr>\n",
       "      <th>0</th>\n",
       "      <td>A</td>\n",
       "      <td>-0.144289</td>\n",
       "      <td>0.256526</td>\n",
       "      <td>0.356395</td>\n",
       "      <td>-1.111637</td>\n",
       "    </tr>\n",
       "    <tr>\n",
       "      <th>1</th>\n",
       "      <td>B</td>\n",
       "      <td>0.015214</td>\n",
       "      <td>1.365262</td>\n",
       "      <td>2.118572</td>\n",
       "      <td>-0.965446</td>\n",
       "    </tr>\n",
       "    <tr>\n",
       "      <th>2</th>\n",
       "      <td>C</td>\n",
       "      <td>-1.380826</td>\n",
       "      <td>-1.129946</td>\n",
       "      <td>0.184108</td>\n",
       "      <td>0.102300</td>\n",
       "    </tr>\n",
       "    <tr>\n",
       "      <th>3</th>\n",
       "      <td>D</td>\n",
       "      <td>-0.251624</td>\n",
       "      <td>-0.662389</td>\n",
       "      <td>0.732639</td>\n",
       "      <td>0.710771</td>\n",
       "    </tr>\n",
       "    <tr>\n",
       "      <th>4</th>\n",
       "      <td>E</td>\n",
       "      <td>0.413708</td>\n",
       "      <td>0.398327</td>\n",
       "      <td>0.431519</td>\n",
       "      <td>-0.444353</td>\n",
       "    </tr>\n",
       "    <tr>\n",
       "      <th>5</th>\n",
       "      <td>F</td>\n",
       "      <td>-0.129075</td>\n",
       "      <td>1.621787</td>\n",
       "      <td>2.474967</td>\n",
       "      <td>-2.077083</td>\n",
       "    </tr>\n",
       "  </tbody>\n",
       "</table>\n",
       "</div>"
      ],
      "text/plain": [
       "  index         W         X         Y         Z\n",
       "0     A -0.144289  0.256526  0.356395 -1.111637\n",
       "1     B  0.015214  1.365262  2.118572 -0.965446\n",
       "2     C -1.380826 -1.129946  0.184108  0.102300\n",
       "3     D -0.251624 -0.662389  0.732639  0.710771\n",
       "4     E  0.413708  0.398327  0.431519 -0.444353\n",
       "5     F -0.129075  1.621787  2.474967 -2.077083"
      ]
     },
     "execution_count": 131,
     "metadata": {},
     "output_type": "execute_result"
    }
   ],
   "source": [
    "#  Reset to default 0,1,...n index\n",
    "df.reset_index()"
   ]
  },
  {
   "cell_type": "code",
   "execution_count": 132,
   "id": "c3360fc9",
   "metadata": {},
   "outputs": [
    {
     "data": {
      "text/plain": [
       "['DEL', 'UP', 'UK', 'TN', 'AP', 'KL']"
      ]
     },
     "execution_count": 132,
     "metadata": {},
     "output_type": "execute_result"
    }
   ],
   "source": [
    "newind = 'DEL UP UK TN AP KL'.split()\n",
    "newind\n",
    "#  NEW INDEX"
   ]
  },
  {
   "cell_type": "code",
   "execution_count": 133,
   "id": "42148a30",
   "metadata": {},
   "outputs": [
    {
     "data": {
      "text/html": [
       "<div>\n",
       "<style scoped>\n",
       "    .dataframe tbody tr th:only-of-type {\n",
       "        vertical-align: middle;\n",
       "    }\n",
       "\n",
       "    .dataframe tbody tr th {\n",
       "        vertical-align: top;\n",
       "    }\n",
       "\n",
       "    .dataframe thead th {\n",
       "        text-align: right;\n",
       "    }\n",
       "</style>\n",
       "<table border=\"1\" class=\"dataframe\">\n",
       "  <thead>\n",
       "    <tr style=\"text-align: right;\">\n",
       "      <th></th>\n",
       "      <th>W</th>\n",
       "      <th>X</th>\n",
       "      <th>Y</th>\n",
       "      <th>Z</th>\n",
       "      <th>States</th>\n",
       "    </tr>\n",
       "  </thead>\n",
       "  <tbody>\n",
       "    <tr>\n",
       "      <th>A</th>\n",
       "      <td>-0.144289</td>\n",
       "      <td>0.256526</td>\n",
       "      <td>0.356395</td>\n",
       "      <td>-1.111637</td>\n",
       "      <td>DEL</td>\n",
       "    </tr>\n",
       "    <tr>\n",
       "      <th>B</th>\n",
       "      <td>0.015214</td>\n",
       "      <td>1.365262</td>\n",
       "      <td>2.118572</td>\n",
       "      <td>-0.965446</td>\n",
       "      <td>UP</td>\n",
       "    </tr>\n",
       "    <tr>\n",
       "      <th>C</th>\n",
       "      <td>-1.380826</td>\n",
       "      <td>-1.129946</td>\n",
       "      <td>0.184108</td>\n",
       "      <td>0.102300</td>\n",
       "      <td>UK</td>\n",
       "    </tr>\n",
       "    <tr>\n",
       "      <th>D</th>\n",
       "      <td>-0.251624</td>\n",
       "      <td>-0.662389</td>\n",
       "      <td>0.732639</td>\n",
       "      <td>0.710771</td>\n",
       "      <td>TN</td>\n",
       "    </tr>\n",
       "    <tr>\n",
       "      <th>E</th>\n",
       "      <td>0.413708</td>\n",
       "      <td>0.398327</td>\n",
       "      <td>0.431519</td>\n",
       "      <td>-0.444353</td>\n",
       "      <td>AP</td>\n",
       "    </tr>\n",
       "    <tr>\n",
       "      <th>F</th>\n",
       "      <td>-0.129075</td>\n",
       "      <td>1.621787</td>\n",
       "      <td>2.474967</td>\n",
       "      <td>-2.077083</td>\n",
       "      <td>KL</td>\n",
       "    </tr>\n",
       "  </tbody>\n",
       "</table>\n",
       "</div>"
      ],
      "text/plain": [
       "          W         X         Y         Z States\n",
       "A -0.144289  0.256526  0.356395 -1.111637    DEL\n",
       "B  0.015214  1.365262  2.118572 -0.965446     UP\n",
       "C -1.380826 -1.129946  0.184108  0.102300     UK\n",
       "D -0.251624 -0.662389  0.732639  0.710771     TN\n",
       "E  0.413708  0.398327  0.431519 -0.444353     AP\n",
       "F -0.129075  1.621787  2.474967 -2.077083     KL"
      ]
     },
     "execution_count": 133,
     "metadata": {},
     "output_type": "execute_result"
    }
   ],
   "source": [
    "df['States'] = newind\n",
    "df"
   ]
  },
  {
   "cell_type": "code",
   "execution_count": 134,
   "id": "3d242cc0",
   "metadata": {},
   "outputs": [],
   "source": [
    "df.set_index('States', inplace=True)"
   ]
  },
  {
   "cell_type": "code",
   "execution_count": 135,
   "id": "5b6e6663",
   "metadata": {},
   "outputs": [
    {
     "data": {
      "text/html": [
       "<div>\n",
       "<style scoped>\n",
       "    .dataframe tbody tr th:only-of-type {\n",
       "        vertical-align: middle;\n",
       "    }\n",
       "\n",
       "    .dataframe tbody tr th {\n",
       "        vertical-align: top;\n",
       "    }\n",
       "\n",
       "    .dataframe thead th {\n",
       "        text-align: right;\n",
       "    }\n",
       "</style>\n",
       "<table border=\"1\" class=\"dataframe\">\n",
       "  <thead>\n",
       "    <tr style=\"text-align: right;\">\n",
       "      <th></th>\n",
       "      <th>W</th>\n",
       "      <th>X</th>\n",
       "      <th>Y</th>\n",
       "      <th>Z</th>\n",
       "    </tr>\n",
       "    <tr>\n",
       "      <th>States</th>\n",
       "      <th></th>\n",
       "      <th></th>\n",
       "      <th></th>\n",
       "      <th></th>\n",
       "    </tr>\n",
       "  </thead>\n",
       "  <tbody>\n",
       "    <tr>\n",
       "      <th>DEL</th>\n",
       "      <td>-0.144289</td>\n",
       "      <td>0.256526</td>\n",
       "      <td>0.356395</td>\n",
       "      <td>-1.111637</td>\n",
       "    </tr>\n",
       "    <tr>\n",
       "      <th>UP</th>\n",
       "      <td>0.015214</td>\n",
       "      <td>1.365262</td>\n",
       "      <td>2.118572</td>\n",
       "      <td>-0.965446</td>\n",
       "    </tr>\n",
       "    <tr>\n",
       "      <th>UK</th>\n",
       "      <td>-1.380826</td>\n",
       "      <td>-1.129946</td>\n",
       "      <td>0.184108</td>\n",
       "      <td>0.102300</td>\n",
       "    </tr>\n",
       "    <tr>\n",
       "      <th>TN</th>\n",
       "      <td>-0.251624</td>\n",
       "      <td>-0.662389</td>\n",
       "      <td>0.732639</td>\n",
       "      <td>0.710771</td>\n",
       "    </tr>\n",
       "    <tr>\n",
       "      <th>AP</th>\n",
       "      <td>0.413708</td>\n",
       "      <td>0.398327</td>\n",
       "      <td>0.431519</td>\n",
       "      <td>-0.444353</td>\n",
       "    </tr>\n",
       "    <tr>\n",
       "      <th>KL</th>\n",
       "      <td>-0.129075</td>\n",
       "      <td>1.621787</td>\n",
       "      <td>2.474967</td>\n",
       "      <td>-2.077083</td>\n",
       "    </tr>\n",
       "  </tbody>\n",
       "</table>\n",
       "</div>"
      ],
      "text/plain": [
       "               W         X         Y         Z\n",
       "States                                        \n",
       "DEL    -0.144289  0.256526  0.356395 -1.111637\n",
       "UP      0.015214  1.365262  2.118572 -0.965446\n",
       "UK     -1.380826 -1.129946  0.184108  0.102300\n",
       "TN     -0.251624 -0.662389  0.732639  0.710771\n",
       "AP      0.413708  0.398327  0.431519 -0.444353\n",
       "KL     -0.129075  1.621787  2.474967 -2.077083"
      ]
     },
     "execution_count": 135,
     "metadata": {},
     "output_type": "execute_result"
    }
   ],
   "source": [
    "df"
   ]
  },
  {
   "cell_type": "code",
   "execution_count": null,
   "id": "d6541ac4",
   "metadata": {},
   "outputs": [],
   "source": [
    "# Multi-Index and Index Hierarchy"
   ]
  },
  {
   "cell_type": "code",
   "execution_count": 136,
   "id": "57c3dfd9",
   "metadata": {},
   "outputs": [],
   "source": [
    "# Index levels\n",
    "outside = ['North', 'North', 'North', 'South', 'South', 'South']\n",
    "inside = newind"
   ]
  },
  {
   "cell_type": "code",
   "execution_count": 137,
   "id": "f124de5c",
   "metadata": {},
   "outputs": [
    {
     "data": {
      "text/plain": [
       "[('North', 'DEL'),\n",
       " ('North', 'UP'),\n",
       " ('North', 'UK'),\n",
       " ('South', 'TN'),\n",
       " ('South', 'AP'),\n",
       " ('South', 'KL')]"
      ]
     },
     "execution_count": 137,
     "metadata": {},
     "output_type": "execute_result"
    }
   ],
   "source": [
    "hier_index = list(zip(outside, inside))\n",
    "hier_index"
   ]
  },
  {
   "cell_type": "code",
   "execution_count": 139,
   "id": "1ec2078d",
   "metadata": {},
   "outputs": [
    {
     "data": {
      "text/plain": [
       "MultiIndex([('North', 'DEL'),\n",
       "            ('North',  'UP'),\n",
       "            ('North',  'UK'),\n",
       "            ('South',  'TN'),\n",
       "            ('South',  'AP'),\n",
       "            ('South',  'KL')],\n",
       "           )"
      ]
     },
     "execution_count": 139,
     "metadata": {},
     "output_type": "execute_result"
    }
   ],
   "source": [
    "hier_index = pd.MultiIndex.from_tuples(hier_index)\n",
    "hier_index"
   ]
  },
  {
   "cell_type": "code",
   "execution_count": 141,
   "id": "09cf2ece",
   "metadata": {},
   "outputs": [
    {
     "data": {
      "text/html": [
       "<div>\n",
       "<style scoped>\n",
       "    .dataframe tbody tr th:only-of-type {\n",
       "        vertical-align: middle;\n",
       "    }\n",
       "\n",
       "    .dataframe tbody tr th {\n",
       "        vertical-align: top;\n",
       "    }\n",
       "\n",
       "    .dataframe thead th {\n",
       "        text-align: right;\n",
       "    }\n",
       "</style>\n",
       "<table border=\"1\" class=\"dataframe\">\n",
       "  <thead>\n",
       "    <tr style=\"text-align: right;\">\n",
       "      <th></th>\n",
       "      <th></th>\n",
       "      <th>A</th>\n",
       "      <th>B</th>\n",
       "    </tr>\n",
       "  </thead>\n",
       "  <tbody>\n",
       "    <tr>\n",
       "      <th rowspan=\"3\" valign=\"top\">North</th>\n",
       "      <th>DEL</th>\n",
       "      <td>1.482350</td>\n",
       "      <td>-0.033940</td>\n",
       "    </tr>\n",
       "    <tr>\n",
       "      <th>UP</th>\n",
       "      <td>0.490844</td>\n",
       "      <td>1.459586</td>\n",
       "    </tr>\n",
       "    <tr>\n",
       "      <th>UK</th>\n",
       "      <td>1.306679</td>\n",
       "      <td>-0.269997</td>\n",
       "    </tr>\n",
       "    <tr>\n",
       "      <th rowspan=\"3\" valign=\"top\">South</th>\n",
       "      <th>TN</th>\n",
       "      <td>0.200385</td>\n",
       "      <td>-0.011374</td>\n",
       "    </tr>\n",
       "    <tr>\n",
       "      <th>AP</th>\n",
       "      <td>1.851014</td>\n",
       "      <td>-2.195063</td>\n",
       "    </tr>\n",
       "    <tr>\n",
       "      <th>KL</th>\n",
       "      <td>0.389175</td>\n",
       "      <td>-0.394603</td>\n",
       "    </tr>\n",
       "  </tbody>\n",
       "</table>\n",
       "</div>"
      ],
      "text/plain": [
       "                  A         B\n",
       "North DEL  1.482350 -0.033940\n",
       "      UP   0.490844  1.459586\n",
       "      UK   1.306679 -0.269997\n",
       "South TN   0.200385 -0.011374\n",
       "      AP   1.851014 -2.195063\n",
       "      KL   0.389175 -0.394603"
      ]
     },
     "execution_count": 141,
     "metadata": {},
     "output_type": "execute_result"
    }
   ],
   "source": [
    "df = pd.DataFrame(np.random.randn(6,2), index = hier_index, columns = ['A', 'B'])\n",
    "df"
   ]
  },
  {
   "cell_type": "code",
   "execution_count": 142,
   "id": "dbd5dd72",
   "metadata": {},
   "outputs": [
    {
     "data": {
      "text/html": [
       "<div>\n",
       "<style scoped>\n",
       "    .dataframe tbody tr th:only-of-type {\n",
       "        vertical-align: middle;\n",
       "    }\n",
       "\n",
       "    .dataframe tbody tr th {\n",
       "        vertical-align: top;\n",
       "    }\n",
       "\n",
       "    .dataframe thead th {\n",
       "        text-align: right;\n",
       "    }\n",
       "</style>\n",
       "<table border=\"1\" class=\"dataframe\">\n",
       "  <thead>\n",
       "    <tr style=\"text-align: right;\">\n",
       "      <th></th>\n",
       "      <th>A</th>\n",
       "      <th>B</th>\n",
       "    </tr>\n",
       "  </thead>\n",
       "  <tbody>\n",
       "    <tr>\n",
       "      <th>DEL</th>\n",
       "      <td>1.482350</td>\n",
       "      <td>-0.033940</td>\n",
       "    </tr>\n",
       "    <tr>\n",
       "      <th>UP</th>\n",
       "      <td>0.490844</td>\n",
       "      <td>1.459586</td>\n",
       "    </tr>\n",
       "    <tr>\n",
       "      <th>UK</th>\n",
       "      <td>1.306679</td>\n",
       "      <td>-0.269997</td>\n",
       "    </tr>\n",
       "  </tbody>\n",
       "</table>\n",
       "</div>"
      ],
      "text/plain": [
       "            A         B\n",
       "DEL  1.482350 -0.033940\n",
       "UP   0.490844  1.459586\n",
       "UK   1.306679 -0.269997"
      ]
     },
     "execution_count": 142,
     "metadata": {},
     "output_type": "execute_result"
    }
   ],
   "source": [
    "df.loc['North']\n",
    "# it will fetch only North Data"
   ]
  },
  {
   "cell_type": "code",
   "execution_count": 143,
   "id": "151dad6e",
   "metadata": {},
   "outputs": [
    {
     "data": {
      "text/plain": [
       "A    1.48235\n",
       "B   -0.03394\n",
       "Name: DEL, dtype: float64"
      ]
     },
     "execution_count": 143,
     "metadata": {},
     "output_type": "execute_result"
    }
   ],
   "source": [
    "df.loc['North'].loc['DEL']\n",
    "# to fetch data of north and specifically of DEL"
   ]
  },
  {
   "cell_type": "code",
   "execution_count": 144,
   "id": "d330ff85",
   "metadata": {},
   "outputs": [
    {
     "data": {
      "text/plain": [
       "FrozenList([None, None])"
      ]
     },
     "execution_count": 144,
     "metadata": {},
     "output_type": "execute_result"
    }
   ],
   "source": [
    "# Index has not assigned to any names\n",
    "df.index.names"
   ]
  },
  {
   "cell_type": "code",
   "execution_count": 146,
   "id": "33c9ec1f",
   "metadata": {},
   "outputs": [
    {
     "data": {
      "text/html": [
       "<div>\n",
       "<style scoped>\n",
       "    .dataframe tbody tr th:only-of-type {\n",
       "        vertical-align: middle;\n",
       "    }\n",
       "\n",
       "    .dataframe tbody tr th {\n",
       "        vertical-align: top;\n",
       "    }\n",
       "\n",
       "    .dataframe thead th {\n",
       "        text-align: right;\n",
       "    }\n",
       "</style>\n",
       "<table border=\"1\" class=\"dataframe\">\n",
       "  <thead>\n",
       "    <tr style=\"text-align: right;\">\n",
       "      <th></th>\n",
       "      <th></th>\n",
       "      <th>A</th>\n",
       "      <th>B</th>\n",
       "    </tr>\n",
       "    <tr>\n",
       "      <th>Region</th>\n",
       "      <th>States</th>\n",
       "      <th></th>\n",
       "      <th></th>\n",
       "    </tr>\n",
       "  </thead>\n",
       "  <tbody>\n",
       "    <tr>\n",
       "      <th rowspan=\"3\" valign=\"top\">North</th>\n",
       "      <th>DEL</th>\n",
       "      <td>1.482350</td>\n",
       "      <td>-0.033940</td>\n",
       "    </tr>\n",
       "    <tr>\n",
       "      <th>UP</th>\n",
       "      <td>0.490844</td>\n",
       "      <td>1.459586</td>\n",
       "    </tr>\n",
       "    <tr>\n",
       "      <th>UK</th>\n",
       "      <td>1.306679</td>\n",
       "      <td>-0.269997</td>\n",
       "    </tr>\n",
       "    <tr>\n",
       "      <th rowspan=\"3\" valign=\"top\">South</th>\n",
       "      <th>TN</th>\n",
       "      <td>0.200385</td>\n",
       "      <td>-0.011374</td>\n",
       "    </tr>\n",
       "    <tr>\n",
       "      <th>AP</th>\n",
       "      <td>1.851014</td>\n",
       "      <td>-2.195063</td>\n",
       "    </tr>\n",
       "    <tr>\n",
       "      <th>KL</th>\n",
       "      <td>0.389175</td>\n",
       "      <td>-0.394603</td>\n",
       "    </tr>\n",
       "  </tbody>\n",
       "</table>\n",
       "</div>"
      ],
      "text/plain": [
       "                      A         B\n",
       "Region States                    \n",
       "North  DEL     1.482350 -0.033940\n",
       "       UP      0.490844  1.459586\n",
       "       UK      1.306679 -0.269997\n",
       "South  TN      0.200385 -0.011374\n",
       "       AP      1.851014 -2.195063\n",
       "       KL      0.389175 -0.394603"
      ]
     },
     "execution_count": 146,
     "metadata": {},
     "output_type": "execute_result"
    }
   ],
   "source": [
    "df.index.names = ['Region', 'States']\n",
    "df"
   ]
  },
  {
   "cell_type": "code",
   "execution_count": 159,
   "id": "b363850f",
   "metadata": {},
   "outputs": [
    {
     "ename": "TypeError",
     "evalue": "'str' object is not callable",
     "output_type": "error",
     "traceback": [
      "\u001b[1;31m---------------------------------------------------------------------------\u001b[0m",
      "\u001b[1;31mTypeError\u001b[0m                                 Traceback (most recent call last)",
      "Input \u001b[1;32mIn [159]\u001b[0m, in \u001b[0;36m<cell line: 1>\u001b[1;34m()\u001b[0m\n\u001b[1;32m----> 1\u001b[0m \u001b[43mdf\u001b[49m\u001b[38;5;241;43m.\u001b[39;49m\u001b[43mxs\u001b[49m\u001b[43m(\u001b[49m\u001b[38;5;124;43m'\u001b[39;49m\u001b[38;5;124;43mNorth\u001b[39;49m\u001b[38;5;124;43m'\u001b[39;49m\u001b[43m)\u001b[49m\n",
      "\u001b[1;31mTypeError\u001b[0m: 'str' object is not callable"
     ]
    }
   ],
   "source": [
    "df.xs('North')"
   ]
  }
 ],
 "metadata": {
  "kernelspec": {
   "display_name": "Python 3 (ipykernel)",
   "language": "python",
   "name": "python3"
  },
  "language_info": {
   "codemirror_mode": {
    "name": "ipython",
    "version": 3
   },
   "file_extension": ".py",
   "mimetype": "text/x-python",
   "name": "python",
   "nbconvert_exporter": "python",
   "pygments_lexer": "ipython3",
   "version": "3.9.12"
  }
 },
 "nbformat": 4,
 "nbformat_minor": 5
}
